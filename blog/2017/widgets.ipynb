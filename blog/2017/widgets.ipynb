{
 "cells": [
  {
   "cell_type": "code",
   "execution_count": 4,
   "metadata": {
    "collapsed": true
   },
   "outputs": [],
   "source": [
    "%matplotlib inline\n",
    "import matplotlib.pyplot as plt\n",
    "import numpy as np\n",
    "def f(x):\n",
    "    x_o =np.random.randn(100)\n",
    "    y = x*x_o + 1000*np.random.random()\n",
    "    plt.scatter(x_o, y)\n",
    "    plt.title(x)\n",
    "    plt.show()\n",
    "\n",
    "def f(x):\n",
    "    print x"
   ]
  },
  {
   "cell_type": "code",
   "execution_count": 5,
   "metadata": {
    "collapsed": true
   },
   "outputs": [],
   "source": [
    "from ipywidgets import interact, interactive, fixed, interact_manual\n",
    "import ipywidgets as widgets"
   ]
  },
  {
   "cell_type": "code",
   "execution_count": 6,
   "metadata": {},
   "outputs": [
    {
     "data": {
      "application/vnd.jupyter.widget-view+json": {
       "model_id": "bc51c2ecc283466497ba29eb6744385b"
      }
     },
     "metadata": {},
     "output_type": "display_data"
    }
   ],
   "source": [
    "interact(f, x=10);"
   ]
  },
  {
   "cell_type": "markdown",
   "metadata": {},
   "source": [
    "<script src=\"https://unpkg.com/jupyter-js-widgets@~2.1.4/dist/embed.js\"></script>\n",
    "<script type=\"application/vnd.jupyter.widget-state+json\">\n",
    "{\n",
    "    \"version_major\": 1,\n",
    "    \"version_minor\": 0,\n",
    "    \"state\": {\n",
    "        \"48b074dfca68481882ffb083485eb7be\": {\n",
    "            \"model_name\": \"LayoutModel\",\n",
    "            \"model_module\": \"jupyter-js-widgets\",\n",
    "            \"model_module_version\": \"~2.1.4\",\n",
    "            \"state\": {\n",
    "                \"_model_module_version\": \"~2.1.4\",\n",
    "                \"_view_module_version\": \"~2.1.4\"\n",
    "            }\n",
    "        },\n",
    "        \"0371adb8b73e41018d70de03f411f503\": {\n",
    "            \"model_name\": \"VBoxModel\",\n",
    "            \"model_module\": \"jupyter-js-widgets\",\n",
    "            \"model_module_version\": \"~2.1.4\",\n",
    "            \"state\": {\n",
    "                \"_dom_classes\": [\n",
    "                    \"widget-interact\"\n",
    "                ],\n",
    "                \"_model_module_version\": \"~2.1.4\",\n",
    "                \"_view_module_version\": \"~2.1.4\",\n",
    "                \"layout\": \"IPY_MODEL_48b074dfca68481882ffb083485eb7be\",\n",
    "                \"children\": [\n",
    "                    \"IPY_MODEL_3b7ed4316cac450d894cf586cd167485\",\n",
    "                    \"IPY_MODEL_996fb2677f0546d1ad0fff1f51aa82e6\"\n",
    "                ]\n",
    "            }\n",
    "        },\n",
    "        \"5291af12ac8643669833e880f4301917\": {\n",
    "            \"model_name\": \"SliderStyleModel\",\n",
    "            \"model_module\": \"jupyter-js-widgets\",\n",
    "            \"model_module_version\": \"~2.1.4\",\n",
    "            \"state\": {\n",
    "                \"_model_module_version\": \"~2.1.4\",\n",
    "                \"_view_module_version\": \"~2.1.4\"\n",
    "            }\n",
    "        },\n",
    "        \"55c25ffb87f849d9bebce38cef5b2d2a\": {\n",
    "            \"model_name\": \"LayoutModel\",\n",
    "            \"model_module\": \"jupyter-js-widgets\",\n",
    "            \"model_module_version\": \"~2.1.4\",\n",
    "            \"state\": {\n",
    "                \"_model_module_version\": \"~2.1.4\",\n",
    "                \"_view_module_version\": \"~2.1.4\"\n",
    "            }\n",
    "        },\n",
    "        \"3b7ed4316cac450d894cf586cd167485\": {\n",
    "            \"model_name\": \"IntSliderModel\",\n",
    "            \"model_module\": \"jupyter-js-widgets\",\n",
    "            \"model_module_version\": \"~2.1.4\",\n",
    "            \"state\": {\n",
    "                \"style\": \"IPY_MODEL_5291af12ac8643669833e880f4301917\",\n",
    "                \"layout\": \"IPY_MODEL_55c25ffb87f849d9bebce38cef5b2d2a\",\n",
    "                \"min\": -10,\n",
    "                \"max\": 30,\n",
    "                \"_model_module_version\": \"~2.1.4\",\n",
    "                \"value\": 18,\n",
    "                \"_view_module_version\": \"~2.1.4\",\n",
    "                \"description\": \"x\"\n",
    "            }\n",
    "        },\n",
    "        \"b2c9f2a1520b4730b6851bbc0c9c1e8b\": {\n",
    "            \"model_name\": \"LayoutModel\",\n",
    "            \"model_module\": \"jupyter-js-widgets\",\n",
    "            \"model_module_version\": \"~2.1.4\",\n",
    "            \"state\": {\n",
    "                \"_model_module_version\": \"~2.1.4\",\n",
    "                \"_view_module_version\": \"~2.1.4\"\n",
    "            }\n",
    "        },\n",
    "        \"996fb2677f0546d1ad0fff1f51aa82e6\": {\n",
    "            \"model_name\": \"OutputModel\",\n",
    "            \"model_module\": \"jupyter-js-widgets\",\n",
    "            \"model_module_version\": \"~2.1.4\",\n",
    "            \"state\": {\n",
    "                \"_view_module\": \"jupyter-js-widgets\",\n",
    "                \"_dom_classes\": [],\n",
    "                \"msg_throttle\": 1,\n",
    "                \"_model_module_version\": \"~2.1.4\",\n",
    "                \"_view_module_version\": \"~2.1.4\",\n",
    "                \"layout\": \"IPY_MODEL_b2c9f2a1520b4730b6851bbc0c9c1e8b\",\n",
    "                \"_model_module\": \"jupyter-js-widgets\"\n",
    "            }\n",
    "        }\n",
    "    }\n",
    "}\n",
    "</script>\n",
    "<script type=\"application/vnd.jupyter.widget-view+json\">\n",
    "{\n",
    "    \"model_id\": \"0371adb8b73e41018d70de03f411f503\"\n",
    "}\n",
    "</script>"
   ]
  },
  {
   "cell_type": "code",
   "execution_count": null,
   "metadata": {
    "collapsed": true
   },
   "outputs": [],
   "source": []
  }
 ],
 "metadata": {
  "kernelspec": {
   "display_name": "Python 2",
   "language": "python",
   "name": "python2"
  },
  "language_info": {
   "codemirror_mode": {
    "name": "ipython",
    "version": 2
   },
   "file_extension": ".py",
   "mimetype": "text/x-python",
   "name": "python",
   "nbconvert_exporter": "python",
   "pygments_lexer": "ipython2",
   "version": "2.7.11"
  },
  "widgets": {
   "application/vnd.jupyter.widget-state+json": {
    "state": {
     "205a6c23552a49b6b95e8bab184d00af": {
      "model_module": "jupyter-js-widgets",
      "model_module_version": "~2.1.4",
      "model_name": "OutputModel",
      "state": {
       "_dom_classes": [],
       "_model_module": "jupyter-js-widgets",
       "_model_module_version": "~2.1.4",
       "_view_module": "jupyter-js-widgets",
       "_view_module_version": "~2.1.4",
       "layout": "IPY_MODEL_a5779e717de64b03ab9fff749a093cfc",
       "msg_throttle": 1
      }
     },
     "2ac4e3b6191e4f6da2de1b16bd27f786": {
      "model_module": "jupyter-js-widgets",
      "model_module_version": "~2.1.4",
      "model_name": "IntSliderModel",
      "state": {
       "_model_module_version": "~2.1.4",
       "_view_module_version": "~2.1.4",
       "description": "x",
       "layout": "IPY_MODEL_36fee8a95f45456fb92f8bd90b8c9765",
       "max": 30,
       "min": -10,
       "style": "IPY_MODEL_fdb53bac4ddf4290ba49402f7a15413f",
       "value": 21
      }
     },
     "36fee8a95f45456fb92f8bd90b8c9765": {
      "model_module": "jupyter-js-widgets",
      "model_module_version": "~2.1.4",
      "model_name": "LayoutModel",
      "state": {
       "_model_module_version": "~2.1.4",
       "_view_module_version": "~2.1.4"
      }
     },
     "47e11e57265142c79487ad29f145a12e": {
      "model_module": "jupyter-js-widgets",
      "model_module_version": "~2.1.4",
      "model_name": "VBoxModel",
      "state": {
       "_dom_classes": [
        "widget-interact"
       ],
       "_model_module_version": "~2.1.4",
       "_view_module_version": "~2.1.4",
       "children": [
        "IPY_MODEL_2ac4e3b6191e4f6da2de1b16bd27f786",
        "IPY_MODEL_205a6c23552a49b6b95e8bab184d00af"
       ],
       "layout": "IPY_MODEL_77bf2a48a02b4082a9d518003bb9baf8"
      }
     },
     "77bf2a48a02b4082a9d518003bb9baf8": {
      "model_module": "jupyter-js-widgets",
      "model_module_version": "~2.1.4",
      "model_name": "LayoutModel",
      "state": {
       "_model_module_version": "~2.1.4",
       "_view_module_version": "~2.1.4"
      }
     },
     "a5779e717de64b03ab9fff749a093cfc": {
      "model_module": "jupyter-js-widgets",
      "model_module_version": "~2.1.4",
      "model_name": "LayoutModel",
      "state": {
       "_model_module_version": "~2.1.4",
       "_view_module_version": "~2.1.4"
      }
     },
     "fdb53bac4ddf4290ba49402f7a15413f": {
      "model_module": "jupyter-js-widgets",
      "model_module_version": "~2.1.4",
      "model_name": "SliderStyleModel",
      "state": {
       "_model_module_version": "~2.1.4",
       "_view_module_version": "~2.1.4"
      }
     }
    },
    "version_major": 1,
    "version_minor": 0
   }
  }
 },
 "nbformat": 4,
 "nbformat_minor": 1
}
