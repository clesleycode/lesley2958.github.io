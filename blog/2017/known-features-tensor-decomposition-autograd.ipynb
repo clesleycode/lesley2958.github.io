{
 "cells": [
  {
   "cell_type": "markdown",
   "metadata": {},
   "source": [
    "# Tensor decomposition using Autograd with known features/factors"
   ]
  },
  {
   "cell_type": "markdown",
   "metadata": {},
   "source": [
    "In a [previous post](), this post, I will compare an Autograd based implementation with a standard Tensorly based PARAFAC implementation."
   ]
  },
  {
   "cell_type": "markdown",
   "metadata": {},
   "source": [
    "### Imports"
   ]
  },
  {
   "cell_type": "code",
   "execution_count": 1,
   "metadata": {
    "collapsed": true
   },
   "outputs": [],
   "source": [
    "import autograd.numpy as np\n",
    "import tensorly\n",
    "from tensorly.decomposition import parafac\n",
    "from autograd import multigrad"
   ]
  },
  {
   "cell_type": "markdown",
   "metadata": {},
   "source": [
    "### Creating a tensor of size 2, 3, 4 from known factors"
   ]
  },
  {
   "cell_type": "code",
   "execution_count": 33,
   "metadata": {
    "collapsed": true
   },
   "outputs": [],
   "source": [
    "rank = 2\n",
    "A_gt, B_gt, C_gt = np.random.rand(2, rank), np.random.rand(3, rank), np.random.rand(4, rank)"
   ]
  },
  {
   "cell_type": "code",
   "execution_count": 34,
   "metadata": {},
   "outputs": [
    {
     "data": {
      "text/plain": [
       "array([[ 0.11827443,  0.63992102],\n",
       "       [ 0.14335329,  0.94466892]])"
      ]
     },
     "execution_count": 34,
     "metadata": {},
     "output_type": "execute_result"
    }
   ],
   "source": [
    "A_gt"
   ]
  },
  {
   "cell_type": "code",
   "execution_count": 35,
   "metadata": {},
   "outputs": [
    {
     "data": {
      "text/plain": [
       "array([[ 0.52184832,  0.41466194],\n",
       "       [ 0.26455561,  0.77423369],\n",
       "       [ 0.45615033,  0.56843395]])"
      ]
     },
     "execution_count": 35,
     "metadata": {},
     "output_type": "execute_result"
    }
   ],
   "source": [
    "B_gt"
   ]
  },
  {
   "cell_type": "code",
   "execution_count": 36,
   "metadata": {},
   "outputs": [
    {
     "data": {
      "text/plain": [
       "array([[ 0.0187898 ,  0.6176355 ],\n",
       "       [ 0.61209572,  0.616934  ],\n",
       "       [ 0.94374808,  0.6818203 ],\n",
       "       [ 0.3595079 ,  0.43703195]])"
      ]
     },
     "execution_count": 36,
     "metadata": {},
     "output_type": "execute_result"
    }
   ],
   "source": [
    "C_gt"
   ]
  },
  {
   "cell_type": "code",
   "execution_count": 16,
   "metadata": {
    "collapsed": true
   },
   "outputs": [],
   "source": [
    "t = np.divide(np.arange(24).reshape(2, 3, 4).astype('float32'), 23)"
   ]
  },
  {
   "cell_type": "code",
   "execution_count": 17,
   "metadata": {},
   "outputs": [
    {
     "data": {
      "text/plain": [
       "array([[[ 0.        ,  0.04347826,  0.08695652,  0.13043478],\n",
       "        [ 0.17391305,  0.2173913 ,  0.26086956,  0.30434781],\n",
       "        [ 0.34782609,  0.39130434,  0.43478259,  0.47826087]],\n",
       "\n",
       "       [[ 0.52173913,  0.56521738,  0.60869563,  0.65217394],\n",
       "        [ 0.69565219,  0.73913044,  0.78260869,  0.82608694],\n",
       "        [ 0.86956519,  0.9130435 ,  0.95652175,  1.        ]]], dtype=float32)"
      ]
     },
     "execution_count": 17,
     "metadata": {},
     "output_type": "execute_result"
    }
   ],
   "source": [
    "t"
   ]
  },
  {
   "cell_type": "code",
   "execution_count": 22,
   "metadata": {
    "collapsed": true
   },
   "outputs": [],
   "source": [
    "def khatri(A, B, C):\n",
    "    return np.einsum('il,jl,kl->ijk',A,B,C)"
   ]
  },
  {
   "cell_type": "code",
   "execution_count": 40,
   "metadata": {},
   "outputs": [
    {
     "data": {
      "text/plain": [
       "array([[[ 0.16504986,  0.20148334,  0.23917099,  0.13815612],\n",
       "        [ 0.30659446,  0.32481154,  0.36733682,  0.22777585],\n",
       "        [ 0.22568039,  0.25743462,  0.29893014,  0.17836739]],\n",
       "\n",
       "       [[ 0.24334473,  0.28745437,  0.33768199,  0.1980877 ],\n",
       "        [ 0.45244781,  0.47443581,  0.53447118,  0.33327707],\n",
       "        [ 0.33288775,  0.37130772,  0.42783745,  0.2581867 ]]])"
      ]
     },
     "execution_count": 40,
     "metadata": {},
     "output_type": "execute_result"
    }
   ],
   "source": [
    "tensor = khatri(A_gt, B_gt, C_gt)\n",
    "tensor"
   ]
  },
  {
   "cell_type": "code",
   "execution_count": 47,
   "metadata": {},
   "outputs": [],
   "source": [
    "B_known = B_gt[:,0]"
   ]
  },
  {
   "cell_type": "markdown",
   "metadata": {},
   "source": [
    "### Using Tensorly to break it into rank 2 matrices"
   ]
  },
  {
   "cell_type": "code",
   "execution_count": 49,
   "metadata": {
    "collapsed": true
   },
   "outputs": [],
   "source": [
    "A, B, C = parafac(tensor, rank=2)"
   ]
  },
  {
   "cell_type": "code",
   "execution_count": 50,
   "metadata": {},
   "outputs": [
    {
     "data": {
      "text/plain": [
       "array([[-0.87198474,  0.02603646],\n",
       "       [-1.27530509,  0.02846338]])"
      ]
     },
     "execution_count": 50,
     "metadata": {},
     "output_type": "execute_result"
    }
   ],
   "source": [
    "A"
   ]
  },
  {
   "cell_type": "code",
   "execution_count": 51,
   "metadata": {},
   "outputs": [
    {
     "data": {
      "text/plain": [
       "array([[-0.40776048, -1.06508155],\n",
       "       [-0.71907855, -0.12387509],\n",
       "       [-0.54353673, -0.77904427]])"
      ]
     },
     "execution_count": 51,
     "metadata": {},
     "output_type": "execute_result"
    }
   ],
   "source": [
    "B"
   ]
  },
  {
   "cell_type": "code",
   "execution_count": 52,
   "metadata": {},
   "outputs": [
    {
     "data": {
      "text/plain": [
       "array([[ 0.49362099,  0.41260138],\n",
       "       [ 0.51472576, -0.65887442],\n",
       "       [ 0.57862185, -1.21062624],\n",
       "       [ 0.36192267, -0.33299139]])"
      ]
     },
     "execution_count": 52,
     "metadata": {},
     "output_type": "execute_result"
    }
   ],
   "source": [
    "C"
   ]
  },
  {
   "cell_type": "code",
   "execution_count": 53,
   "metadata": {},
   "outputs": [
    {
     "data": {
      "text/plain": [
       "array([[[ 0.1640705 ,  0.20128758,  0.23930713,  0.13791972],\n",
       "        [ 0.30818221,  0.32487124,  0.36671526,  0.22800874],\n",
       "        [ 0.22558548,  0.25732154,  0.29879695,  0.17828958]],\n",
       "\n",
       "       [[ 0.24418395,  0.2876415 ,  0.33759549,  0.19830158],\n",
       "        [ 0.45121763,  0.47434957,  0.53489055,  0.3330733 ],\n",
       "        [ 0.33301668,  0.37140515,  0.427931  ,  0.25825963]]])"
      ]
     },
     "execution_count": 53,
     "metadata": {},
     "output_type": "execute_result"
    }
   ],
   "source": [
    "khatri(A, B, C)"
   ]
  },
  {
   "cell_type": "markdown",
   "metadata": {},
   "source": [
    "### Cost function for GD based optimisation"
   ]
  },
  {
   "cell_type": "code",
   "execution_count": 54,
   "metadata": {
    "collapsed": true
   },
   "outputs": [],
   "source": [
    "def cost(A, B, C):\n",
    "    pred = khatri(A, B, C)\n",
    "    gt = t\n",
    "    mask = ~np.isnan(t)\n",
    "    error = (pred-gt)[mask].flatten()\n",
    "    return np.sqrt((error**2).mean())"
   ]
  },
  {
   "cell_type": "markdown",
   "metadata": {},
   "source": [
    "### Main autograd routine"
   ]
  },
  {
   "cell_type": "code",
   "execution_count": 55,
   "metadata": {},
   "outputs": [],
   "source": [
    "def gd_decomposition(tensor, rank, m, n, o):\n",
    "    mg = multigrad(cost, argnums=[0, 1, 2])\n",
    "    lr = 0.01\n",
    "    np.random.seed(0)\n",
    "    m, n, o = t.shape\n",
    "    a = np.random.randn(m, rank)\n",
    "    b = np.random.randn(n, rank)\n",
    "    c = np.random.randn(o, rank)\n",
    "\n",
    "    for i in range(6000):\n",
    "        del_a, del_b, del_c = mg(a, b, c)\n",
    "        a-=lr*del_a\n",
    "        b-=lr*del_b\n",
    "        c-=lr*del_c\n",
    "        if i%500==0:\n",
    "            print(cost(a, b, c))\n",
    "    return a, b, c"
   ]
  },
  {
   "cell_type": "code",
   "execution_count": 57,
   "metadata": {},
   "outputs": [
    {
     "name": "stdout",
     "output_type": "stream",
     "text": [
      "1.59591131281\n",
      "0.146098790525\n",
      "0.0365466930582\n",
      "0.0239552866637\n",
      "0.0238907884086\n",
      "0.0238298129994\n",
      "0.0237694566118\n",
      "0.0237098809544\n",
      "0.0236512097445\n",
      "0.0235935252784\n",
      "0.02353687372\n",
      "0.0234812709369\n"
     ]
    }
   ],
   "source": [
    "m, n, o = tensor.shape\n",
    "a, b, c = gd_decomposition(tensor, 2, m, n, o)"
   ]
  },
  {
   "cell_type": "code",
   "execution_count": 58,
   "metadata": {},
   "outputs": [],
   "source": [
    "def gd_decomposition(tensor, rank, m, n, o, A_known=None, B_known=None, C_known=None):\n",
    "    def set_known(A, W):\n",
    "        mask = ~np.isnan(W)\n",
    "        A[:,:mask.shape[1]][mask] = W[mask]\n",
    "        return A\n",
    "    mg = multigrad(cost, argnums=[0, 1, 2])\n",
    "    lr = 0.01\n",
    "    np.random.seed(0)\n",
    "    m, n, o = t.shape\n",
    "    a = np.random.randn(m, rank)\n",
    "    b = np.random.randn(n, rank)\n",
    "    c = np.random.randn(o, rank)\n",
    "    \n",
    "    \n",
    "    for i in range(6000):\n",
    "        del_a, del_b, del_c = mg(a, b, c)\n",
    "        a-=lr*del_a\n",
    "        b-=lr*del_b\n",
    "        c-=lr*del_c\n",
    "        if A_known is not None:\n",
    "            a = set_known(a, A_known)\n",
    "        if B_known is not None:\n",
    "            b = set_known(b, B_known)\n",
    "        if C_known is not None:\n",
    "            c = set_known(c, C_known)\n",
    "\n",
    "        if i%500==0:\n",
    "            print(cost(a, b, c))\n",
    "    return a, b, c"
   ]
  },
  {
   "cell_type": "code",
   "execution_count": 66,
   "metadata": {},
   "outputs": [
    {
     "ename": "IndexError",
     "evalue": "too many indices for array",
     "output_type": "error",
     "traceback": [
      "\u001b[0;31m---------------------------------------------------------------------------\u001b[0m",
      "\u001b[0;31mIndexError\u001b[0m                                Traceback (most recent call last)",
      "\u001b[0;32m<ipython-input-66-f42af8c2d083>\u001b[0m in \u001b[0;36m<module>\u001b[0;34m()\u001b[0m\n\u001b[0;32m----> 1\u001b[0;31m \u001b[0mgd_decomposition\u001b[0m\u001b[0;34m(\u001b[0m\u001b[0mtensor\u001b[0m\u001b[0;34m,\u001b[0m \u001b[0;36m2\u001b[0m\u001b[0;34m,\u001b[0m \u001b[0mm\u001b[0m\u001b[0;34m,\u001b[0m \u001b[0mn\u001b[0m\u001b[0;34m,\u001b[0m \u001b[0mo\u001b[0m\u001b[0;34m,\u001b[0m \u001b[0mA_known\u001b[0m\u001b[0;34m=\u001b[0m\u001b[0mA_gt\u001b[0m\u001b[0;34m[\u001b[0m\u001b[0;34m:\u001b[0m\u001b[0;34m,\u001b[0m\u001b[0;34m:\u001b[0m\u001b[0;36m1\u001b[0m\u001b[0;34m,\u001b[0m\u001b[0;34m:\u001b[0m\u001b[0;34m]\u001b[0m\u001b[0;34m,\u001b[0m \u001b[0mB_known\u001b[0m\u001b[0;34m=\u001b[0m\u001b[0mB_gt\u001b[0m\u001b[0;34m[\u001b[0m\u001b[0;34m:\u001b[0m\u001b[0;34m,\u001b[0m\u001b[0;34m:\u001b[0m\u001b[0;36m1\u001b[0m\u001b[0;34m]\u001b[0m\u001b[0;34m,\u001b[0m \u001b[0mC_known\u001b[0m\u001b[0;34m=\u001b[0m\u001b[0mC_gt\u001b[0m\u001b[0;34m[\u001b[0m\u001b[0;34m:\u001b[0m\u001b[0;34m,\u001b[0m\u001b[0;34m:\u001b[0m\u001b[0;36m1\u001b[0m\u001b[0;34m]\u001b[0m\u001b[0;34m)\u001b[0m\u001b[0;34m\u001b[0m\u001b[0m\n\u001b[0m",
      "\u001b[0;31mIndexError\u001b[0m: too many indices for array"
     ]
    }
   ],
   "source": [
    "gd_decomposition(tensor, 2, m, n, o, A_known=A_gt[:,:1], B_known=B_gt[:,:1], C_known=C_gt[:,:1])"
   ]
  },
  {
   "cell_type": "markdown",
   "metadata": {},
   "source": [
    "### Decomposing with missing entries"
   ]
  },
  {
   "cell_type": "code",
   "execution_count": 15,
   "metadata": {},
   "outputs": [
    {
     "data": {
      "text/plain": [
       "array([[[ nan,   1.,   2.,   3.],\n",
       "        [  4.,   5.,   6.,   7.],\n",
       "        [  8.,   9.,  10.,  11.]],\n",
       "\n",
       "       [[ 12.,  13.,  14.,  15.],\n",
       "        [ 16.,  17.,  nan,  19.],\n",
       "        [ 20.,  21.,  22.,  23.]]], dtype=float32)"
      ]
     },
     "execution_count": 15,
     "metadata": {},
     "output_type": "execute_result"
    }
   ],
   "source": [
    "t[0, 0, 0] = np.NAN\n",
    "t[1, 1, 2] = np.NAN\n",
    "t"
   ]
  },
  {
   "cell_type": "code",
   "execution_count": 16,
   "metadata": {},
   "outputs": [
    {
     "name": "stdout",
     "output_type": "stream",
     "text": [
      "14.3657653138\n",
      "11.2554542723\n",
      "0.391440064205\n",
      "0.320089741632\n",
      "0.279150824088\n",
      "0.254263517167\n",
      "0.235274595444\n",
      "0.217495424995\n",
      "0.197602923558\n",
      "0.218594628293\n",
      "0.223672460718\n",
      "0.225830360065\n"
     ]
    }
   ],
   "source": [
    "rank = 2\n",
    "lr = 0.01\n",
    "\n",
    "np.random.seed(1)\n",
    "m, n, o = t.shape\n",
    "a = np.random.randn(m, rank)\n",
    "b = np.random.randn(n, rank)\n",
    "c = np.random.randn(o, rank)\n",
    "\n",
    "for i in range(6000):\n",
    "    del_a, del_b, del_c = mg(a, b, c)\n",
    "    a-=lr*del_a\n",
    "    b-=lr*del_b\n",
    "    c-=lr*del_c\n",
    "    if i%500==0:\n",
    "        print(cost(a, b, c))"
   ]
  },
  {
   "cell_type": "code",
   "execution_count": 17,
   "metadata": {},
   "outputs": [
    {
     "data": {
      "text/plain": [
       "array([[[ -0.,   1.,   2.,   3.],\n",
       "        [  4.,   5.,   6.,   7.],\n",
       "        [  8.,   9.,  10.,  11.]],\n",
       "\n",
       "       [[ 12.,  13.,  14.,  15.],\n",
       "        [ 16.,  17.,  18.,  19.],\n",
       "        [ 20.,  21.,  22.,  23.]]])"
      ]
     },
     "execution_count": 17,
     "metadata": {},
     "output_type": "execute_result"
    }
   ],
   "source": [
    "np.round(khatri(a, b, c))"
   ]
  },
  {
   "cell_type": "markdown",
   "metadata": {},
   "source": [
    "### What if we used a different seed?"
   ]
  },
  {
   "cell_type": "code",
   "execution_count": 18,
   "metadata": {},
   "outputs": [
    {
     "name": "stdout",
     "output_type": "stream",
     "text": [
      "13.1375238648\n",
      "1.42377956103\n",
      "1.26196020429\n",
      "0.47681451677\n",
      "0.476038335842\n",
      "0.475054930056\n",
      "0.47360718886\n",
      "0.471433455007\n",
      "0.468181835873\n",
      "0.463411604108\n",
      "0.456562523642\n",
      "0.446768595735\n"
     ]
    }
   ],
   "source": [
    "\n",
    "np.random.seed(0)\n",
    "m, n, o = t.shape\n",
    "a = np.random.randn(m, rank)\n",
    "b = np.random.randn(n, rank)\n",
    "c = np.random.randn(o, rank)\n",
    "\n",
    "for i in range(6000):\n",
    "    del_a, del_b, del_c = mg(a, b, c)\n",
    "    a-=lr*del_a\n",
    "    b-=lr*del_b\n",
    "    c-=lr*del_c\n",
    "    if i%500==0:\n",
    "        print(cost(a, b, c))"
   ]
  },
  {
   "cell_type": "code",
   "execution_count": 19,
   "metadata": {},
   "outputs": [
    {
     "data": {
      "text/plain": [
       "array([[[  2.,   1.,   2.,   3.],\n",
       "        [  5.,   5.,   6.,   6.],\n",
       "        [  9.,   9.,  10.,  10.]],\n",
       "\n",
       "       [[ 12.,  13.,  14.,  15.],\n",
       "        [ 16.,  17.,  18.,  19.],\n",
       "        [ 20.,  21.,  22.,  23.]]])"
      ]
     },
     "execution_count": 19,
     "metadata": {},
     "output_type": "execute_result"
    }
   ],
   "source": [
    "np.round(khatri(a, b, c))"
   ]
  },
  {
   "cell_type": "markdown",
   "metadata": {
    "collapsed": true
   },
   "source": [
    "Okay. Not so good result this time!"
   ]
  }
 ],
 "metadata": {
  "kernelspec": {
   "display_name": "Python 2",
   "language": "python",
   "name": "python2"
  },
  "language_info": {
   "codemirror_mode": {
    "name": "ipython",
    "version": 2
   },
   "file_extension": ".py",
   "mimetype": "text/x-python",
   "name": "python",
   "nbconvert_exporter": "python",
   "pygments_lexer": "ipython2",
   "version": "2.7.11"
  }
 },
 "nbformat": 4,
 "nbformat_minor": 1
}
