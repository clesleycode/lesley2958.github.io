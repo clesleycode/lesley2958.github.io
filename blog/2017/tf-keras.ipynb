{
 "cells": [
  {
   "cell_type": "markdown",
   "metadata": {},
   "source": [
    "# Tensor Factorisation in Keras"
   ]
  },
  {
   "cell_type": "markdown",
   "metadata": {},
   "source": [
    "I have written a [few](../nnmf-tensorflow.html) [posts](../nmf-autograd.html) [earlier](../nmf-cvx.html) [about](../nmf-out-matrix.html) [matrix](../mf-autograd-adagrad.html) [factorisation](../contrained-nmf-cvx.html) [using](../nmf-nnls.html) various Python libraries. The main application I had in mind for matrix factorisation was [recommender systems](https://en.wikipedia.org/wiki/Recommender_system). In this post, I'll write about using [Keras](https://keras.io) for creating recommender systems. [Various](https://github.com/maciejkula/triplet_recommendations_keras) [people](http://blog.richardweiss.org/2016/09/25/movie-embeddings.html) [have](https://github.com/bradleypallen/keras-movielens-cf) [written](https://github.com/hexiangnan/neural_collaborative_filtering) [excellent](https://github.com/sonyisme/keras-recommendation) [similar](http://course.fast.ai/lessons/lesson4.html) [posts](https://github.com/maciejkula/spotlight) and code that I draw a lot of inspiration from, and give them their credit! I'm assuming that a reader has some experience with Keras, as this post is not intended to be an introduction to Keras.\n",
    "\n",
    "Specifically, in this post, I'll talk about:\n",
    "\n",
    "1. Matrix Factorisation in Keras\n",
    "2. Adding non-negativitiy constraints to solve non-negative matrix factorisation (NNMF)\n",
    "3. Using neural networks for recommendations\n",
    "\n",
    "I'll be using the Movielens-100k dataset for illustration. There are 943 users and 1682 movies. In total there are a 100k ratings in the dataset. It should be noted that the max. total number of rating for the <users, movies> would be 943*1682, which means that we have about 7% of the total ratings! All rating are on a scale of 1-5. "
   ]
  },
  {
   "cell_type": "markdown",
   "metadata": {},
   "source": [
    "### **Task**\n",
    "\n",
    "Given this set of ratings, can we recommend the next set of movies to a user? This would translate to: for every user, estimating the ratings for all the movies that (s)he hasn't watched and maybe recommend the top-k movies by the esimtated ratings! "
   ]
  },
  {
   "cell_type": "markdown",
   "metadata": {},
   "source": [
    "### Peak into the dataset"
   ]
  },
  {
   "cell_type": "code",
   "execution_count": 1,
   "metadata": {
    "collapsed": true
   },
   "outputs": [],
   "source": [
    "import pandas as pd\n",
    "import numpy as np\n",
    "import matplotlib.pyplot as plt\n",
    "import warnings\n",
    "warnings.filterwarnings('ignore')\n",
    "\n",
    "%matplotlib inline"
   ]
  },
  {
   "cell_type": "code",
   "execution_count": 9,
   "metadata": {},
   "outputs": [
    {
     "ename": "ValueError",
     "evalue": "shape-mismatch for sum",
     "output_type": "error",
     "traceback": [
      "\u001b[0;31m---------------------------------------------------------------------------\u001b[0m",
      "\u001b[0;31mValueError\u001b[0m                                Traceback (most recent call last)",
      "\u001b[0;32m<ipython-input-9-44e7f67a0f4d>\u001b[0m in \u001b[0;36m<module>\u001b[0;34m()\u001b[0m\n\u001b[0;32m----> 1\u001b[0;31m \u001b[0mnp\u001b[0m\u001b[0;34m.\u001b[0m\u001b[0mtensordot\u001b[0m\u001b[0;34m(\u001b[0m\u001b[0mx\u001b[0m\u001b[0;34m,\u001b[0m \u001b[0my\u001b[0m\u001b[0;34m,\u001b[0m \u001b[0maxes\u001b[0m\u001b[0;34m=\u001b[0m\u001b[0;36m1\u001b[0m\u001b[0;34m)\u001b[0m\u001b[0;34m.\u001b[0m\u001b[0mshape\u001b[0m\u001b[0;34m\u001b[0m\u001b[0m\n\u001b[0m",
      "\u001b[0;32m~/anaconda3/lib/python3.6/site-packages/numpy/core/numeric.py\u001b[0m in \u001b[0;36mtensordot\u001b[0;34m(a, b, axes)\u001b[0m\n\u001b[1;32m   1315\u001b[0m                 \u001b[0maxes_b\u001b[0m\u001b[0;34m[\u001b[0m\u001b[0mk\u001b[0m\u001b[0;34m]\u001b[0m \u001b[0;34m+=\u001b[0m \u001b[0mndb\u001b[0m\u001b[0;34m\u001b[0m\u001b[0m\n\u001b[1;32m   1316\u001b[0m     \u001b[0;32mif\u001b[0m \u001b[0;32mnot\u001b[0m \u001b[0mequal\u001b[0m\u001b[0;34m:\u001b[0m\u001b[0;34m\u001b[0m\u001b[0m\n\u001b[0;32m-> 1317\u001b[0;31m         \u001b[0;32mraise\u001b[0m \u001b[0mValueError\u001b[0m\u001b[0;34m(\u001b[0m\u001b[0;34m\"shape-mismatch for sum\"\u001b[0m\u001b[0;34m)\u001b[0m\u001b[0;34m\u001b[0m\u001b[0m\n\u001b[0m\u001b[1;32m   1318\u001b[0m \u001b[0;34m\u001b[0m\u001b[0m\n\u001b[1;32m   1319\u001b[0m     \u001b[0;31m# Move the axes to sum over to the end of \"a\"\u001b[0m\u001b[0;34m\u001b[0m\u001b[0;34m\u001b[0m\u001b[0m\n",
      "\u001b[0;31mValueError\u001b[0m: shape-mismatch for sum"
     ]
    }
   ],
   "source": [
    "np.tensordot(x, y, axes=1).shape"
   ]
  },
  {
   "cell_type": "code",
   "execution_count": 11,
   "metadata": {},
   "outputs": [
    {
     "ename": "ValueError",
     "evalue": "shape-mismatch for sum",
     "output_type": "error",
     "traceback": [
      "\u001b[0;31m---------------------------------------------------------------------------\u001b[0m",
      "\u001b[0;31mValueError\u001b[0m                                Traceback (most recent call last)",
      "\u001b[0;32m<ipython-input-11-797465e142a6>\u001b[0m in \u001b[0;36m<module>\u001b[0;34m()\u001b[0m\n\u001b[1;32m      3\u001b[0m \u001b[0mz\u001b[0m \u001b[0;34m=\u001b[0m \u001b[0mnp\u001b[0m\u001b[0;34m.\u001b[0m\u001b[0mrandom\u001b[0m\u001b[0;34m.\u001b[0m\u001b[0mrandn\u001b[0m\u001b[0;34m(\u001b[0m\u001b[0;36m80\u001b[0m\u001b[0;34m,\u001b[0m \u001b[0;36m3\u001b[0m\u001b[0;34m)\u001b[0m\u001b[0;34m\u001b[0m\u001b[0m\n\u001b[1;32m      4\u001b[0m \u001b[0;34m\u001b[0m\u001b[0m\n\u001b[0;32m----> 5\u001b[0;31m \u001b[0mt_1\u001b[0m \u001b[0;34m=\u001b[0m \u001b[0mnp\u001b[0m\u001b[0;34m.\u001b[0m\u001b[0mtensordot\u001b[0m\u001b[0;34m(\u001b[0m\u001b[0mnp\u001b[0m\u001b[0;34m.\u001b[0m\u001b[0mtensordot\u001b[0m\u001b[0;34m(\u001b[0m\u001b[0mx\u001b[0m\u001b[0;34m,\u001b[0m \u001b[0my\u001b[0m\u001b[0;34m,\u001b[0m \u001b[0maxes\u001b[0m\u001b[0;34m=\u001b[0m\u001b[0;34m[\u001b[0m\u001b[0;36m1\u001b[0m\u001b[0;34m,\u001b[0m \u001b[0;36m1\u001b[0m\u001b[0;34m]\u001b[0m\u001b[0;34m)\u001b[0m\u001b[0;34m,\u001b[0m \u001b[0mz\u001b[0m\u001b[0;34m,\u001b[0m \u001b[0maxes\u001b[0m\u001b[0;34m=\u001b[0m\u001b[0;34m[\u001b[0m\u001b[0;36m1\u001b[0m\u001b[0;34m,\u001b[0m\u001b[0;36m1\u001b[0m\u001b[0;34m]\u001b[0m\u001b[0;34m)\u001b[0m\u001b[0;34m\u001b[0m\u001b[0m\n\u001b[0m\u001b[1;32m      6\u001b[0m \u001b[0mt_2\u001b[0m \u001b[0;34m=\u001b[0m \u001b[0mnp\u001b[0m\u001b[0;34m.\u001b[0m\u001b[0meinsum\u001b[0m\u001b[0;34m(\u001b[0m\u001b[0;34m'xr, yr, zr ->xyz'\u001b[0m\u001b[0;34m,\u001b[0m \u001b[0mx\u001b[0m\u001b[0;34m,\u001b[0m \u001b[0my\u001b[0m\u001b[0;34m,\u001b[0m \u001b[0mz\u001b[0m\u001b[0;34m)\u001b[0m\u001b[0;34m\u001b[0m\u001b[0m\n\u001b[1;32m      7\u001b[0m \u001b[0mnp\u001b[0m\u001b[0;34m.\u001b[0m\u001b[0mallclose\u001b[0m\u001b[0;34m(\u001b[0m\u001b[0mt_1\u001b[0m\u001b[0;34m,\u001b[0m \u001b[0mt_2\u001b[0m\u001b[0;34m)\u001b[0m\u001b[0;34m\u001b[0m\u001b[0m\n",
      "\u001b[0;32m~/anaconda3/lib/python3.6/site-packages/numpy/core/numeric.py\u001b[0m in \u001b[0;36mtensordot\u001b[0;34m(a, b, axes)\u001b[0m\n\u001b[1;32m   1315\u001b[0m                 \u001b[0maxes_b\u001b[0m\u001b[0;34m[\u001b[0m\u001b[0mk\u001b[0m\u001b[0;34m]\u001b[0m \u001b[0;34m+=\u001b[0m \u001b[0mndb\u001b[0m\u001b[0;34m\u001b[0m\u001b[0m\n\u001b[1;32m   1316\u001b[0m     \u001b[0;32mif\u001b[0m \u001b[0;32mnot\u001b[0m \u001b[0mequal\u001b[0m\u001b[0;34m:\u001b[0m\u001b[0;34m\u001b[0m\u001b[0m\n\u001b[0;32m-> 1317\u001b[0;31m         \u001b[0;32mraise\u001b[0m \u001b[0mValueError\u001b[0m\u001b[0;34m(\u001b[0m\u001b[0;34m\"shape-mismatch for sum\"\u001b[0m\u001b[0;34m)\u001b[0m\u001b[0;34m\u001b[0m\u001b[0m\n\u001b[0m\u001b[1;32m   1318\u001b[0m \u001b[0;34m\u001b[0m\u001b[0m\n\u001b[1;32m   1319\u001b[0m     \u001b[0;31m# Move the axes to sum over to the end of \"a\"\u001b[0m\u001b[0;34m\u001b[0m\u001b[0;34m\u001b[0m\u001b[0m\n",
      "\u001b[0;31mValueError\u001b[0m: shape-mismatch for sum"
     ]
    }
   ],
   "source": [
    "x = np.random.randn(100, 3)\n",
    "y = np.random.randn(70, 3)\n",
    "z = np.random.randn(80, 3)\n",
    "\n",
    "t_1 = np.tensordot(np.tensordot(x, y, axes=[1, 1]), z, axes=[1,1])\n",
    "t_2 = np.einsum('xr, yr, zr ->xyz', x, y, z)\n",
    "np.allclose(t_1, t_2)\n"
   ]
  },
  {
   "cell_type": "code",
   "execution_count": 22,
   "metadata": {},
   "outputs": [
    {
     "ename": "ValueError",
     "evalue": "shape-mismatch for sum",
     "output_type": "error",
     "traceback": [
      "\u001b[0;31m---------------------------------------------------------------------------\u001b[0m",
      "\u001b[0;31mValueError\u001b[0m                                Traceback (most recent call last)",
      "\u001b[0;32m<ipython-input-22-4ee03cd5026a>\u001b[0m in \u001b[0;36m<module>\u001b[0;34m()\u001b[0m\n\u001b[0;32m----> 1\u001b[0;31m \u001b[0mnp\u001b[0m\u001b[0;34m.\u001b[0m\u001b[0mtensordot\u001b[0m\u001b[0;34m(\u001b[0m\u001b[0mx\u001b[0m\u001b[0;34m,\u001b[0m \u001b[0my\u001b[0m\u001b[0;34m,\u001b[0m \u001b[0maxes\u001b[0m\u001b[0;34m=\u001b[0m\u001b[0;34m[\u001b[0m\u001b[0;34m[\u001b[0m\u001b[0;36m0\u001b[0m\u001b[0;34m,\u001b[0m \u001b[0;36m1\u001b[0m\u001b[0;34m]\u001b[0m\u001b[0;34m,\u001b[0m\u001b[0;34m[\u001b[0m\u001b[0;36m0\u001b[0m\u001b[0;34m,\u001b[0m\u001b[0;36m1\u001b[0m\u001b[0;34m]\u001b[0m\u001b[0;34m]\u001b[0m\u001b[0;34m)\u001b[0m\u001b[0;34m.\u001b[0m\u001b[0mshape\u001b[0m\u001b[0;34m\u001b[0m\u001b[0m\n\u001b[0m",
      "\u001b[0;32m~/anaconda3/lib/python3.6/site-packages/numpy/core/numeric.py\u001b[0m in \u001b[0;36mtensordot\u001b[0;34m(a, b, axes)\u001b[0m\n\u001b[1;32m   1315\u001b[0m                 \u001b[0maxes_b\u001b[0m\u001b[0;34m[\u001b[0m\u001b[0mk\u001b[0m\u001b[0;34m]\u001b[0m \u001b[0;34m+=\u001b[0m \u001b[0mndb\u001b[0m\u001b[0;34m\u001b[0m\u001b[0m\n\u001b[1;32m   1316\u001b[0m     \u001b[0;32mif\u001b[0m \u001b[0;32mnot\u001b[0m \u001b[0mequal\u001b[0m\u001b[0;34m:\u001b[0m\u001b[0;34m\u001b[0m\u001b[0m\n\u001b[0;32m-> 1317\u001b[0;31m         \u001b[0;32mraise\u001b[0m \u001b[0mValueError\u001b[0m\u001b[0;34m(\u001b[0m\u001b[0;34m\"shape-mismatch for sum\"\u001b[0m\u001b[0;34m)\u001b[0m\u001b[0;34m\u001b[0m\u001b[0m\n\u001b[0m\u001b[1;32m   1318\u001b[0m \u001b[0;34m\u001b[0m\u001b[0m\n\u001b[1;32m   1319\u001b[0m     \u001b[0;31m# Move the axes to sum over to the end of \"a\"\u001b[0m\u001b[0;34m\u001b[0m\u001b[0;34m\u001b[0m\u001b[0m\n",
      "\u001b[0;31mValueError\u001b[0m: shape-mismatch for sum"
     ]
    }
   ],
   "source": [
    "np.tensordot(x, y, axes=[[0, 1],[0,1]]).shape"
   ]
  },
  {
   "cell_type": "markdown",
   "metadata": {},
   "source": [
    "So, each record (row) shows the rating for a user, item (movie) pair. It should be noted that I use  item and movie interchangeably in this post."
   ]
  },
  {
   "cell_type": "code",
   "execution_count": 5,
   "metadata": {
    "collapsed": true
   },
   "outputs": [],
   "source": [
    "dataset.user_id = dataset.user_id.astype('category').cat.codes.values\n",
    "dataset.item_id = dataset.item_id.astype('category').cat.codes.values"
   ]
  },
  {
   "cell_type": "code",
   "execution_count": 6,
   "metadata": {},
   "outputs": [
    {
     "data": {
      "text/html": [
       "<div>\n",
       "<style>\n",
       "    .dataframe thead tr:only-child th {\n",
       "        text-align: right;\n",
       "    }\n",
       "\n",
       "    .dataframe thead th {\n",
       "        text-align: left;\n",
       "    }\n",
       "\n",
       "    .dataframe tbody tr th {\n",
       "        vertical-align: top;\n",
       "    }\n",
       "</style>\n",
       "<table border=\"1\" class=\"dataframe\">\n",
       "  <thead>\n",
       "    <tr style=\"text-align: right;\">\n",
       "      <th></th>\n",
       "      <th>user_id</th>\n",
       "      <th>item_id</th>\n",
       "      <th>rating</th>\n",
       "      <th>timestamp</th>\n",
       "    </tr>\n",
       "  </thead>\n",
       "  <tbody>\n",
       "    <tr>\n",
       "      <th>0</th>\n",
       "      <td>195</td>\n",
       "      <td>241</td>\n",
       "      <td>3</td>\n",
       "      <td>881250949</td>\n",
       "    </tr>\n",
       "    <tr>\n",
       "      <th>1</th>\n",
       "      <td>185</td>\n",
       "      <td>301</td>\n",
       "      <td>3</td>\n",
       "      <td>891717742</td>\n",
       "    </tr>\n",
       "    <tr>\n",
       "      <th>2</th>\n",
       "      <td>21</td>\n",
       "      <td>376</td>\n",
       "      <td>1</td>\n",
       "      <td>878887116</td>\n",
       "    </tr>\n",
       "    <tr>\n",
       "      <th>3</th>\n",
       "      <td>243</td>\n",
       "      <td>50</td>\n",
       "      <td>2</td>\n",
       "      <td>880606923</td>\n",
       "    </tr>\n",
       "    <tr>\n",
       "      <th>4</th>\n",
       "      <td>165</td>\n",
       "      <td>345</td>\n",
       "      <td>1</td>\n",
       "      <td>886397596</td>\n",
       "    </tr>\n",
       "  </tbody>\n",
       "</table>\n",
       "</div>"
      ],
      "text/plain": [
       "   user_id  item_id  rating  timestamp\n",
       "0      195      241       3  881250949\n",
       "1      185      301       3  891717742\n",
       "2       21      376       1  878887116\n",
       "3      243       50       2  880606923\n",
       "4      165      345       1  886397596"
      ]
     },
     "execution_count": 6,
     "metadata": {},
     "output_type": "execute_result"
    }
   ],
   "source": [
    "dataset.head()"
   ]
  },
  {
   "cell_type": "markdown",
   "metadata": {},
   "source": [
    "### Train test split\n",
    "\n",
    "We'll now split our dataset of 100k ratings into train (containing 80k ratings) and test (containing 20k ratings). Given the train set, we'd like to accurately estimate the ratings in the test set."
   ]
  },
  {
   "cell_type": "code",
   "execution_count": 7,
   "metadata": {
    "collapsed": true
   },
   "outputs": [],
   "source": [
    "from sklearn.model_selection import train_test_split\n",
    "train, test = train_test_split(dataset, test_size=0.2)"
   ]
  },
  {
   "cell_type": "code",
   "execution_count": 8,
   "metadata": {},
   "outputs": [
    {
     "data": {
      "text/html": [
       "<div>\n",
       "<style>\n",
       "    .dataframe thead tr:only-child th {\n",
       "        text-align: right;\n",
       "    }\n",
       "\n",
       "    .dataframe thead th {\n",
       "        text-align: left;\n",
       "    }\n",
       "\n",
       "    .dataframe tbody tr th {\n",
       "        vertical-align: top;\n",
       "    }\n",
       "</style>\n",
       "<table border=\"1\" class=\"dataframe\">\n",
       "  <thead>\n",
       "    <tr style=\"text-align: right;\">\n",
       "      <th></th>\n",
       "      <th>user_id</th>\n",
       "      <th>item_id</th>\n",
       "      <th>rating</th>\n",
       "      <th>timestamp</th>\n",
       "    </tr>\n",
       "  </thead>\n",
       "  <tbody>\n",
       "    <tr>\n",
       "      <th>36694</th>\n",
       "      <td>460</td>\n",
       "      <td>254</td>\n",
       "      <td>2</td>\n",
       "      <td>885355890</td>\n",
       "    </tr>\n",
       "    <tr>\n",
       "      <th>12110</th>\n",
       "      <td>227</td>\n",
       "      <td>203</td>\n",
       "      <td>3</td>\n",
       "      <td>889388662</td>\n",
       "    </tr>\n",
       "    <tr>\n",
       "      <th>4933</th>\n",
       "      <td>4</td>\n",
       "      <td>240</td>\n",
       "      <td>1</td>\n",
       "      <td>875720948</td>\n",
       "    </tr>\n",
       "    <tr>\n",
       "      <th>98491</th>\n",
       "      <td>928</td>\n",
       "      <td>97</td>\n",
       "      <td>5</td>\n",
       "      <td>879640394</td>\n",
       "    </tr>\n",
       "    <tr>\n",
       "      <th>25545</th>\n",
       "      <td>453</td>\n",
       "      <td>403</td>\n",
       "      <td>3</td>\n",
       "      <td>888267590</td>\n",
       "    </tr>\n",
       "  </tbody>\n",
       "</table>\n",
       "</div>"
      ],
      "text/plain": [
       "       user_id  item_id  rating  timestamp\n",
       "36694      460      254       2  885355890\n",
       "12110      227      203       3  889388662\n",
       "4933         4      240       1  875720948\n",
       "98491      928       97       5  879640394\n",
       "25545      453      403       3  888267590"
      ]
     },
     "execution_count": 8,
     "metadata": {},
     "output_type": "execute_result"
    }
   ],
   "source": [
    "train.head()"
   ]
  },
  {
   "cell_type": "code",
   "execution_count": 9,
   "metadata": {},
   "outputs": [
    {
     "data": {
      "text/html": [
       "<div>\n",
       "<style>\n",
       "    .dataframe thead tr:only-child th {\n",
       "        text-align: right;\n",
       "    }\n",
       "\n",
       "    .dataframe thead th {\n",
       "        text-align: left;\n",
       "    }\n",
       "\n",
       "    .dataframe tbody tr th {\n",
       "        vertical-align: top;\n",
       "    }\n",
       "</style>\n",
       "<table border=\"1\" class=\"dataframe\">\n",
       "  <thead>\n",
       "    <tr style=\"text-align: right;\">\n",
       "      <th></th>\n",
       "      <th>user_id</th>\n",
       "      <th>item_id</th>\n",
       "      <th>rating</th>\n",
       "      <th>timestamp</th>\n",
       "    </tr>\n",
       "  </thead>\n",
       "  <tbody>\n",
       "    <tr>\n",
       "      <th>77402</th>\n",
       "      <td>891</td>\n",
       "      <td>228</td>\n",
       "      <td>3</td>\n",
       "      <td>886610011</td>\n",
       "    </tr>\n",
       "    <tr>\n",
       "      <th>16503</th>\n",
       "      <td>369</td>\n",
       "      <td>658</td>\n",
       "      <td>4</td>\n",
       "      <td>879435033</td>\n",
       "    </tr>\n",
       "    <tr>\n",
       "      <th>28080</th>\n",
       "      <td>199</td>\n",
       "      <td>178</td>\n",
       "      <td>4</td>\n",
       "      <td>884129029</td>\n",
       "    </tr>\n",
       "    <tr>\n",
       "      <th>84580</th>\n",
       "      <td>652</td>\n",
       "      <td>355</td>\n",
       "      <td>1</td>\n",
       "      <td>880151734</td>\n",
       "    </tr>\n",
       "    <tr>\n",
       "      <th>36995</th>\n",
       "      <td>331</td>\n",
       "      <td>894</td>\n",
       "      <td>5</td>\n",
       "      <td>887916385</td>\n",
       "    </tr>\n",
       "  </tbody>\n",
       "</table>\n",
       "</div>"
      ],
      "text/plain": [
       "       user_id  item_id  rating  timestamp\n",
       "77402      891      228       3  886610011\n",
       "16503      369      658       4  879435033\n",
       "28080      199      178       4  884129029\n",
       "84580      652      355       1  880151734\n",
       "36995      331      894       5  887916385"
      ]
     },
     "execution_count": 9,
     "metadata": {},
     "output_type": "execute_result"
    }
   ],
   "source": [
    "test.head()"
   ]
  },
  {
   "cell_type": "markdown",
   "metadata": {},
   "source": [
    "### Matrix factorisation\n",
    "\n",
    "One popular recommender systems approach is called Matrix Factorisation. It works on the principle that we can learn a low-dimensional representation (embedding) of user and movie. For example, for each movie, we can have how much action it has, how long it is, and so on. For each user, we can encode how much they like action, or how much they like long movies, etc. Thus, we can combine the user and the movie embeddings to estimate the ratings on unseen movies. This approach can also be viewed as: given a matrix (A [M X N]) containing users and movies, we want to estimate low dimensional matrices (W [M X k] and H [M X k]), such that: $A \\approx W.H^T$"
   ]
  },
  {
   "cell_type": "markdown",
   "metadata": {},
   "source": [
    "### Matrix factorisation in Keras\n",
    "\n",
    "We'll now write some code to solve the recommendation problem by matrix factorisation in Keras. We're trying to learn two low-dimensional embeddings of users and items.\n",
    "\n",
    "\n"
   ]
  },
  {
   "cell_type": "code",
   "execution_count": 53,
   "metadata": {
    "collapsed": true
   },
   "outputs": [],
   "source": [
    "import keras\n",
    "from IPython.display import SVG\n",
    "from keras.optimizers import Adam\n",
    "from keras.utils.vis_utils import model_to_dot\n",
    "n_users, n_movies = len(dataset.user_id.unique()), len(dataset.item_id.unique())\n",
    "n_latent_factors = 3"
   ]
  },
  {
   "cell_type": "markdown",
   "metadata": {},
   "source": [
    "The key thing is to learn an embedding for movies and users, and then combine them using the dot product! For estimating the rating, for each user, movie pair of interest, we'd take the dot product of the respective user and item embedding. As an example, if we have 2 dimensions in our user and item embedding, which say correspond to [how much user likes action, how much user likes long movies], and the item embedding is [how much action is in the movie, how long is the movie]. Then, we can predict for a user `u`, and movie `m` as how much `u` likes action $\\times$ how much action is there in `m` $+$ how much `u` likes long movies $\\times$ how long is `m`.\n",
    "\n",
    "Our model would optimise the emebedding such that we minimise the mean squared error on the ratings from the train set."
   ]
  },
  {
   "cell_type": "code",
   "execution_count": 11,
   "metadata": {
    "collapsed": true
   },
   "outputs": [],
   "source": [
    "movie_input = keras.layers.Input(shape=[1],name='Item')\n",
    "movie_embedding = keras.layers.Embedding(n_movies + 1, n_latent_factors, name='Movie-Embedding')(movie_input)\n",
    "movie_vec = keras.layers.Flatten(name='FlattenMovies')(movie_embedding)\n",
    "\n",
    "user_input = keras.layers.Input(shape=[1],name='User')\n",
    "user_vec = keras.layers.Flatten(name='FlattenUsers')(keras.layers.Embedding(n_users + 1, n_latent_factors,name='User-Embedding')(user_input))\n",
    "\n",
    "prod = keras.layers.merge([movie_vec, user_vec], mode='dot',name='DotProduct')\n",
    "model = keras.Model([user_input, movie_input], prod)\n",
    "model.compile('adam', 'mean_squared_error')"
   ]
  },
  {
   "cell_type": "markdown",
   "metadata": {},
   "source": [
    "Here's a visualisation of our model for a better understanding."
   ]
  },
  {
   "cell_type": "code",
   "execution_count": 12,
   "metadata": {},
   "outputs": [
    {
     "data": {
      "image/svg+xml": [
       "<svg height=\"296pt\" viewBox=\"0.00 0.00 681.82 296.00\" width=\"682pt\" xmlns=\"http://www.w3.org/2000/svg\" xmlns:xlink=\"http://www.w3.org/1999/xlink\">\n",
       "<g class=\"graph\" id=\"graph0\" transform=\"scale(1 1) rotate(0) translate(4 292)\">\n",
       "<title>G</title>\n",
       "<polygon fill=\"white\" points=\"-4,4 -4,-292 677.815,-292 677.815,4 -4,4\" stroke=\"none\"/>\n",
       "<!-- 4728744144 -->\n",
       "<g class=\"node\" id=\"node1\"><title>4728744144</title>\n",
       "<polygon fill=\"none\" points=\"48.2275,-243.5 48.2275,-287.5 284.783,-287.5 284.783,-243.5 48.2275,-243.5\" stroke=\"black\"/>\n",
       "<text font-family=\"Times,serif\" font-size=\"14.00\" text-anchor=\"middle\" x=\"103.847\" y=\"-261.3\">Item: InputLayer</text>\n",
       "<polyline fill=\"none\" points=\"159.466,-243.5 159.466,-287.5 \" stroke=\"black\"/>\n",
       "<text font-family=\"Times,serif\" font-size=\"14.00\" text-anchor=\"middle\" x=\"187.3\" y=\"-272.3\">input:</text>\n",
       "<polyline fill=\"none\" points=\"159.466,-265.5 215.135,-265.5 \" stroke=\"black\"/>\n",
       "<text font-family=\"Times,serif\" font-size=\"14.00\" text-anchor=\"middle\" x=\"187.3\" y=\"-250.3\">output:</text>\n",
       "<polyline fill=\"none\" points=\"215.135,-243.5 215.135,-287.5 \" stroke=\"black\"/>\n",
       "<text font-family=\"Times,serif\" font-size=\"14.00\" text-anchor=\"middle\" x=\"249.959\" y=\"-272.3\">(None, 1)</text>\n",
       "<polyline fill=\"none\" points=\"215.135,-265.5 284.783,-265.5 \" stroke=\"black\"/>\n",
       "<text font-family=\"Times,serif\" font-size=\"14.00\" text-anchor=\"middle\" x=\"249.959\" y=\"-250.3\">(None, 1)</text>\n",
       "</g>\n",
       "<!-- 4728744256 -->\n",
       "<g class=\"node\" id=\"node3\"><title>4728744256</title>\n",
       "<polygon fill=\"none\" points=\"0,-162.5 0,-206.5 333.011,-206.5 333.011,-162.5 0,-162.5\" stroke=\"black\"/>\n",
       "<text font-family=\"Times,serif\" font-size=\"14.00\" text-anchor=\"middle\" x=\"96.8467\" y=\"-180.3\">Movie-Embedding: Embedding</text>\n",
       "<polyline fill=\"none\" points=\"193.693,-162.5 193.693,-206.5 \" stroke=\"black\"/>\n",
       "<text font-family=\"Times,serif\" font-size=\"14.00\" text-anchor=\"middle\" x=\"221.528\" y=\"-191.3\">input:</text>\n",
       "<polyline fill=\"none\" points=\"193.693,-184.5 249.362,-184.5 \" stroke=\"black\"/>\n",
       "<text font-family=\"Times,serif\" font-size=\"14.00\" text-anchor=\"middle\" x=\"221.528\" y=\"-169.3\">output:</text>\n",
       "<polyline fill=\"none\" points=\"249.362,-162.5 249.362,-206.5 \" stroke=\"black\"/>\n",
       "<text font-family=\"Times,serif\" font-size=\"14.00\" text-anchor=\"middle\" x=\"291.187\" y=\"-191.3\">(None, 1)</text>\n",
       "<polyline fill=\"none\" points=\"249.362,-184.5 333.011,-184.5 \" stroke=\"black\"/>\n",
       "<text font-family=\"Times,serif\" font-size=\"14.00\" text-anchor=\"middle\" x=\"291.187\" y=\"-169.3\">(None, 1, 3)</text>\n",
       "</g>\n",
       "<!-- 4728744144&#45;&gt;4728744256 -->\n",
       "<g class=\"edge\" id=\"edge1\"><title>4728744144-&gt;4728744256</title>\n",
       "<path d=\"M166.505,-243.329C166.505,-235.183 166.505,-225.699 166.505,-216.797\" fill=\"none\" stroke=\"black\"/>\n",
       "<polygon fill=\"black\" points=\"170.005,-216.729 166.505,-206.729 163.005,-216.729 170.005,-216.729\" stroke=\"black\"/>\n",
       "</g>\n",
       "<!-- 4728745432 -->\n",
       "<g class=\"node\" id=\"node2\"><title>4728745432</title>\n",
       "<polygon fill=\"none\" points=\"393.838,-243.5 393.838,-287.5 631.173,-287.5 631.173,-243.5 393.838,-243.5\" stroke=\"black\"/>\n",
       "<text font-family=\"Times,serif\" font-size=\"14.00\" text-anchor=\"middle\" x=\"449.847\" y=\"-261.3\">User: InputLayer</text>\n",
       "<polyline fill=\"none\" points=\"505.855,-243.5 505.855,-287.5 \" stroke=\"black\"/>\n",
       "<text font-family=\"Times,serif\" font-size=\"14.00\" text-anchor=\"middle\" x=\"533.69\" y=\"-272.3\">input:</text>\n",
       "<polyline fill=\"none\" points=\"505.855,-265.5 561.524,-265.5 \" stroke=\"black\"/>\n",
       "<text font-family=\"Times,serif\" font-size=\"14.00\" text-anchor=\"middle\" x=\"533.69\" y=\"-250.3\">output:</text>\n",
       "<polyline fill=\"none\" points=\"561.524,-243.5 561.524,-287.5 \" stroke=\"black\"/>\n",
       "<text font-family=\"Times,serif\" font-size=\"14.00\" text-anchor=\"middle\" x=\"596.349\" y=\"-272.3\">(None, 1)</text>\n",
       "<polyline fill=\"none\" points=\"561.524,-265.5 631.173,-265.5 \" stroke=\"black\"/>\n",
       "<text font-family=\"Times,serif\" font-size=\"14.00\" text-anchor=\"middle\" x=\"596.349\" y=\"-250.3\">(None, 1)</text>\n",
       "</g>\n",
       "<!-- 4728744648 -->\n",
       "<g class=\"node\" id=\"node4\"><title>4728744648</title>\n",
       "<polygon fill=\"none\" points=\"351.195,-162.5 351.195,-206.5 673.815,-206.5 673.815,-162.5 351.195,-162.5\" stroke=\"black\"/>\n",
       "<text font-family=\"Times,serif\" font-size=\"14.00\" text-anchor=\"middle\" x=\"442.847\" y=\"-180.3\">User-Embedding: Embedding</text>\n",
       "<polyline fill=\"none\" points=\"534.498,-162.5 534.498,-206.5 \" stroke=\"black\"/>\n",
       "<text font-family=\"Times,serif\" font-size=\"14.00\" text-anchor=\"middle\" x=\"562.333\" y=\"-191.3\">input:</text>\n",
       "<polyline fill=\"none\" points=\"534.498,-184.5 590.167,-184.5 \" stroke=\"black\"/>\n",
       "<text font-family=\"Times,serif\" font-size=\"14.00\" text-anchor=\"middle\" x=\"562.333\" y=\"-169.3\">output:</text>\n",
       "<polyline fill=\"none\" points=\"590.167,-162.5 590.167,-206.5 \" stroke=\"black\"/>\n",
       "<text font-family=\"Times,serif\" font-size=\"14.00\" text-anchor=\"middle\" x=\"631.991\" y=\"-191.3\">(None, 1)</text>\n",
       "<polyline fill=\"none\" points=\"590.167,-184.5 673.815,-184.5 \" stroke=\"black\"/>\n",
       "<text font-family=\"Times,serif\" font-size=\"14.00\" text-anchor=\"middle\" x=\"631.991\" y=\"-169.3\">(None, 1, 3)</text>\n",
       "</g>\n",
       "<!-- 4728745432&#45;&gt;4728744648 -->\n",
       "<g class=\"edge\" id=\"edge2\"><title>4728745432-&gt;4728744648</title>\n",
       "<path d=\"M512.505,-243.329C512.505,-235.183 512.505,-225.699 512.505,-216.797\" fill=\"none\" stroke=\"black\"/>\n",
       "<polygon fill=\"black\" points=\"516.005,-216.729 512.505,-206.729 509.005,-216.729 516.005,-216.729\" stroke=\"black\"/>\n",
       "</g>\n",
       "<!-- 4728745040 -->\n",
       "<g class=\"node\" id=\"node5\"><title>4728745040</title>\n",
       "<polygon fill=\"none\" points=\"50.269,-81.5 50.269,-125.5 332.742,-125.5 332.742,-81.5 50.269,-81.5\" stroke=\"black\"/>\n",
       "<text font-family=\"Times,serif\" font-size=\"14.00\" text-anchor=\"middle\" x=\"121.847\" y=\"-99.3\">FlattenMovies: Flatten</text>\n",
       "<polyline fill=\"none\" points=\"193.424,-81.5 193.424,-125.5 \" stroke=\"black\"/>\n",
       "<text font-family=\"Times,serif\" font-size=\"14.00\" text-anchor=\"middle\" x=\"221.259\" y=\"-110.3\">input:</text>\n",
       "<polyline fill=\"none\" points=\"193.424,-103.5 249.093,-103.5 \" stroke=\"black\"/>\n",
       "<text font-family=\"Times,serif\" font-size=\"14.00\" text-anchor=\"middle\" x=\"221.259\" y=\"-88.3\">output:</text>\n",
       "<polyline fill=\"none\" points=\"249.093,-81.5 249.093,-125.5 \" stroke=\"black\"/>\n",
       "<text font-family=\"Times,serif\" font-size=\"14.00\" text-anchor=\"middle\" x=\"290.917\" y=\"-110.3\">(None, 1, 3)</text>\n",
       "<polyline fill=\"none\" points=\"249.093,-103.5 332.742,-103.5 \" stroke=\"black\"/>\n",
       "<text font-family=\"Times,serif\" font-size=\"14.00\" text-anchor=\"middle\" x=\"290.917\" y=\"-88.3\">(None, 3)</text>\n",
       "</g>\n",
       "<!-- 4728744256&#45;&gt;4728745040 -->\n",
       "<g class=\"edge\" id=\"edge3\"><title>4728744256-&gt;4728745040</title>\n",
       "<path d=\"M173.205,-162.329C175.811,-154.094 178.849,-144.493 181.693,-135.507\" fill=\"none\" stroke=\"black\"/>\n",
       "<polygon fill=\"black\" points=\"185.107,-136.319 184.787,-125.729 178.433,-134.207 185.107,-136.319\" stroke=\"black\"/>\n",
       "</g>\n",
       "<!-- 4728744536 -->\n",
       "<g class=\"node\" id=\"node6\"><title>4728744536</title>\n",
       "<polygon fill=\"none\" points=\"363.328,-81.5 363.328,-125.5 635.683,-125.5 635.683,-81.5 363.328,-81.5\" stroke=\"black\"/>\n",
       "<text font-family=\"Times,serif\" font-size=\"14.00\" text-anchor=\"middle\" x=\"429.847\" y=\"-99.3\">FlattenUsers: Flatten</text>\n",
       "<polyline fill=\"none\" points=\"496.366,-81.5 496.366,-125.5 \" stroke=\"black\"/>\n",
       "<text font-family=\"Times,serif\" font-size=\"14.00\" text-anchor=\"middle\" x=\"524.2\" y=\"-110.3\">input:</text>\n",
       "<polyline fill=\"none\" points=\"496.366,-103.5 552.035,-103.5 \" stroke=\"black\"/>\n",
       "<text font-family=\"Times,serif\" font-size=\"14.00\" text-anchor=\"middle\" x=\"524.2\" y=\"-88.3\">output:</text>\n",
       "<polyline fill=\"none\" points=\"552.035,-81.5 552.035,-125.5 \" stroke=\"black\"/>\n",
       "<text font-family=\"Times,serif\" font-size=\"14.00\" text-anchor=\"middle\" x=\"593.859\" y=\"-110.3\">(None, 1, 3)</text>\n",
       "<polyline fill=\"none\" points=\"552.035,-103.5 635.683,-103.5 \" stroke=\"black\"/>\n",
       "<text font-family=\"Times,serif\" font-size=\"14.00\" text-anchor=\"middle\" x=\"593.859\" y=\"-88.3\">(None, 3)</text>\n",
       "</g>\n",
       "<!-- 4728744648&#45;&gt;4728744536 -->\n",
       "<g class=\"edge\" id=\"edge4\"><title>4728744648-&gt;4728744536</title>\n",
       "<path d=\"M509.022,-162.329C507.681,-154.183 506.12,-144.699 504.656,-135.797\" fill=\"none\" stroke=\"black\"/>\n",
       "<polygon fill=\"black\" points=\"508.076,-135.028 502.999,-125.729 501.169,-136.165 508.076,-135.028\" stroke=\"black\"/>\n",
       "</g>\n",
       "<!-- 4728745208 -->\n",
       "<g class=\"node\" id=\"node7\"><title>4728745208</title>\n",
       "<polygon fill=\"none\" points=\"185.744,-0.5 185.744,-44.5 505.267,-44.5 505.267,-0.5 185.744,-0.5\" stroke=\"black\"/>\n",
       "<text font-family=\"Times,serif\" font-size=\"14.00\" text-anchor=\"middle\" x=\"247.86\" y=\"-18.3\">DotProduct: Merge</text>\n",
       "<polyline fill=\"none\" points=\"309.977,-0.5 309.977,-44.5 \" stroke=\"black\"/>\n",
       "<text font-family=\"Times,serif\" font-size=\"14.00\" text-anchor=\"middle\" x=\"337.812\" y=\"-29.3\">input:</text>\n",
       "<polyline fill=\"none\" points=\"309.977,-22.5 365.646,-22.5 \" stroke=\"black\"/>\n",
       "<text font-family=\"Times,serif\" font-size=\"14.00\" text-anchor=\"middle\" x=\"337.812\" y=\"-7.3\">output:</text>\n",
       "<polyline fill=\"none\" points=\"365.646,-0.5 365.646,-44.5 \" stroke=\"black\"/>\n",
       "<text font-family=\"Times,serif\" font-size=\"14.00\" text-anchor=\"middle\" x=\"435.457\" y=\"-29.3\">[(None, 3), (None, 3)]</text>\n",
       "<polyline fill=\"none\" points=\"365.646,-22.5 505.267,-22.5 \" stroke=\"black\"/>\n",
       "<text font-family=\"Times,serif\" font-size=\"14.00\" text-anchor=\"middle\" x=\"434.97\" y=\"-7.3\">(None, 1)</text>\n",
       "</g>\n",
       "<!-- 4728745040&#45;&gt;4728745208 -->\n",
       "<g class=\"edge\" id=\"edge5\"><title>4728745040-&gt;4728745208</title>\n",
       "<path d=\"M232.775,-81.3294C252.013,-71.4605 275.075,-59.63 295.313,-49.2479\" fill=\"none\" stroke=\"black\"/>\n",
       "<polygon fill=\"black\" points=\"297.089,-52.2704 304.39,-44.5919 293.894,-46.0421 297.089,-52.2704\" stroke=\"black\"/>\n",
       "</g>\n",
       "<!-- 4728744536&#45;&gt;4728745208 -->\n",
       "<g class=\"edge\" id=\"edge6\"><title>4728744536-&gt;4728745208</title>\n",
       "<path d=\"M458.236,-81.3294C438.998,-71.4605 415.936,-59.63 395.697,-49.2479\" fill=\"none\" stroke=\"black\"/>\n",
       "<polygon fill=\"black\" points=\"397.116,-46.0421 386.621,-44.5919 393.921,-52.2704 397.116,-46.0421\" stroke=\"black\"/>\n",
       "</g>\n",
       "</g>\n",
       "</svg>"
      ],
      "text/plain": [
       "<IPython.core.display.SVG object>"
      ]
     },
     "execution_count": 12,
     "metadata": {},
     "output_type": "execute_result"
    }
   ],
   "source": [
    "SVG(model_to_dot(model,  show_shapes=True, show_layer_names=True, rankdir='HB').create(prog='dot', format='svg'))"
   ]
  },
  {
   "cell_type": "markdown",
   "metadata": {},
   "source": [
    "We can see that in the `Merge` layer, we take the dot product of the user and the item embeddings to obtain the rating.\n",
    "\n",
    "We can also summarise our model as follows:"
   ]
  },
  {
   "cell_type": "code",
   "execution_count": 13,
   "metadata": {},
   "outputs": [
    {
     "name": "stdout",
     "output_type": "stream",
     "text": [
      "__________________________________________________________________________________________________\n",
      "Layer (type)                    Output Shape         Param #     Connected to                     \n",
      "==================================================================================================\n",
      "Item (InputLayer)               (None, 1)            0                                            \n",
      "__________________________________________________________________________________________________\n",
      "User (InputLayer)               (None, 1)            0                                            \n",
      "__________________________________________________________________________________________________\n",
      "Movie-Embedding (Embedding)     (None, 1, 3)         5049        Item[0][0]                       \n",
      "__________________________________________________________________________________________________\n",
      "User-Embedding (Embedding)      (None, 1, 3)         2832        User[0][0]                       \n",
      "__________________________________________________________________________________________________\n",
      "FlattenMovies (Flatten)         (None, 3)            0           Movie-Embedding[0][0]            \n",
      "__________________________________________________________________________________________________\n",
      "FlattenUsers (Flatten)          (None, 3)            0           User-Embedding[0][0]             \n",
      "__________________________________________________________________________________________________\n",
      "DotProduct (Merge)              (None, 1)            0           FlattenMovies[0][0]              \n",
      "                                                                 FlattenUsers[0][0]               \n",
      "==================================================================================================\n",
      "Total params: 7,881\n",
      "Trainable params: 7,881\n",
      "Non-trainable params: 0\n",
      "__________________________________________________________________________________________________\n"
     ]
    }
   ],
   "source": [
    "model.summary()"
   ]
  },
  {
   "cell_type": "markdown",
   "metadata": {},
   "source": [
    "So, we have 7881 parameters to learn! Let's train our model now!"
   ]
  },
  {
   "cell_type": "code",
   "execution_count": 14,
   "metadata": {
    "collapsed": true
   },
   "outputs": [],
   "source": [
    "history = model.fit([train.user_id, train.item_id], train.rating, epochs=100, verbose=0)"
   ]
  },
  {
   "cell_type": "markdown",
   "metadata": {},
   "source": [
    "#### Train error v/s epoch number"
   ]
  },
  {
   "cell_type": "markdown",
   "metadata": {},
   "source": [
    "Before we test how well our model does in the test setting, we can visualise the train loss with epoch number."
   ]
  },
  {
   "cell_type": "code",
   "execution_count": 15,
   "metadata": {},
   "outputs": [
    {
     "data": {
      "text/plain": [
       "<matplotlib.text.Text at 0x119f0ae48>"
      ]
     },
     "execution_count": 15,
     "metadata": {},
     "output_type": "execute_result"
    },
    {
     "data": {
      "image/png": "[encoded data removed]",
      "text/plain": [
       "<matplotlib.figure.Figure at 0x119dae390>"
      ]
     },
     "metadata": {},
     "output_type": "display_data"
    }
   ],
   "source": [
    "pd.Series(history.history['loss']).plot(logy=True)\n",
    "plt.xlabel(\"Epoch\")\n",
    "plt.ylabel(\"Train Error\")"
   ]
  },
  {
   "cell_type": "markdown",
   "metadata": {},
   "source": [
    "#### Prediction error"
   ]
  },
  {
   "cell_type": "markdown",
   "metadata": {},
   "source": [
    "Let's now see how our model does! I'll do a small post-processing step to round off our prediction to the nearest integer. This is usually not done, and thus just a whimsical step, since the training ratings are all integers! There are better ways to encode this intger requirement (one-hot encoding!), but we won't discuss them in this post."
   ]
  },
  {
   "cell_type": "code",
   "execution_count": 16,
   "metadata": {
    "collapsed": true
   },
   "outputs": [],
   "source": [
    "y_hat = np.round(model.predict([test.user_id, test.item_id]),0)\n",
    "y_true = test.rating"
   ]
  },
  {
   "cell_type": "code",
   "execution_count": 17,
   "metadata": {},
   "outputs": [
    {
     "data": {
      "text/plain": [
       "0.69315000000000004"
      ]
     },
     "execution_count": 17,
     "metadata": {},
     "output_type": "execute_result"
    }
   ],
   "source": [
    "from sklearn.metrics import mean_absolute_error\n",
    "mean_absolute_error(y_true, y_hat)"
   ]
  },
  {
   "cell_type": "markdown",
   "metadata": {},
   "source": [
    "Not bad! We're able to get a $MAE$ of 0.69! I'm sure with a bit of parameter/hyper-parameter optimisation, we may be able to improve the results. However, I won't talk about these optimisations in this post. "
   ]
  },
  {
   "cell_type": "markdown",
   "metadata": {},
   "source": [
    "#### Extracting the learnt embeddings"
   ]
  },
  {
   "cell_type": "markdown",
   "metadata": {},
   "source": [
    "We can extract the learnt movie and item embeddings as follows:"
   ]
  },
  {
   "cell_type": "code",
   "execution_count": 18,
   "metadata": {},
   "outputs": [
    {
     "data": {
      "text/html": [
       "<div>\n",
       "<style>\n",
       "    .dataframe thead tr:only-child th {\n",
       "        text-align: right;\n",
       "    }\n",
       "\n",
       "    .dataframe thead th {\n",
       "        text-align: left;\n",
       "    }\n",
       "\n",
       "    .dataframe tbody tr th {\n",
       "        vertical-align: top;\n",
       "    }\n",
       "</style>\n",
       "<table border=\"1\" class=\"dataframe\">\n",
       "  <thead>\n",
       "    <tr style=\"text-align: right;\">\n",
       "      <th></th>\n",
       "      <th>0</th>\n",
       "      <th>1</th>\n",
       "      <th>2</th>\n",
       "    </tr>\n",
       "  </thead>\n",
       "  <tbody>\n",
       "    <tr>\n",
       "      <th>count</th>\n",
       "      <td>1683.000000</td>\n",
       "      <td>1683.000000</td>\n",
       "      <td>1683.000000</td>\n",
       "    </tr>\n",
       "    <tr>\n",
       "      <th>mean</th>\n",
       "      <td>-0.984843</td>\n",
       "      <td>-0.603969</td>\n",
       "      <td>1.041909</td>\n",
       "    </tr>\n",
       "    <tr>\n",
       "      <th>std</th>\n",
       "      <td>0.406160</td>\n",
       "      <td>0.670511</td>\n",
       "      <td>0.446950</td>\n",
       "    </tr>\n",
       "    <tr>\n",
       "      <th>min</th>\n",
       "      <td>-2.353670</td>\n",
       "      <td>-3.060338</td>\n",
       "      <td>-1.466393</td>\n",
       "    </tr>\n",
       "    <tr>\n",
       "      <th>25%</th>\n",
       "      <td>-1.274978</td>\n",
       "      <td>-1.112795</td>\n",
       "      <td>0.738104</td>\n",
       "    </tr>\n",
       "    <tr>\n",
       "      <th>50%</th>\n",
       "      <td>-0.990592</td>\n",
       "      <td>-0.631524</td>\n",
       "      <td>1.069417</td>\n",
       "    </tr>\n",
       "    <tr>\n",
       "      <th>75%</th>\n",
       "      <td>-0.705720</td>\n",
       "      <td>-0.123005</td>\n",
       "      <td>1.348613</td>\n",
       "    </tr>\n",
       "    <tr>\n",
       "      <th>max</th>\n",
       "      <td>0.412110</td>\n",
       "      <td>2.587206</td>\n",
       "      <td>3.013140</td>\n",
       "    </tr>\n",
       "  </tbody>\n",
       "</table>\n",
       "</div>"
      ],
      "text/plain": [
       "                 0            1            2\n",
       "count  1683.000000  1683.000000  1683.000000\n",
       "mean     -0.984843    -0.603969     1.041909\n",
       "std       0.406160     0.670511     0.446950\n",
       "min      -2.353670    -3.060338    -1.466393\n",
       "25%      -1.274978    -1.112795     0.738104\n",
       "50%      -0.990592    -0.631524     1.069417\n",
       "75%      -0.705720    -0.123005     1.348613\n",
       "max       0.412110     2.587206     3.013140"
      ]
     },
     "execution_count": 18,
     "metadata": {},
     "output_type": "execute_result"
    }
   ],
   "source": [
    "movie_embedding_learnt = model.get_layer(name='Movie-Embedding').get_weights()[0]\n",
    "pd.DataFrame(movie_embedding_learnt).describe()"
   ]
  },
  {
   "cell_type": "code",
   "execution_count": 19,
   "metadata": {},
   "outputs": [
    {
     "data": {
      "text/html": [
       "<div>\n",
       "<style>\n",
       "    .dataframe thead tr:only-child th {\n",
       "        text-align: right;\n",
       "    }\n",
       "\n",
       "    .dataframe thead th {\n",
       "        text-align: left;\n",
       "    }\n",
       "\n",
       "    .dataframe tbody tr th {\n",
       "        vertical-align: top;\n",
       "    }\n",
       "</style>\n",
       "<table border=\"1\" class=\"dataframe\">\n",
       "  <thead>\n",
       "    <tr style=\"text-align: right;\">\n",
       "      <th></th>\n",
       "      <th>0</th>\n",
       "      <th>1</th>\n",
       "      <th>2</th>\n",
       "    </tr>\n",
       "  </thead>\n",
       "  <tbody>\n",
       "    <tr>\n",
       "      <th>count</th>\n",
       "      <td>944.000000</td>\n",
       "      <td>944.000000</td>\n",
       "      <td>944.000000</td>\n",
       "    </tr>\n",
       "    <tr>\n",
       "      <th>mean</th>\n",
       "      <td>-1.293906</td>\n",
       "      <td>-0.854671</td>\n",
       "      <td>1.216010</td>\n",
       "    </tr>\n",
       "    <tr>\n",
       "      <th>std</th>\n",
       "      <td>0.368389</td>\n",
       "      <td>0.631125</td>\n",
       "      <td>0.479045</td>\n",
       "    </tr>\n",
       "    <tr>\n",
       "      <th>min</th>\n",
       "      <td>-2.682317</td>\n",
       "      <td>-2.569576</td>\n",
       "      <td>-0.205914</td>\n",
       "    </tr>\n",
       "    <tr>\n",
       "      <th>25%</th>\n",
       "      <td>-1.528671</td>\n",
       "      <td>-1.283581</td>\n",
       "      <td>0.893250</td>\n",
       "    </tr>\n",
       "    <tr>\n",
       "      <th>50%</th>\n",
       "      <td>-1.305850</td>\n",
       "      <td>-0.931421</td>\n",
       "      <td>1.199088</td>\n",
       "    </tr>\n",
       "    <tr>\n",
       "      <th>75%</th>\n",
       "      <td>-1.077751</td>\n",
       "      <td>-0.508994</td>\n",
       "      <td>1.553708</td>\n",
       "    </tr>\n",
       "    <tr>\n",
       "      <th>max</th>\n",
       "      <td>0.377835</td>\n",
       "      <td>1.809386</td>\n",
       "      <td>3.263695</td>\n",
       "    </tr>\n",
       "  </tbody>\n",
       "</table>\n",
       "</div>"
      ],
      "text/plain": [
       "                0           1           2\n",
       "count  944.000000  944.000000  944.000000\n",
       "mean    -1.293906   -0.854671    1.216010\n",
       "std      0.368389    0.631125    0.479045\n",
       "min     -2.682317   -2.569576   -0.205914\n",
       "25%     -1.528671   -1.283581    0.893250\n",
       "50%     -1.305850   -0.931421    1.199088\n",
       "75%     -1.077751   -0.508994    1.553708\n",
       "max      0.377835    1.809386    3.263695"
      ]
     },
     "execution_count": 19,
     "metadata": {},
     "output_type": "execute_result"
    }
   ],
   "source": [
    "user_embedding_learnt = model.get_layer(name='User-Embedding').get_weights()[0]\n",
    "pd.DataFrame(user_embedding_learnt).describe()"
   ]
  },
  {
   "cell_type": "markdown",
   "metadata": {},
   "source": [
    "We can see that both the user and the item embeddings have negative elements. There are some applications which require that the learnt embeddings be non-negative. This approach is also called non-negative matrix factorisation, which we'll workout now."
   ]
  },
  {
   "cell_type": "markdown",
   "metadata": {},
   "source": [
    "### Non-negative Matrix factorisation (NNMF) in Keras"
   ]
  },
  {
   "cell_type": "markdown",
   "metadata": {},
   "source": [
    "The code for NNMF remains exactly the same as the code for matrix factorisation. The only change is that we add `non-negativity` constraints on the learnt embeddings. This is done as follows:"
   ]
  },
  {
   "cell_type": "code",
   "execution_count": 20,
   "metadata": {
    "collapsed": true
   },
   "outputs": [],
   "source": [
    "from keras.constraints import non_neg\n",
    "movie_input = keras.layers.Input(shape=[1],name='Item')\n",
    "movie_embedding = keras.layers.Embedding(n_movies + 1, n_latent_factors, name='NonNegMovie-Embedding', embeddings_constraint=non_neg())(movie_input)\n",
    "movie_vec = keras.layers.Flatten(name='FlattenMovies')(movie_embedding)\n",
    "\n",
    "user_input = keras.layers.Input(shape=[1],name='User')\n",
    "user_vec = keras.layers.Flatten(name='FlattenUsers')(keras.layers.Embedding(n_users + 1, n_latent_factors,name='NonNegUser-Embedding',embeddings_constraint=non_neg())(user_input))\n",
    "\n",
    "prod = keras.layers.merge([movie_vec, user_vec], mode='dot',name='DotProduct')\n",
    "model = keras.Model([user_input, movie_input], prod)\n",
    "model.compile('adam', 'mean_squared_error')"
   ]
  },
  {
   "cell_type": "markdown",
   "metadata": {},
   "source": [
    "We now verify if we are indeed able to learn non-negative embeddings. I'll not compare the performance of NNMF on the test set, in the interest of space."
   ]
  },
  {
   "cell_type": "code",
   "execution_count": 21,
   "metadata": {
    "collapsed": true
   },
   "outputs": [],
   "source": [
    "history_nonneg = model.fit([train.user_id, train.item_id], train.rating, epochs=10, verbose=0)"
   ]
  },
  {
   "cell_type": "code",
   "execution_count": 22,
   "metadata": {},
   "outputs": [
    {
     "data": {
      "text/html": [
       "<div>\n",
       "<style>\n",
       "    .dataframe thead tr:only-child th {\n",
       "        text-align: right;\n",
       "    }\n",
       "\n",
       "    .dataframe thead th {\n",
       "        text-align: left;\n",
       "    }\n",
       "\n",
       "    .dataframe tbody tr th {\n",
       "        vertical-align: top;\n",
       "    }\n",
       "</style>\n",
       "<table border=\"1\" class=\"dataframe\">\n",
       "  <thead>\n",
       "    <tr style=\"text-align: right;\">\n",
       "      <th></th>\n",
       "      <th>0</th>\n",
       "      <th>1</th>\n",
       "      <th>2</th>\n",
       "    </tr>\n",
       "  </thead>\n",
       "  <tbody>\n",
       "    <tr>\n",
       "      <th>count</th>\n",
       "      <td>1683.000000</td>\n",
       "      <td>1683.000000</td>\n",
       "      <td>1683.000000</td>\n",
       "    </tr>\n",
       "    <tr>\n",
       "      <th>mean</th>\n",
       "      <td>0.841644</td>\n",
       "      <td>0.842097</td>\n",
       "      <td>0.840586</td>\n",
       "    </tr>\n",
       "    <tr>\n",
       "      <th>std</th>\n",
       "      <td>0.296384</td>\n",
       "      <td>0.297492</td>\n",
       "      <td>0.296452</td>\n",
       "    </tr>\n",
       "    <tr>\n",
       "      <th>min</th>\n",
       "      <td>-0.000000</td>\n",
       "      <td>-0.000000</td>\n",
       "      <td>-0.000000</td>\n",
       "    </tr>\n",
       "    <tr>\n",
       "      <th>25%</th>\n",
       "      <td>0.650189</td>\n",
       "      <td>0.652484</td>\n",
       "      <td>0.649923</td>\n",
       "    </tr>\n",
       "    <tr>\n",
       "      <th>50%</th>\n",
       "      <td>0.895204</td>\n",
       "      <td>0.893022</td>\n",
       "      <td>0.889767</td>\n",
       "    </tr>\n",
       "    <tr>\n",
       "      <th>75%</th>\n",
       "      <td>1.073633</td>\n",
       "      <td>1.077216</td>\n",
       "      <td>1.071834</td>\n",
       "    </tr>\n",
       "    <tr>\n",
       "      <th>max</th>\n",
       "      <td>1.382212</td>\n",
       "      <td>1.375976</td>\n",
       "      <td>1.370250</td>\n",
       "    </tr>\n",
       "  </tbody>\n",
       "</table>\n",
       "</div>"
      ],
      "text/plain": [
       "                 0            1            2\n",
       "count  1683.000000  1683.000000  1683.000000\n",
       "mean      0.841644     0.842097     0.840586\n",
       "std       0.296384     0.297492     0.296452\n",
       "min      -0.000000    -0.000000    -0.000000\n",
       "25%       0.650189     0.652484     0.649923\n",
       "50%       0.895204     0.893022     0.889767\n",
       "75%       1.073633     1.077216     1.071834\n",
       "max       1.382212     1.375976     1.370250"
      ]
     },
     "execution_count": 22,
     "metadata": {},
     "output_type": "execute_result"
    }
   ],
   "source": [
    "movie_embedding_learnt = model.get_layer(name='NonNegMovie-Embedding').get_weights()[0]\n",
    "pd.DataFrame(movie_embedding_learnt).describe()"
   ]
  },
  {
   "cell_type": "markdown",
   "metadata": {},
   "source": [
    "Looks good!"
   ]
  },
  {
   "cell_type": "markdown",
   "metadata": {},
   "source": [
    "### Neural networks for recommendation\n",
    "\n",
    "We'll now create a simple neural network for recommendation, or for estimating rating! This model is very similar to the earlier matrix factorisation models, but differs in the following ways:\n",
    "\n",
    "1. Instead of taking a dot product of the user and the item embedding, we concatenate them and use them as features for our neural network. Thus, we are not constrained to the dot product way of combining the embeddings, and can learn complex non-linear relationships.\n",
    "2. Due to #1, we can now have a different dimension of user and item embeddings. This can be useful if one dimension is larger than the other."
   ]
  },
  {
   "cell_type": "code",
   "execution_count": 80,
   "metadata": {
    "collapsed": true
   },
   "outputs": [],
   "source": [
    "n_latent_factors_user = 5\n",
    "n_latent_factors_movie = 8\n",
    "\n",
    "movie_input = keras.layers.Input(shape=[1],name='Item')\n",
    "movie_embedding = keras.layers.Embedding(n_movies + 1, n_latent_factors_movie, name='Movie-Embedding')(movie_input)\n",
    "movie_vec = keras.layers.Flatten(name='FlattenMovies')(movie_embedding)\n",
    "movie_vec = keras.layers.Dropout(0.2)(movie_vec)\n",
    "\n",
    "\n",
    "user_input = keras.layers.Input(shape=[1],name='User')\n",
    "user_vec = keras.layers.Flatten(name='FlattenUsers')(keras.layers.Embedding(n_users + 1, n_latent_factors_user,name='User-Embedding')(user_input))\n",
    "user_vec = keras.layers.Dropout(0.2)(user_vec)\n",
    "\n",
    "\n",
    "concat = keras.layers.merge([movie_vec, user_vec], mode='concat',name='Concat')\n",
    "concat_dropout = keras.layers.Dropout(0.2)(concat)\n",
    "dense = keras.layers.Dense(200,name='FullyConnected')(concat)\n",
    "dropout_1 = keras.layers.Dropout(0.2,name='Dropout')(dense)\n",
    "dense_2 = keras.layers.Dense(100,name='FullyConnected-1')(concat)\n",
    "dropout_2 = keras.layers.Dropout(0.2,name='Dropout')(dense_2)\n",
    "dense_3 = keras.layers.Dense(50,name='FullyConnected-2')(dense_2)\n",
    "dropout_3 = keras.layers.Dropout(0.2,name='Dropout')(dense_3)\n",
    "dense_4 = keras.layers.Dense(20,name='FullyConnected-3', activation='relu')(dense_3)\n",
    "\n",
    "\n",
    "result = keras.layers.Dense(1, activation='relu',name='Activation')(dense_4)\n",
    "adam = Adam(lr=0.005)\n",
    "model = keras.Model([user_input, movie_input], result)\n",
    "model.compile(optimizer=adam,loss= 'mean_absolute_error')"
   ]
  },
  {
   "cell_type": "markdown",
   "metadata": {},
   "source": [
    "Let's now see how our model looks like:"
   ]
  },
  {
   "cell_type": "code",
   "execution_count": 81,
   "metadata": {},
   "outputs": [
    {
     "data": {
      "image/svg+xml": [
       "<svg height=\"701pt\" viewBox=\"0.00 0.00 681.82 701.00\" width=\"682pt\" xmlns=\"http://www.w3.org/2000/svg\" xmlns:xlink=\"http://www.w3.org/1999/xlink\">\n",
       "<g class=\"graph\" id=\"graph0\" transform=\"scale(1 1) rotate(0) translate(4 697)\">\n",
       "<title>G</title>\n",
       "<polygon fill=\"white\" points=\"-4,4 -4,-697 677.815,-697 677.815,4 -4,4\" stroke=\"none\"/>\n",
       "<!-- 112543382328 -->\n",
       "<g class=\"node\" id=\"node1\"><title>112543382328</title>\n",
       "<polygon fill=\"none\" points=\"48.2275,-648.5 48.2275,-692.5 284.783,-692.5 284.783,-648.5 48.2275,-648.5\" stroke=\"black\"/>\n",
       "<text font-family=\"Times,serif\" font-size=\"14.00\" text-anchor=\"middle\" x=\"103.847\" y=\"-666.3\">Item: InputLayer</text>\n",
       "<polyline fill=\"none\" points=\"159.466,-648.5 159.466,-692.5 \" stroke=\"black\"/>\n",
       "<text font-family=\"Times,serif\" font-size=\"14.00\" text-anchor=\"middle\" x=\"187.3\" y=\"-677.3\">input:</text>\n",
       "<polyline fill=\"none\" points=\"159.466,-670.5 215.135,-670.5 \" stroke=\"black\"/>\n",
       "<text font-family=\"Times,serif\" font-size=\"14.00\" text-anchor=\"middle\" x=\"187.3\" y=\"-655.3\">output:</text>\n",
       "<polyline fill=\"none\" points=\"215.135,-648.5 215.135,-692.5 \" stroke=\"black\"/>\n",
       "<text font-family=\"Times,serif\" font-size=\"14.00\" text-anchor=\"middle\" x=\"249.959\" y=\"-677.3\">(None, 1)</text>\n",
       "<polyline fill=\"none\" points=\"215.135,-670.5 284.783,-670.5 \" stroke=\"black\"/>\n",
       "<text font-family=\"Times,serif\" font-size=\"14.00\" text-anchor=\"middle\" x=\"249.959\" y=\"-655.3\">(None, 1)</text>\n",
       "</g>\n",
       "<!-- 112543382496 -->\n",
       "<g class=\"node\" id=\"node3\"><title>112543382496</title>\n",
       "<polygon fill=\"none\" points=\"0,-567.5 0,-611.5 333.011,-611.5 333.011,-567.5 0,-567.5\" stroke=\"black\"/>\n",
       "<text font-family=\"Times,serif\" font-size=\"14.00\" text-anchor=\"middle\" x=\"96.8467\" y=\"-585.3\">Movie-Embedding: Embedding</text>\n",
       "<polyline fill=\"none\" points=\"193.693,-567.5 193.693,-611.5 \" stroke=\"black\"/>\n",
       "<text font-family=\"Times,serif\" font-size=\"14.00\" text-anchor=\"middle\" x=\"221.528\" y=\"-596.3\">input:</text>\n",
       "<polyline fill=\"none\" points=\"193.693,-589.5 249.362,-589.5 \" stroke=\"black\"/>\n",
       "<text font-family=\"Times,serif\" font-size=\"14.00\" text-anchor=\"middle\" x=\"221.528\" y=\"-574.3\">output:</text>\n",
       "<polyline fill=\"none\" points=\"249.362,-567.5 249.362,-611.5 \" stroke=\"black\"/>\n",
       "<text font-family=\"Times,serif\" font-size=\"14.00\" text-anchor=\"middle\" x=\"291.187\" y=\"-596.3\">(None, 1)</text>\n",
       "<polyline fill=\"none\" points=\"249.362,-589.5 333.011,-589.5 \" stroke=\"black\"/>\n",
       "<text font-family=\"Times,serif\" font-size=\"14.00\" text-anchor=\"middle\" x=\"291.187\" y=\"-574.3\">(None, 1, 8)</text>\n",
       "</g>\n",
       "<!-- 112543382328&#45;&gt;112543382496 -->\n",
       "<g class=\"edge\" id=\"edge1\"><title>112543382328-&gt;112543382496</title>\n",
       "<path d=\"M166.505,-648.329C166.505,-640.183 166.505,-630.699 166.505,-621.797\" fill=\"none\" stroke=\"black\"/>\n",
       "<polygon fill=\"black\" points=\"170.005,-621.729 166.505,-611.729 163.005,-621.729 170.005,-621.729\" stroke=\"black\"/>\n",
       "</g>\n",
       "<!-- 112542907920 -->\n",
       "<g class=\"node\" id=\"node2\"><title>112542907920</title>\n",
       "<polygon fill=\"none\" points=\"393.838,-648.5 393.838,-692.5 631.173,-692.5 631.173,-648.5 393.838,-648.5\" stroke=\"black\"/>\n",
       "<text font-family=\"Times,serif\" font-size=\"14.00\" text-anchor=\"middle\" x=\"449.847\" y=\"-666.3\">User: InputLayer</text>\n",
       "<polyline fill=\"none\" points=\"505.855,-648.5 505.855,-692.5 \" stroke=\"black\"/>\n",
       "<text font-family=\"Times,serif\" font-size=\"14.00\" text-anchor=\"middle\" x=\"533.69\" y=\"-677.3\">input:</text>\n",
       "<polyline fill=\"none\" points=\"505.855,-670.5 561.524,-670.5 \" stroke=\"black\"/>\n",
       "<text font-family=\"Times,serif\" font-size=\"14.00\" text-anchor=\"middle\" x=\"533.69\" y=\"-655.3\">output:</text>\n",
       "<polyline fill=\"none\" points=\"561.524,-648.5 561.524,-692.5 \" stroke=\"black\"/>\n",
       "<text font-family=\"Times,serif\" font-size=\"14.00\" text-anchor=\"middle\" x=\"596.349\" y=\"-677.3\">(None, 1)</text>\n",
       "<polyline fill=\"none\" points=\"561.524,-670.5 631.173,-670.5 \" stroke=\"black\"/>\n",
       "<text font-family=\"Times,serif\" font-size=\"14.00\" text-anchor=\"middle\" x=\"596.349\" y=\"-655.3\">(None, 1)</text>\n",
       "</g>\n",
       "<!-- 112543382832 -->\n",
       "<g class=\"node\" id=\"node4\"><title>112543382832</title>\n",
       "<polygon fill=\"none\" points=\"351.195,-567.5 351.195,-611.5 673.815,-611.5 673.815,-567.5 351.195,-567.5\" stroke=\"black\"/>\n",
       "<text font-family=\"Times,serif\" font-size=\"14.00\" text-anchor=\"middle\" x=\"442.847\" y=\"-585.3\">User-Embedding: Embedding</text>\n",
       "<polyline fill=\"none\" points=\"534.498,-567.5 534.498,-611.5 \" stroke=\"black\"/>\n",
       "<text font-family=\"Times,serif\" font-size=\"14.00\" text-anchor=\"middle\" x=\"562.333\" y=\"-596.3\">input:</text>\n",
       "<polyline fill=\"none\" points=\"534.498,-589.5 590.167,-589.5 \" stroke=\"black\"/>\n",
       "<text font-family=\"Times,serif\" font-size=\"14.00\" text-anchor=\"middle\" x=\"562.333\" y=\"-574.3\">output:</text>\n",
       "<polyline fill=\"none\" points=\"590.167,-567.5 590.167,-611.5 \" stroke=\"black\"/>\n",
       "<text font-family=\"Times,serif\" font-size=\"14.00\" text-anchor=\"middle\" x=\"631.991\" y=\"-596.3\">(None, 1)</text>\n",
       "<polyline fill=\"none\" points=\"590.167,-589.5 673.815,-589.5 \" stroke=\"black\"/>\n",
       "<text font-family=\"Times,serif\" font-size=\"14.00\" text-anchor=\"middle\" x=\"631.991\" y=\"-574.3\">(None, 1, 5)</text>\n",
       "</g>\n",
       "<!-- 112542907920&#45;&gt;112543382832 -->\n",
       "<g class=\"edge\" id=\"edge2\"><title>112542907920-&gt;112543382832</title>\n",
       "<path d=\"M512.505,-648.329C512.505,-640.183 512.505,-630.699 512.505,-621.797\" fill=\"none\" stroke=\"black\"/>\n",
       "<polygon fill=\"black\" points=\"516.005,-621.729 512.505,-611.729 509.005,-621.729 516.005,-621.729\" stroke=\"black\"/>\n",
       "</g>\n",
       "<!-- 112543382888 -->\n",
       "<g class=\"node\" id=\"node5\"><title>112543382888</title>\n",
       "<polygon fill=\"none\" points=\"50.269,-486.5 50.269,-530.5 332.742,-530.5 332.742,-486.5 50.269,-486.5\" stroke=\"black\"/>\n",
       "<text font-family=\"Times,serif\" font-size=\"14.00\" text-anchor=\"middle\" x=\"121.847\" y=\"-504.3\">FlattenMovies: Flatten</text>\n",
       "<polyline fill=\"none\" points=\"193.424,-486.5 193.424,-530.5 \" stroke=\"black\"/>\n",
       "<text font-family=\"Times,serif\" font-size=\"14.00\" text-anchor=\"middle\" x=\"221.259\" y=\"-515.3\">input:</text>\n",
       "<polyline fill=\"none\" points=\"193.424,-508.5 249.093,-508.5 \" stroke=\"black\"/>\n",
       "<text font-family=\"Times,serif\" font-size=\"14.00\" text-anchor=\"middle\" x=\"221.259\" y=\"-493.3\">output:</text>\n",
       "<polyline fill=\"none\" points=\"249.093,-486.5 249.093,-530.5 \" stroke=\"black\"/>\n",
       "<text font-family=\"Times,serif\" font-size=\"14.00\" text-anchor=\"middle\" x=\"290.917\" y=\"-515.3\">(None, 1, 8)</text>\n",
       "<polyline fill=\"none\" points=\"249.093,-508.5 332.742,-508.5 \" stroke=\"black\"/>\n",
       "<text font-family=\"Times,serif\" font-size=\"14.00\" text-anchor=\"middle\" x=\"290.917\" y=\"-493.3\">(None, 8)</text>\n",
       "</g>\n",
       "<!-- 112543382496&#45;&gt;112543382888 -->\n",
       "<g class=\"edge\" id=\"edge3\"><title>112543382496-&gt;112543382888</title>\n",
       "<path d=\"M173.205,-567.329C175.811,-559.094 178.849,-549.493 181.693,-540.507\" fill=\"none\" stroke=\"black\"/>\n",
       "<polygon fill=\"black\" points=\"185.107,-541.319 184.787,-530.729 178.433,-539.207 185.107,-541.319\" stroke=\"black\"/>\n",
       "</g>\n",
       "<!-- 112542809952 -->\n",
       "<g class=\"node\" id=\"node6\"><title>112542809952</title>\n",
       "<polygon fill=\"none\" points=\"363.328,-486.5 363.328,-530.5 635.683,-530.5 635.683,-486.5 363.328,-486.5\" stroke=\"black\"/>\n",
       "<text font-family=\"Times,serif\" font-size=\"14.00\" text-anchor=\"middle\" x=\"429.847\" y=\"-504.3\">FlattenUsers: Flatten</text>\n",
       "<polyline fill=\"none\" points=\"496.366,-486.5 496.366,-530.5 \" stroke=\"black\"/>\n",
       "<text font-family=\"Times,serif\" font-size=\"14.00\" text-anchor=\"middle\" x=\"524.2\" y=\"-515.3\">input:</text>\n",
       "<polyline fill=\"none\" points=\"496.366,-508.5 552.035,-508.5 \" stroke=\"black\"/>\n",
       "<text font-family=\"Times,serif\" font-size=\"14.00\" text-anchor=\"middle\" x=\"524.2\" y=\"-493.3\">output:</text>\n",
       "<polyline fill=\"none\" points=\"552.035,-486.5 552.035,-530.5 \" stroke=\"black\"/>\n",
       "<text font-family=\"Times,serif\" font-size=\"14.00\" text-anchor=\"middle\" x=\"593.859\" y=\"-515.3\">(None, 1, 5)</text>\n",
       "<polyline fill=\"none\" points=\"552.035,-508.5 635.683,-508.5 \" stroke=\"black\"/>\n",
       "<text font-family=\"Times,serif\" font-size=\"14.00\" text-anchor=\"middle\" x=\"593.859\" y=\"-493.3\">(None, 5)</text>\n",
       "</g>\n",
       "<!-- 112543382832&#45;&gt;112542809952 -->\n",
       "<g class=\"edge\" id=\"edge4\"><title>112543382832-&gt;112542809952</title>\n",
       "<path d=\"M509.022,-567.329C507.681,-559.183 506.12,-549.699 504.656,-540.797\" fill=\"none\" stroke=\"black\"/>\n",
       "<polygon fill=\"black\" points=\"508.076,-540.028 502.999,-530.729 501.169,-541.165 508.076,-540.028\" stroke=\"black\"/>\n",
       "</g>\n",
       "<!-- 112542908200 -->\n",
       "<g class=\"node\" id=\"node7\"><title>112542908200</title>\n",
       "<polygon fill=\"none\" points=\"76.5449,-405.5 76.5449,-449.5 336.466,-449.5 336.466,-405.5 76.5449,-405.5\" stroke=\"black\"/>\n",
       "<text font-family=\"Times,serif\" font-size=\"14.00\" text-anchor=\"middle\" x=\"143.847\" y=\"-423.3\">dropout_43: Dropout</text>\n",
       "<polyline fill=\"none\" points=\"211.148,-405.5 211.148,-449.5 \" stroke=\"black\"/>\n",
       "<text font-family=\"Times,serif\" font-size=\"14.00\" text-anchor=\"middle\" x=\"238.983\" y=\"-434.3\">input:</text>\n",
       "<polyline fill=\"none\" points=\"211.148,-427.5 266.817,-427.5 \" stroke=\"black\"/>\n",
       "<text font-family=\"Times,serif\" font-size=\"14.00\" text-anchor=\"middle\" x=\"238.983\" y=\"-412.3\">output:</text>\n",
       "<polyline fill=\"none\" points=\"266.817,-405.5 266.817,-449.5 \" stroke=\"black\"/>\n",
       "<text font-family=\"Times,serif\" font-size=\"14.00\" text-anchor=\"middle\" x=\"301.642\" y=\"-434.3\">(None, 8)</text>\n",
       "<polyline fill=\"none\" points=\"266.817,-427.5 336.466,-427.5 \" stroke=\"black\"/>\n",
       "<text font-family=\"Times,serif\" font-size=\"14.00\" text-anchor=\"middle\" x=\"301.642\" y=\"-412.3\">(None, 8)</text>\n",
       "</g>\n",
       "<!-- 112543382888&#45;&gt;112542908200 -->\n",
       "<g class=\"edge\" id=\"edge5\"><title>112543382888-&gt;112542908200</title>\n",
       "<path d=\"M195.525,-486.329C197.072,-478.183 198.873,-468.699 200.563,-459.797\" fill=\"none\" stroke=\"black\"/>\n",
       "<polygon fill=\"black\" points=\"204.048,-460.206 202.475,-449.729 197.17,-458.901 204.048,-460.206\" stroke=\"black\"/>\n",
       "</g>\n",
       "<!-- 112543214000 -->\n",
       "<g class=\"node\" id=\"node8\"><title>112543214000</title>\n",
       "<polygon fill=\"none\" points=\"361.545,-405.5 361.545,-449.5 621.466,-449.5 621.466,-405.5 361.545,-405.5\" stroke=\"black\"/>\n",
       "<text font-family=\"Times,serif\" font-size=\"14.00\" text-anchor=\"middle\" x=\"428.847\" y=\"-423.3\">dropout_44: Dropout</text>\n",
       "<polyline fill=\"none\" points=\"496.148,-405.5 496.148,-449.5 \" stroke=\"black\"/>\n",
       "<text font-family=\"Times,serif\" font-size=\"14.00\" text-anchor=\"middle\" x=\"523.983\" y=\"-434.3\">input:</text>\n",
       "<polyline fill=\"none\" points=\"496.148,-427.5 551.817,-427.5 \" stroke=\"black\"/>\n",
       "<text font-family=\"Times,serif\" font-size=\"14.00\" text-anchor=\"middle\" x=\"523.983\" y=\"-412.3\">output:</text>\n",
       "<polyline fill=\"none\" points=\"551.817,-405.5 551.817,-449.5 \" stroke=\"black\"/>\n",
       "<text font-family=\"Times,serif\" font-size=\"14.00\" text-anchor=\"middle\" x=\"586.642\" y=\"-434.3\">(None, 5)</text>\n",
       "<polyline fill=\"none\" points=\"551.817,-427.5 621.466,-427.5 \" stroke=\"black\"/>\n",
       "<text font-family=\"Times,serif\" font-size=\"14.00\" text-anchor=\"middle\" x=\"586.642\" y=\"-412.3\">(None, 5)</text>\n",
       "</g>\n",
       "<!-- 112542809952&#45;&gt;112543214000 -->\n",
       "<g class=\"edge\" id=\"edge6\"><title>112542809952-&gt;112543214000</title>\n",
       "<path d=\"M497.362,-486.329C496.537,-478.183 495.576,-468.699 494.675,-459.797\" fill=\"none\" stroke=\"black\"/>\n",
       "<polygon fill=\"black\" points=\"498.145,-459.325 493.655,-449.729 491.181,-460.031 498.145,-459.325\" stroke=\"black\"/>\n",
       "</g>\n",
       "<!-- 112543379584 -->\n",
       "<g class=\"node\" id=\"node9\"><title>112543379584</title>\n",
       "<polygon fill=\"none\" points=\"201.192,-324.5 201.192,-368.5 495.819,-368.5 495.819,-324.5 201.192,-324.5\" stroke=\"black\"/>\n",
       "<text font-family=\"Times,serif\" font-size=\"14.00\" text-anchor=\"middle\" x=\"250.86\" y=\"-342.3\">Concat: Merge</text>\n",
       "<polyline fill=\"none\" points=\"300.529,-324.5 300.529,-368.5 \" stroke=\"black\"/>\n",
       "<text font-family=\"Times,serif\" font-size=\"14.00\" text-anchor=\"middle\" x=\"328.363\" y=\"-353.3\">input:</text>\n",
       "<polyline fill=\"none\" points=\"300.529,-346.5 356.198,-346.5 \" stroke=\"black\"/>\n",
       "<text font-family=\"Times,serif\" font-size=\"14.00\" text-anchor=\"middle\" x=\"328.363\" y=\"-331.3\">output:</text>\n",
       "<polyline fill=\"none\" points=\"356.198,-324.5 356.198,-368.5 \" stroke=\"black\"/>\n",
       "<text font-family=\"Times,serif\" font-size=\"14.00\" text-anchor=\"middle\" x=\"426.008\" y=\"-353.3\">[(None, 8), (None, 5)]</text>\n",
       "<polyline fill=\"none\" points=\"356.198,-346.5 495.819,-346.5 \" stroke=\"black\"/>\n",
       "<text font-family=\"Times,serif\" font-size=\"14.00\" text-anchor=\"middle\" x=\"425.522\" y=\"-331.3\">(None, 13)</text>\n",
       "</g>\n",
       "<!-- 112542908200&#45;&gt;112543379584 -->\n",
       "<g class=\"edge\" id=\"edge7\"><title>112542908200-&gt;112543379584</title>\n",
       "<path d=\"M244.559,-405.329C262.068,-395.589 283.011,-383.937 301.496,-373.653\" fill=\"none\" stroke=\"black\"/>\n",
       "<polygon fill=\"black\" points=\"303.31,-376.649 310.347,-368.729 299.907,-370.532 303.31,-376.649\" stroke=\"black\"/>\n",
       "</g>\n",
       "<!-- 112543214000&#45;&gt;112543379584 -->\n",
       "<g class=\"edge\" id=\"edge8\"><title>112543214000-&gt;112543379584</title>\n",
       "<path d=\"M453.184,-405.329C435.552,-395.589 414.461,-383.937 395.846,-373.653\" fill=\"none\" stroke=\"black\"/>\n",
       "<polygon fill=\"black\" points=\"397.378,-370.501 386.933,-368.729 393.993,-376.628 397.378,-370.501\" stroke=\"black\"/>\n",
       "</g>\n",
       "<!-- 112539983768 -->\n",
       "<g class=\"node\" id=\"node10\"><title>112539983768</title>\n",
       "<polygon fill=\"none\" points=\"199.11,-243.5 199.11,-287.5 497.9,-287.5 497.9,-243.5 199.11,-243.5\" stroke=\"black\"/>\n",
       "<text font-family=\"Times,serif\" font-size=\"14.00\" text-anchor=\"middle\" x=\"278.847\" y=\"-261.3\">FullyConnected-1: Dense</text>\n",
       "<polyline fill=\"none\" points=\"358.583,-243.5 358.583,-287.5 \" stroke=\"black\"/>\n",
       "<text font-family=\"Times,serif\" font-size=\"14.00\" text-anchor=\"middle\" x=\"386.417\" y=\"-272.3\">input:</text>\n",
       "<polyline fill=\"none\" points=\"358.583,-265.5 414.252,-265.5 \" stroke=\"black\"/>\n",
       "<text font-family=\"Times,serif\" font-size=\"14.00\" text-anchor=\"middle\" x=\"386.417\" y=\"-250.3\">output:</text>\n",
       "<polyline fill=\"none\" points=\"414.252,-243.5 414.252,-287.5 \" stroke=\"black\"/>\n",
       "<text font-family=\"Times,serif\" font-size=\"14.00\" text-anchor=\"middle\" x=\"456.076\" y=\"-272.3\">(None, 13)</text>\n",
       "<polyline fill=\"none\" points=\"414.252,-265.5 497.9,-265.5 \" stroke=\"black\"/>\n",
       "<text font-family=\"Times,serif\" font-size=\"14.00\" text-anchor=\"middle\" x=\"456.076\" y=\"-250.3\">(None, 100)</text>\n",
       "</g>\n",
       "<!-- 112543379584&#45;&gt;112539983768 -->\n",
       "<g class=\"edge\" id=\"edge9\"><title>112543379584-&gt;112539983768</title>\n",
       "<path d=\"M348.505,-324.329C348.505,-316.183 348.505,-306.699 348.505,-297.797\" fill=\"none\" stroke=\"black\"/>\n",
       "<polygon fill=\"black\" points=\"352.005,-297.729 348.505,-287.729 345.005,-297.729 352.005,-297.729\" stroke=\"black\"/>\n",
       "</g>\n",
       "<!-- 112540865872 -->\n",
       "<g class=\"node\" id=\"node11\"><title>112540865872</title>\n",
       "<polygon fill=\"none\" points=\"199.11,-162.5 199.11,-206.5 497.9,-206.5 497.9,-162.5 199.11,-162.5\" stroke=\"black\"/>\n",
       "<text font-family=\"Times,serif\" font-size=\"14.00\" text-anchor=\"middle\" x=\"278.847\" y=\"-180.3\">FullyConnected-2: Dense</text>\n",
       "<polyline fill=\"none\" points=\"358.583,-162.5 358.583,-206.5 \" stroke=\"black\"/>\n",
       "<text font-family=\"Times,serif\" font-size=\"14.00\" text-anchor=\"middle\" x=\"386.417\" y=\"-191.3\">input:</text>\n",
       "<polyline fill=\"none\" points=\"358.583,-184.5 414.252,-184.5 \" stroke=\"black\"/>\n",
       "<text font-family=\"Times,serif\" font-size=\"14.00\" text-anchor=\"middle\" x=\"386.417\" y=\"-169.3\">output:</text>\n",
       "<polyline fill=\"none\" points=\"414.252,-162.5 414.252,-206.5 \" stroke=\"black\"/>\n",
       "<text font-family=\"Times,serif\" font-size=\"14.00\" text-anchor=\"middle\" x=\"456.076\" y=\"-191.3\">(None, 100)</text>\n",
       "<polyline fill=\"none\" points=\"414.252,-184.5 497.9,-184.5 \" stroke=\"black\"/>\n",
       "<text font-family=\"Times,serif\" font-size=\"14.00\" text-anchor=\"middle\" x=\"456.076\" y=\"-169.3\">(None, 50)</text>\n",
       "</g>\n",
       "<!-- 112539983768&#45;&gt;112540865872 -->\n",
       "<g class=\"edge\" id=\"edge10\"><title>112539983768-&gt;112540865872</title>\n",
       "<path d=\"M348.505,-243.329C348.505,-235.183 348.505,-225.699 348.505,-216.797\" fill=\"none\" stroke=\"black\"/>\n",
       "<polygon fill=\"black\" points=\"352.005,-216.729 348.505,-206.729 345.005,-216.729 352.005,-216.729\" stroke=\"black\"/>\n",
       "</g>\n",
       "<!-- 112541514944 -->\n",
       "<g class=\"node\" id=\"node12\"><title>112541514944</title>\n",
       "<polygon fill=\"none\" points=\"202.61,-81.5 202.61,-125.5 494.4,-125.5 494.4,-81.5 202.61,-81.5\" stroke=\"black\"/>\n",
       "<text font-family=\"Times,serif\" font-size=\"14.00\" text-anchor=\"middle\" x=\"282.347\" y=\"-99.3\">FullyConnected-3: Dense</text>\n",
       "<polyline fill=\"none\" points=\"362.083,-81.5 362.083,-125.5 \" stroke=\"black\"/>\n",
       "<text font-family=\"Times,serif\" font-size=\"14.00\" text-anchor=\"middle\" x=\"389.917\" y=\"-110.3\">input:</text>\n",
       "<polyline fill=\"none\" points=\"362.083,-103.5 417.752,-103.5 \" stroke=\"black\"/>\n",
       "<text font-family=\"Times,serif\" font-size=\"14.00\" text-anchor=\"middle\" x=\"389.917\" y=\"-88.3\">output:</text>\n",
       "<polyline fill=\"none\" points=\"417.752,-81.5 417.752,-125.5 \" stroke=\"black\"/>\n",
       "<text font-family=\"Times,serif\" font-size=\"14.00\" text-anchor=\"middle\" x=\"456.076\" y=\"-110.3\">(None, 50)</text>\n",
       "<polyline fill=\"none\" points=\"417.752,-103.5 494.4,-103.5 \" stroke=\"black\"/>\n",
       "<text font-family=\"Times,serif\" font-size=\"14.00\" text-anchor=\"middle\" x=\"456.076\" y=\"-88.3\">(None, 20)</text>\n",
       "</g>\n",
       "<!-- 112540865872&#45;&gt;112541514944 -->\n",
       "<g class=\"edge\" id=\"edge11\"><title>112540865872-&gt;112541514944</title>\n",
       "<path d=\"M348.505,-162.329C348.505,-154.183 348.505,-144.699 348.505,-135.797\" fill=\"none\" stroke=\"black\"/>\n",
       "<polygon fill=\"black\" points=\"352.005,-135.729 348.505,-125.729 345.005,-135.729 352.005,-135.729\" stroke=\"black\"/>\n",
       "</g>\n",
       "<!-- 112541513768 -->\n",
       "<g class=\"node\" id=\"node13\"><title>112541513768</title>\n",
       "<polygon fill=\"none\" points=\"223.61,-0.5 223.61,-44.5 473.4,-44.5 473.4,-0.5 223.61,-0.5\" stroke=\"black\"/>\n",
       "<text font-family=\"Times,serif\" font-size=\"14.00\" text-anchor=\"middle\" x=\"282.347\" y=\"-18.3\">Activation: Dense</text>\n",
       "<polyline fill=\"none\" points=\"341.083,-0.5 341.083,-44.5 \" stroke=\"black\"/>\n",
       "<text font-family=\"Times,serif\" font-size=\"14.00\" text-anchor=\"middle\" x=\"368.917\" y=\"-29.3\">input:</text>\n",
       "<polyline fill=\"none\" points=\"341.083,-22.5 396.752,-22.5 \" stroke=\"black\"/>\n",
       "<text font-family=\"Times,serif\" font-size=\"14.00\" text-anchor=\"middle\" x=\"368.917\" y=\"-7.3\">output:</text>\n",
       "<polyline fill=\"none\" points=\"396.752,-0.5 396.752,-44.5 \" stroke=\"black\"/>\n",
       "<text font-family=\"Times,serif\" font-size=\"14.00\" text-anchor=\"middle\" x=\"435.076\" y=\"-29.3\">(None, 20)</text>\n",
       "<polyline fill=\"none\" points=\"396.752,-22.5 473.4,-22.5 \" stroke=\"black\"/>\n",
       "<text font-family=\"Times,serif\" font-size=\"14.00\" text-anchor=\"middle\" x=\"435.076\" y=\"-7.3\">(None, 1)</text>\n",
       "</g>\n",
       "<!-- 112541514944&#45;&gt;112541513768 -->\n",
       "<g class=\"edge\" id=\"edge12\"><title>112541514944-&gt;112541513768</title>\n",
       "<path d=\"M348.505,-81.3294C348.505,-73.1826 348.505,-63.6991 348.505,-54.7971\" fill=\"none\" stroke=\"black\"/>\n",
       "<polygon fill=\"black\" points=\"352.005,-54.729 348.505,-44.729 345.005,-54.729 352.005,-54.729\" stroke=\"black\"/>\n",
       "</g>\n",
       "</g>\n",
       "</svg>"
      ],
      "text/plain": [
       "<IPython.core.display.SVG object>"
      ]
     },
     "execution_count": 81,
     "metadata": {},
     "output_type": "execute_result"
    }
   ],
   "source": [
    "SVG(model_to_dot(model,  show_shapes=True, show_layer_names=True, rankdir='HB').create(prog='dot', format='svg'))"
   ]
  },
  {
   "cell_type": "markdown",
   "metadata": {},
   "source": [
    "It should be noted that we use a different number of embeddings for user (3) and items (5)! These combine to form a vector of length (5+3 = 8), which is then fed into the neural network. We also add a dropout layer to prevent overfitting!"
   ]
  },
  {
   "cell_type": "code",
   "execution_count": 82,
   "metadata": {},
   "outputs": [
    {
     "name": "stdout",
     "output_type": "stream",
     "text": [
      "__________________________________________________________________________________________________\n",
      "Layer (type)                    Output Shape         Param #     Connected to                     \n",
      "==================================================================================================\n",
      "Item (InputLayer)               (None, 1)            0                                            \n",
      "__________________________________________________________________________________________________\n",
      "User (InputLayer)               (None, 1)            0                                            \n",
      "__________________________________________________________________________________________________\n",
      "Movie-Embedding (Embedding)     (None, 1, 8)         13464       Item[0][0]                       \n",
      "__________________________________________________________________________________________________\n",
      "User-Embedding (Embedding)      (None, 1, 5)         4720        User[0][0]                       \n",
      "__________________________________________________________________________________________________\n",
      "FlattenMovies (Flatten)         (None, 8)            0           Movie-Embedding[0][0]            \n",
      "__________________________________________________________________________________________________\n",
      "FlattenUsers (Flatten)          (None, 5)            0           User-Embedding[0][0]             \n",
      "__________________________________________________________________________________________________\n",
      "dropout_43 (Dropout)            (None, 8)            0           FlattenMovies[0][0]              \n",
      "__________________________________________________________________________________________________\n",
      "dropout_44 (Dropout)            (None, 5)            0           FlattenUsers[0][0]               \n",
      "__________________________________________________________________________________________________\n",
      "Concat (Merge)                  (None, 13)           0           dropout_43[0][0]                 \n",
      "                                                                 dropout_44[0][0]                 \n",
      "__________________________________________________________________________________________________\n",
      "FullyConnected-1 (Dense)        (None, 100)          1400        Concat[0][0]                     \n",
      "__________________________________________________________________________________________________\n",
      "FullyConnected-2 (Dense)        (None, 50)           5050        FullyConnected-1[0][0]           \n",
      "__________________________________________________________________________________________________\n",
      "FullyConnected-3 (Dense)        (None, 20)           1020        FullyConnected-2[0][0]           \n",
      "__________________________________________________________________________________________________\n",
      "Activation (Dense)              (None, 1)            21          FullyConnected-3[0][0]           \n",
      "==================================================================================================\n",
      "Total params: 25,675\n",
      "Trainable params: 25,675\n",
      "Non-trainable params: 0\n",
      "__________________________________________________________________________________________________\n"
     ]
    }
   ],
   "source": [
    "model.summary()"
   ]
  },
  {
   "cell_type": "markdown",
   "metadata": {},
   "source": [
    "We can see that the number of parameters is more than what we had in the Matrix Factorisation case. Let's see how this model works. I'll run it for more epochs given that we have more parameters."
   ]
  },
  {
   "cell_type": "code",
   "execution_count": 88,
   "metadata": {},
   "outputs": [
    {
     "name": "stdout",
     "output_type": "stream",
     "text": [
      "Epoch 1/250\n",
      "80000/80000 [==============================] - 4s 46us/step - loss: 0.6759\n",
      "Epoch 2/250\n",
      "80000/80000 [==============================] - 4s 46us/step - loss: 0.6794\n",
      "Epoch 3/250\n",
      "80000/80000 [==============================] - 4s 46us/step - loss: 0.6791\n",
      "Epoch 4/250\n",
      "80000/80000 [==============================] - 4s 46us/step - loss: 0.6741\n",
      "Epoch 5/250\n",
      "80000/80000 [==============================] - 4s 46us/step - loss: 0.6770\n",
      "Epoch 6/250\n",
      "80000/80000 [==============================] - 4s 46us/step - loss: 0.6769\n",
      "Epoch 7/250\n",
      "80000/80000 [==============================] - 4s 46us/step - loss: 0.6751\n",
      "Epoch 8/250\n",
      "80000/80000 [==============================] - 4s 46us/step - loss: 0.6788\n",
      "Epoch 9/250\n",
      "80000/80000 [==============================] - 4s 46us/step - loss: 0.6778\n",
      "Epoch 10/250\n",
      "80000/80000 [==============================] - 4s 46us/step - loss: 0.6753\n",
      "Epoch 11/250\n",
      "80000/80000 [==============================] - 4s 46us/step - loss: 0.6764\n",
      "Epoch 12/250\n",
      "80000/80000 [==============================] - 4s 52us/step - loss: 0.6765\n",
      "Epoch 13/250\n",
      "80000/80000 [==============================] - 5s 60us/step - loss: 0.6771\n",
      "Epoch 14/250\n",
      "80000/80000 [==============================] - 4s 49us/step - loss: 0.6757\n",
      "Epoch 15/250\n",
      "80000/80000 [==============================] - 4s 52us/step - loss: 0.6760\n",
      "Epoch 16/250\n",
      "80000/80000 [==============================] - 4s 46us/step - loss: 0.6763\n",
      "Epoch 17/250\n",
      "80000/80000 [==============================] - 4s 48us/step - loss: 0.6760\n",
      "Epoch 18/250\n",
      "80000/80000 [==============================] - 4s 49us/step - loss: 0.6772\n",
      "Epoch 19/250\n",
      "80000/80000 [==============================] - 4s 47us/step - loss: 0.6757\n",
      "Epoch 20/250\n",
      "80000/80000 [==============================] - 4s 47us/step - loss: 0.6724\n",
      "Epoch 21/250\n",
      "80000/80000 [==============================] - 4s 49us/step - loss: 0.6755\n",
      "Epoch 22/250\n",
      "80000/80000 [==============================] - 4s 50us/step - loss: 0.6747\n",
      "Epoch 23/250\n",
      "80000/80000 [==============================] - 4s 48us/step - loss: 0.6748\n",
      "Epoch 24/250\n",
      "80000/80000 [==============================] - 4s 47us/step - loss: 0.6726\n",
      "Epoch 25/250\n",
      "80000/80000 [==============================] - 4s 45us/step - loss: 0.6764\n",
      "Epoch 26/250\n",
      "80000/80000 [==============================] - 4s 47us/step - loss: 0.6748\n",
      "Epoch 27/250\n",
      "80000/80000 [==============================] - 4s 53us/step - loss: 0.6778\n",
      "Epoch 28/250\n",
      "80000/80000 [==============================] - 4s 46us/step - loss: 0.6759\n",
      "Epoch 29/250\n",
      "80000/80000 [==============================] - 4s 46us/step - loss: 0.6776\n",
      "Epoch 30/250\n",
      "80000/80000 [==============================] - 4s 46us/step - loss: 0.6739\n",
      "Epoch 31/250\n",
      "80000/80000 [==============================] - 4s 49us/step - loss: 0.6754\n",
      "Epoch 32/250\n",
      "80000/80000 [==============================] - 4s 50us/step - loss: 0.6748\n",
      "Epoch 33/250\n",
      "80000/80000 [==============================] - 4s 48us/step - loss: 0.6750\n",
      "Epoch 34/250\n",
      "80000/80000 [==============================] - 4s 45us/step - loss: 0.6741\n",
      "Epoch 35/250\n",
      "80000/80000 [==============================] - 4s 46us/step - loss: 0.6744\n",
      "Epoch 36/250\n",
      "80000/80000 [==============================] - 4s 49us/step - loss: 0.6724\n",
      "Epoch 37/250\n",
      "80000/80000 [==============================] - 4s 45us/step - loss: 0.6746\n",
      "Epoch 38/250\n",
      "80000/80000 [==============================] - 4s 48us/step - loss: 0.6748\n",
      "Epoch 39/250\n",
      "80000/80000 [==============================] - 4s 49us/step - loss: 0.6735\n",
      "Epoch 40/250\n",
      "80000/80000 [==============================] - 4s 47us/step - loss: 0.6758\n",
      "Epoch 41/250\n",
      "80000/80000 [==============================] - 4s 46us/step - loss: 0.6756\n",
      "Epoch 42/250\n",
      "80000/80000 [==============================] - 4s 47us/step - loss: 0.6733\n",
      "Epoch 43/250\n",
      "80000/80000 [==============================] - 4s 48us/step - loss: 0.6748\n",
      "Epoch 44/250\n",
      "80000/80000 [==============================] - 4s 54us/step - loss: 0.6739\n",
      "Epoch 45/250\n",
      "80000/80000 [==============================] - 4s 48us/step - loss: 0.6754\n",
      "Epoch 46/250\n",
      "80000/80000 [==============================] - 4s 48us/step - loss: 0.6736\n",
      "Epoch 47/250\n",
      "80000/80000 [==============================] - 4s 45us/step - loss: 0.6760\n",
      "Epoch 48/250\n",
      "80000/80000 [==============================] - 4s 47us/step - loss: 0.6743\n",
      "Epoch 49/250\n",
      "80000/80000 [==============================] - 4s 49us/step - loss: 0.6754\n",
      "Epoch 50/250\n",
      "80000/80000 [==============================] - 4s 47us/step - loss: 0.6734\n",
      "Epoch 51/250\n",
      "80000/80000 [==============================] - 4s 45us/step - loss: 0.6759\n",
      "Epoch 52/250\n",
      "80000/80000 [==============================] - 4s 45us/step - loss: 0.6763\n",
      "Epoch 53/250\n",
      "80000/80000 [==============================] - 4s 46us/step - loss: 0.6733\n",
      "Epoch 54/250\n",
      "80000/80000 [==============================] - 4s 45us/step - loss: 0.6741\n",
      "Epoch 55/250\n",
      "80000/80000 [==============================] - 4s 45us/step - loss: 0.6750\n",
      "Epoch 56/250\n",
      "80000/80000 [==============================] - 4s 47us/step - loss: 0.6726\n",
      "Epoch 57/250\n",
      "80000/80000 [==============================] - 4s 45us/step - loss: 0.6723\n",
      "Epoch 58/250\n",
      "80000/80000 [==============================] - 4s 49us/step - loss: 0.6719\n",
      "Epoch 59/250\n",
      "80000/80000 [==============================] - 4s 48us/step - loss: 0.6748\n",
      "Epoch 60/250\n",
      "80000/80000 [==============================] - 4s 49us/step - loss: 0.6746\n",
      "Epoch 61/250\n",
      "80000/80000 [==============================] - 4s 49us/step - loss: 0.6734\n",
      "Epoch 62/250\n",
      "80000/80000 [==============================] - 4s 47us/step - loss: 0.6725\n",
      "Epoch 63/250\n",
      "80000/80000 [==============================] - 4s 45us/step - loss: 0.6727\n",
      "Epoch 64/250\n",
      "80000/80000 [==============================] - 4s 52us/step - loss: 0.6724\n",
      "Epoch 65/250\n",
      "80000/80000 [==============================] - 4s 46us/step - loss: 0.6740\n",
      "Epoch 66/250\n",
      "80000/80000 [==============================] - 4s 47us/step - loss: 0.6730\n",
      "Epoch 67/250\n",
      "80000/80000 [==============================] - 4s 46us/step - loss: 0.6742\n",
      "Epoch 68/250\n",
      "80000/80000 [==============================] - 4s 46us/step - loss: 0.6744\n",
      "Epoch 69/250\n",
      "80000/80000 [==============================] - 4s 47us/step - loss: 0.6735\n",
      "Epoch 70/250\n",
      "80000/80000 [==============================] - 4s 44us/step - loss: 0.6735\n",
      "Epoch 71/250\n",
      "80000/80000 [==============================] - 4s 46us/step - loss: 0.6727\n",
      "Epoch 72/250\n",
      "80000/80000 [==============================] - 4s 47us/step - loss: 0.6723\n",
      "Epoch 73/250\n",
      "80000/80000 [==============================] - 4s 45us/step - loss: 0.6701\n",
      "Epoch 74/250\n",
      "80000/80000 [==============================] - 4s 50us/step - loss: 0.6728\n",
      "Epoch 75/250\n",
      "80000/80000 [==============================] - 4s 54us/step - loss: 0.6709\n",
      "Epoch 76/250\n",
      "80000/80000 [==============================] - 4s 47us/step - loss: 0.6737\n",
      "Epoch 77/250\n",
      "80000/80000 [==============================] - 4s 49us/step - loss: 0.6727\n",
      "Epoch 78/250\n",
      "80000/80000 [==============================] - 4s 46us/step - loss: 0.6723\n",
      "Epoch 79/250\n",
      "80000/80000 [==============================] - 4s 46us/step - loss: 0.6734\n",
      "Epoch 80/250\n",
      "80000/80000 [==============================] - 4s 46us/step - loss: 0.6721\n",
      "Epoch 81/250\n",
      "80000/80000 [==============================] - 4s 46us/step - loss: 0.6736\n",
      "Epoch 82/250\n",
      "80000/80000 [==============================] - 4s 45us/step - loss: 0.6730\n",
      "Epoch 83/250\n",
      "80000/80000 [==============================] - 4s 46us/step - loss: 0.6730\n",
      "Epoch 84/250\n",
      "80000/80000 [==============================] - 4s 49us/step - loss: 0.6706\n",
      "Epoch 85/250\n",
      "64544/80000 [=======================>......] - ETA: 0s - loss: 0.6710"
     ]
    },
    {
     "ename": "KeyboardInterrupt",
     "evalue": "",
     "output_type": "error",
     "traceback": [
      "\u001b[0;31m---------------------------------------------------------------------------\u001b[0m",
      "\u001b[0;31mKeyboardInterrupt\u001b[0m                         Traceback (most recent call last)",
      "\u001b[0;32m<ipython-input-88-cd439fe8336d>\u001b[0m in \u001b[0;36m<module>\u001b[0;34m()\u001b[0m\n\u001b[0;32m----> 1\u001b[0;31m \u001b[0mhistory\u001b[0m \u001b[0;34m=\u001b[0m \u001b[0mmodel\u001b[0m\u001b[0;34m.\u001b[0m\u001b[0mfit\u001b[0m\u001b[0;34m(\u001b[0m\u001b[0;34m[\u001b[0m\u001b[0mtrain\u001b[0m\u001b[0;34m.\u001b[0m\u001b[0muser_id\u001b[0m\u001b[0;34m,\u001b[0m \u001b[0mtrain\u001b[0m\u001b[0;34m.\u001b[0m\u001b[0mitem_id\u001b[0m\u001b[0;34m]\u001b[0m\u001b[0;34m,\u001b[0m \u001b[0mtrain\u001b[0m\u001b[0;34m.\u001b[0m\u001b[0mrating\u001b[0m\u001b[0;34m,\u001b[0m \u001b[0mepochs\u001b[0m\u001b[0;34m=\u001b[0m\u001b[0;36m250\u001b[0m\u001b[0;34m,\u001b[0m \u001b[0mverbose\u001b[0m\u001b[0;34m=\u001b[0m\u001b[0;36m1\u001b[0m\u001b[0;34m)\u001b[0m\u001b[0;34m\u001b[0m\u001b[0m\n\u001b[0m",
      "\u001b[0;32m~/anaconda3/lib/python3.6/site-packages/keras/engine/training.py\u001b[0m in \u001b[0;36mfit\u001b[0;34m(self, x, y, batch_size, epochs, verbose, callbacks, validation_split, validation_data, shuffle, class_weight, sample_weight, initial_epoch, steps_per_epoch, validation_steps, **kwargs)\u001b[0m\n\u001b[1;32m   1655\u001b[0m                               \u001b[0minitial_epoch\u001b[0m\u001b[0;34m=\u001b[0m\u001b[0minitial_epoch\u001b[0m\u001b[0;34m,\u001b[0m\u001b[0;34m\u001b[0m\u001b[0m\n\u001b[1;32m   1656\u001b[0m                               \u001b[0msteps_per_epoch\u001b[0m\u001b[0;34m=\u001b[0m\u001b[0msteps_per_epoch\u001b[0m\u001b[0;34m,\u001b[0m\u001b[0;34m\u001b[0m\u001b[0m\n\u001b[0;32m-> 1657\u001b[0;31m                               validation_steps=validation_steps)\n\u001b[0m\u001b[1;32m   1658\u001b[0m \u001b[0;34m\u001b[0m\u001b[0m\n\u001b[1;32m   1659\u001b[0m     def evaluate(self, x=None, y=None,\n",
      "\u001b[0;32m~/anaconda3/lib/python3.6/site-packages/keras/engine/training.py\u001b[0m in \u001b[0;36m_fit_loop\u001b[0;34m(self, f, ins, out_labels, batch_size, epochs, verbose, callbacks, val_f, val_ins, shuffle, callback_metrics, initial_epoch, steps_per_epoch, validation_steps)\u001b[0m\n\u001b[1;32m   1211\u001b[0m                     \u001b[0mbatch_logs\u001b[0m\u001b[0;34m[\u001b[0m\u001b[0;34m'size'\u001b[0m\u001b[0;34m]\u001b[0m \u001b[0;34m=\u001b[0m \u001b[0mlen\u001b[0m\u001b[0;34m(\u001b[0m\u001b[0mbatch_ids\u001b[0m\u001b[0;34m)\u001b[0m\u001b[0;34m\u001b[0m\u001b[0m\n\u001b[1;32m   1212\u001b[0m                     \u001b[0mcallbacks\u001b[0m\u001b[0;34m.\u001b[0m\u001b[0mon_batch_begin\u001b[0m\u001b[0;34m(\u001b[0m\u001b[0mbatch_index\u001b[0m\u001b[0;34m,\u001b[0m \u001b[0mbatch_logs\u001b[0m\u001b[0;34m)\u001b[0m\u001b[0;34m\u001b[0m\u001b[0m\n\u001b[0;32m-> 1213\u001b[0;31m                     \u001b[0mouts\u001b[0m \u001b[0;34m=\u001b[0m \u001b[0mf\u001b[0m\u001b[0;34m(\u001b[0m\u001b[0mins_batch\u001b[0m\u001b[0;34m)\u001b[0m\u001b[0;34m\u001b[0m\u001b[0m\n\u001b[0m\u001b[1;32m   1214\u001b[0m                     \u001b[0;32mif\u001b[0m \u001b[0;32mnot\u001b[0m \u001b[0misinstance\u001b[0m\u001b[0;34m(\u001b[0m\u001b[0mouts\u001b[0m\u001b[0;34m,\u001b[0m \u001b[0mlist\u001b[0m\u001b[0;34m)\u001b[0m\u001b[0;34m:\u001b[0m\u001b[0;34m\u001b[0m\u001b[0m\n\u001b[1;32m   1215\u001b[0m                         \u001b[0mouts\u001b[0m \u001b[0;34m=\u001b[0m \u001b[0;34m[\u001b[0m\u001b[0mouts\u001b[0m\u001b[0;34m]\u001b[0m\u001b[0;34m\u001b[0m\u001b[0m\n",
      "\u001b[0;32m~/anaconda3/lib/python3.6/site-packages/keras/backend/tensorflow_backend.py\u001b[0m in \u001b[0;36m__call__\u001b[0;34m(self, inputs)\u001b[0m\n\u001b[1;32m   2355\u001b[0m         \u001b[0msession\u001b[0m \u001b[0;34m=\u001b[0m \u001b[0mget_session\u001b[0m\u001b[0;34m(\u001b[0m\u001b[0;34m)\u001b[0m\u001b[0;34m\u001b[0m\u001b[0m\n\u001b[1;32m   2356\u001b[0m         updated = session.run(fetches=fetches, feed_dict=feed_dict,\n\u001b[0;32m-> 2357\u001b[0;31m                               **self.session_kwargs)\n\u001b[0m\u001b[1;32m   2358\u001b[0m         \u001b[0;32mreturn\u001b[0m \u001b[0mupdated\u001b[0m\u001b[0;34m[\u001b[0m\u001b[0;34m:\u001b[0m\u001b[0mlen\u001b[0m\u001b[0;34m(\u001b[0m\u001b[0mself\u001b[0m\u001b[0;34m.\u001b[0m\u001b[0moutputs\u001b[0m\u001b[0;34m)\u001b[0m\u001b[0;34m]\u001b[0m\u001b[0;34m\u001b[0m\u001b[0m\n\u001b[1;32m   2359\u001b[0m \u001b[0;34m\u001b[0m\u001b[0m\n",
      "\u001b[0;32m~/anaconda3/lib/python3.6/site-packages/tensorflow/python/client/session.py\u001b[0m in \u001b[0;36mrun\u001b[0;34m(self, fetches, feed_dict, options, run_metadata)\u001b[0m\n\u001b[1;32m    887\u001b[0m     \u001b[0;32mtry\u001b[0m\u001b[0;34m:\u001b[0m\u001b[0;34m\u001b[0m\u001b[0m\n\u001b[1;32m    888\u001b[0m       result = self._run(None, fetches, feed_dict, options_ptr,\n\u001b[0;32m--> 889\u001b[0;31m                          run_metadata_ptr)\n\u001b[0m\u001b[1;32m    890\u001b[0m       \u001b[0;32mif\u001b[0m \u001b[0mrun_metadata\u001b[0m\u001b[0;34m:\u001b[0m\u001b[0;34m\u001b[0m\u001b[0m\n\u001b[1;32m    891\u001b[0m         \u001b[0mproto_data\u001b[0m \u001b[0;34m=\u001b[0m \u001b[0mtf_session\u001b[0m\u001b[0;34m.\u001b[0m\u001b[0mTF_GetBuffer\u001b[0m\u001b[0;34m(\u001b[0m\u001b[0mrun_metadata_ptr\u001b[0m\u001b[0;34m)\u001b[0m\u001b[0;34m\u001b[0m\u001b[0m\n",
      "\u001b[0;32m~/anaconda3/lib/python3.6/site-packages/tensorflow/python/client/session.py\u001b[0m in \u001b[0;36m_run\u001b[0;34m(self, handle, fetches, feed_dict, options, run_metadata)\u001b[0m\n\u001b[1;32m   1118\u001b[0m     \u001b[0;32mif\u001b[0m \u001b[0mfinal_fetches\u001b[0m \u001b[0;32mor\u001b[0m \u001b[0mfinal_targets\u001b[0m \u001b[0;32mor\u001b[0m \u001b[0;34m(\u001b[0m\u001b[0mhandle\u001b[0m \u001b[0;32mand\u001b[0m \u001b[0mfeed_dict_tensor\u001b[0m\u001b[0;34m)\u001b[0m\u001b[0;34m:\u001b[0m\u001b[0;34m\u001b[0m\u001b[0m\n\u001b[1;32m   1119\u001b[0m       results = self._do_run(handle, final_targets, final_fetches,\n\u001b[0;32m-> 1120\u001b[0;31m                              feed_dict_tensor, options, run_metadata)\n\u001b[0m\u001b[1;32m   1121\u001b[0m     \u001b[0;32melse\u001b[0m\u001b[0;34m:\u001b[0m\u001b[0;34m\u001b[0m\u001b[0m\n\u001b[1;32m   1122\u001b[0m       \u001b[0mresults\u001b[0m \u001b[0;34m=\u001b[0m \u001b[0;34m[\u001b[0m\u001b[0;34m]\u001b[0m\u001b[0;34m\u001b[0m\u001b[0m\n",
      "\u001b[0;32m~/anaconda3/lib/python3.6/site-packages/tensorflow/python/client/session.py\u001b[0m in \u001b[0;36m_do_run\u001b[0;34m(self, handle, target_list, fetch_list, feed_dict, options, run_metadata)\u001b[0m\n\u001b[1;32m   1315\u001b[0m     \u001b[0;32mif\u001b[0m \u001b[0mhandle\u001b[0m \u001b[0;32mis\u001b[0m \u001b[0;32mNone\u001b[0m\u001b[0;34m:\u001b[0m\u001b[0;34m\u001b[0m\u001b[0m\n\u001b[1;32m   1316\u001b[0m       return self._do_call(_run_fn, self._session, feeds, fetches, targets,\n\u001b[0;32m-> 1317\u001b[0;31m                            options, run_metadata)\n\u001b[0m\u001b[1;32m   1318\u001b[0m     \u001b[0;32melse\u001b[0m\u001b[0;34m:\u001b[0m\u001b[0;34m\u001b[0m\u001b[0m\n\u001b[1;32m   1319\u001b[0m       \u001b[0;32mreturn\u001b[0m \u001b[0mself\u001b[0m\u001b[0;34m.\u001b[0m\u001b[0m_do_call\u001b[0m\u001b[0;34m(\u001b[0m\u001b[0m_prun_fn\u001b[0m\u001b[0;34m,\u001b[0m \u001b[0mself\u001b[0m\u001b[0;34m.\u001b[0m\u001b[0m_session\u001b[0m\u001b[0;34m,\u001b[0m \u001b[0mhandle\u001b[0m\u001b[0;34m,\u001b[0m \u001b[0mfeeds\u001b[0m\u001b[0;34m,\u001b[0m \u001b[0mfetches\u001b[0m\u001b[0;34m)\u001b[0m\u001b[0;34m\u001b[0m\u001b[0m\n",
      "\u001b[0;32m~/anaconda3/lib/python3.6/site-packages/tensorflow/python/client/session.py\u001b[0m in \u001b[0;36m_do_call\u001b[0;34m(self, fn, *args)\u001b[0m\n\u001b[1;32m   1321\u001b[0m   \u001b[0;32mdef\u001b[0m \u001b[0m_do_call\u001b[0m\u001b[0;34m(\u001b[0m\u001b[0mself\u001b[0m\u001b[0;34m,\u001b[0m \u001b[0mfn\u001b[0m\u001b[0;34m,\u001b[0m \u001b[0;34m*\u001b[0m\u001b[0margs\u001b[0m\u001b[0;34m)\u001b[0m\u001b[0;34m:\u001b[0m\u001b[0;34m\u001b[0m\u001b[0m\n\u001b[1;32m   1322\u001b[0m     \u001b[0;32mtry\u001b[0m\u001b[0;34m:\u001b[0m\u001b[0;34m\u001b[0m\u001b[0m\n\u001b[0;32m-> 1323\u001b[0;31m       \u001b[0;32mreturn\u001b[0m \u001b[0mfn\u001b[0m\u001b[0;34m(\u001b[0m\u001b[0;34m*\u001b[0m\u001b[0margs\u001b[0m\u001b[0;34m)\u001b[0m\u001b[0;34m\u001b[0m\u001b[0m\n\u001b[0m\u001b[1;32m   1324\u001b[0m     \u001b[0;32mexcept\u001b[0m \u001b[0merrors\u001b[0m\u001b[0;34m.\u001b[0m\u001b[0mOpError\u001b[0m \u001b[0;32mas\u001b[0m \u001b[0me\u001b[0m\u001b[0;34m:\u001b[0m\u001b[0;34m\u001b[0m\u001b[0m\n\u001b[1;32m   1325\u001b[0m       \u001b[0mmessage\u001b[0m \u001b[0;34m=\u001b[0m \u001b[0mcompat\u001b[0m\u001b[0;34m.\u001b[0m\u001b[0mas_text\u001b[0m\u001b[0;34m(\u001b[0m\u001b[0me\u001b[0m\u001b[0;34m.\u001b[0m\u001b[0mmessage\u001b[0m\u001b[0;34m)\u001b[0m\u001b[0;34m\u001b[0m\u001b[0m\n",
      "\u001b[0;32m~/anaconda3/lib/python3.6/site-packages/tensorflow/python/client/session.py\u001b[0m in \u001b[0;36m_run_fn\u001b[0;34m(session, feed_dict, fetch_list, target_list, options, run_metadata)\u001b[0m\n\u001b[1;32m   1300\u001b[0m           return tf_session.TF_Run(session, options,\n\u001b[1;32m   1301\u001b[0m                                    \u001b[0mfeed_dict\u001b[0m\u001b[0;34m,\u001b[0m \u001b[0mfetch_list\u001b[0m\u001b[0;34m,\u001b[0m \u001b[0mtarget_list\u001b[0m\u001b[0;34m,\u001b[0m\u001b[0;34m\u001b[0m\u001b[0m\n\u001b[0;32m-> 1302\u001b[0;31m                                    status, run_metadata)\n\u001b[0m\u001b[1;32m   1303\u001b[0m \u001b[0;34m\u001b[0m\u001b[0m\n\u001b[1;32m   1304\u001b[0m     \u001b[0;32mdef\u001b[0m \u001b[0m_prun_fn\u001b[0m\u001b[0;34m(\u001b[0m\u001b[0msession\u001b[0m\u001b[0;34m,\u001b[0m \u001b[0mhandle\u001b[0m\u001b[0;34m,\u001b[0m \u001b[0mfeed_dict\u001b[0m\u001b[0;34m,\u001b[0m \u001b[0mfetch_list\u001b[0m\u001b[0;34m)\u001b[0m\u001b[0;34m:\u001b[0m\u001b[0;34m\u001b[0m\u001b[0m\n",
      "\u001b[0;31mKeyboardInterrupt\u001b[0m: "
     ]
    }
   ],
   "source": [
    "history = model.fit([train.user_id, train.item_id], train.rating, epochs=250, verbose=1)"
   ]
  },
  {
   "cell_type": "markdown",
   "metadata": {},
   "source": [
    "#### Prediction performance of Neural Network based recommender system"
   ]
  },
  {
   "cell_type": "code",
   "execution_count": 89,
   "metadata": {},
   "outputs": [
    {
     "name": "stdout",
     "output_type": "stream",
     "text": [
      "0.6993\n",
      "0.715507672799\n"
     ]
    }
   ],
   "source": [
    "y_hat_2 = np.round(model.predict([test.user_id, test.item_id]),0)\n",
    "print(mean_absolute_error(y_true, y_hat_2))\n",
    "\n",
    "print(mean_absolute_error(y_true, model.predict([test.user_id, test.item_id])))\n",
    "\n",
    "\n"
   ]
  },
  {
   "cell_type": "markdown",
   "metadata": {},
   "source": [
    "Pretty similar to the result we got using matrix factorisation. Maybe, we need to tweak around a lot more with the neural network to get better results?"
   ]
  },
  {
   "cell_type": "markdown",
   "metadata": {},
   "source": [
    "Thanks for reading. This post has been a good learning experience for me. Hope you enjoyed too! "
   ]
  }
 ],
 "metadata": {
  "kernelspec": {
   "display_name": "Python 3",
   "language": "python",
   "name": "python3"
  },
  "language_info": {
   "codemirror_mode": {
    "name": "ipython",
    "version": 3
   },
   "file_extension": ".py",
   "mimetype": "text/x-python",
   "name": "python",
   "nbconvert_exporter": "python",
   "pygments_lexer": "ipython3",
   "version": "3.6.3"
  }
 },
 "nbformat": 4,
 "nbformat_minor": 1
}
