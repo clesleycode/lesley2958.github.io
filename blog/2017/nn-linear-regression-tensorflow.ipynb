{
 "cells": [
  {
   "cell_type": "markdown",
   "metadata": {},
   "source": [
    "# Constrained linear regression using Tensorflow"
   ]
  },
  {
   "cell_type": "markdown",
   "metadata": {},
   "source": [
    "In this post, we will perform a constrained linear regression using Tensorflow. In linear regression, we create a model of the form $Y = W.X + b$. In this post, we will constrain $W$ and $b$ to be non-negative quantities. Such constraints are often useful in different applications. Say, if we want to model household total energy as the air conditioner energy plus some additive noise, then the contribution of both these quantities should be non-negative in nature.\n",
    "\n",
    "We would be using gradient descent for our regression problem. We calculate the gradients wrt W and b, as usual:\n",
    "$$\n",
    "\\begin{eqnarray}\n",
    "\\delta W = \\frac{\\delta cost}{\\delta W} \\\\\n",
    "\\delta b = \\frac{\\delta cost}{\\delta b} \\\\\n",
    "\\end{eqnarray}\n",
    "$$\n",
    "\n",
    "The gist of our approach is that instead of updating as:\n",
    "$$ \\begin{eqnarray}\n",
    "W = W - \\delta W \\times learning rate\\\\\n",
    "b = b - \\delta b \\times learning rate\\\\\n",
    "\\end{eqnarray}\n",
    "$$\n",
    "\n",
    "we update as:\n",
    "\n",
    "$$\n",
    "\\begin{eqnarray}\n",
    "W = max(0, W - \\delta W \\times learning rate)\\\\\n",
    "b = max(0, b - \\delta b \\times learning rate)\\\\\n",
    "\\end{eqnarray}\n",
    "$$\n",
    "\n",
    "\n",
    "\n"
   ]
  },
  {
   "cell_type": "markdown",
   "metadata": {},
   "source": [
    "### Customary imports"
   ]
  },
  {
   "cell_type": "code",
   "execution_count": 1,
   "metadata": {
    "collapsed": true
   },
   "outputs": [],
   "source": [
    "from __future__ import absolute_import\n",
    "from __future__ import division\n",
    "from __future__ import print_function"
   ]
  },
  {
   "cell_type": "code",
   "execution_count": 2,
   "metadata": {
    "collapsed": true
   },
   "outputs": [],
   "source": [
    "import numpy as np\n",
    "import pandas as pd\n",
    "import matplotlib.pyplot as plt\n",
    "import tensorflow as tf"
   ]
  },
  {
   "cell_type": "markdown",
   "metadata": {},
   "source": [
    "### Creating sample data"
   ]
  },
  {
   "cell_type": "code",
   "execution_count": 3,
   "metadata": {},
   "outputs": [],
   "source": [
    "n_samples = 50\n",
    "train_X = np.linspace(1, 50, n_samples)\n",
    "train_Y = 10*train_X + 6 +40*np.random.randn(50)\n",
    "train_Y = train_Y.reshape(n_samples, 1)\n",
    "train_X = train_X.reshape(n_samples, 1)"
   ]
  },
  {
   "cell_type": "code",
   "execution_count": 4,
   "metadata": {
    "collapsed": true
   },
   "outputs": [],
   "source": [
    "%matplotlib inline"
   ]
  },
  {
   "cell_type": "markdown",
   "metadata": {},
   "source": [
    "### Plotting sample data"
   ]
  },
  {
   "cell_type": "code",
   "execution_count": 5,
   "metadata": {},
   "outputs": [
    {
     "data": {
      "text/plain": [
       "[<matplotlib.lines.Line2D at 0x10bc8e3d0>]"
      ]
     },
     "execution_count": 5,
     "metadata": {},
     "output_type": "execute_result"
    },
    {
     "data": {
      "image/png": "[encoded data removed]",
      "text/plain": [
       "<matplotlib.figure.Figure at 0x10bb64a90>"
      ]
     },
     "metadata": {},
     "output_type": "display_data"
    }
   ],
   "source": [
    "plt.plot(train_X, train_Y, 'ro')"
   ]
  },
  {
   "cell_type": "markdown",
   "metadata": {},
   "source": [
    "### Solution"
   ]
  },
  {
   "cell_type": "markdown",
   "metadata": {},
   "source": [
    "#### Creating regression model"
   ]
  },
  {
   "cell_type": "code",
   "execution_count": 6,
   "metadata": {
    "collapsed": true
   },
   "outputs": [],
   "source": [
    "# Model linear regression y = Wx + b. x is of shape `num_samples, 1`\n",
    "x = tf.placeholder(tf.float32, [None, 1])\n",
    "\n",
    "# Here we initialize W and b to be negative just to illustrate our point!\n",
    "W = tf.Variable(-100*tf.ones([1, 1]))\n",
    "b = tf.Variable(-100*tf.ones([1]))\n",
    "\n",
    "product = tf.matmul(x,W)\n",
    "y = product + b"
   ]
  },
  {
   "cell_type": "markdown",
   "metadata": {},
   "source": [
    "#### Projected gradient, clipping!"
   ]
  },
  {
   "cell_type": "code",
   "execution_count": 7,
   "metadata": {},
   "outputs": [],
   "source": [
    "# Clipping operation. \n",
    "clip_W = W.assign(tf.maximum(0., W))\n",
    "clip_b = b.assign(tf.maximum(0., b))\n",
    "clip = tf.group(clip_W, clip_b)"
   ]
  },
  {
   "cell_type": "markdown",
   "metadata": {},
   "source": [
    "#### Defining the cost"
   ]
  },
  {
   "cell_type": "code",
   "execution_count": 8,
   "metadata": {
    "collapsed": true
   },
   "outputs": [],
   "source": [
    "y_ = tf.placeholder(tf.float32, [None, 1])\n",
    "\n",
    "# Cost function \n",
    "cost = tf.reduce_sum(tf.pow(y-y_, 2))/(2*n_samples)"
   ]
  },
  {
   "cell_type": "markdown",
   "metadata": {},
   "source": [
    "#### Defining params for gradient descent and initializing"
   ]
  },
  {
   "cell_type": "code",
   "execution_count": 9,
   "metadata": {
    "collapsed": true
   },
   "outputs": [],
   "source": [
    "lr = 0.001\n",
    "steps = 10\n",
    "# Training using Gradient Descent to minimize cost\n",
    "train_step = tf.train.GradientDescentOptimizer(lr).minimize(cost)\n",
    "\n",
    "init = tf.global_variables_initializer()"
   ]
  },
  {
   "cell_type": "markdown",
   "metadata": {},
   "source": [
    "#### TensorFlow session"
   ]
  },
  {
   "cell_type": "code",
   "execution_count": 10,
   "metadata": {},
   "outputs": [
    {
     "name": "stdout",
     "output_type": "stream",
     "text": [
      "****************************************\n",
      "Iteration Number 0\n",
      "****************************************\n",
      "\n",
      "Before gradient computation\n",
      "----------------------------------------\n",
      "W: -100.000000\n",
      "b: -100.000000\n",
      "\n",
      "After gradient computation\n",
      "----------------------------------------\n",
      "W: -3.079384\n",
      "b: -97.098839\n",
      "\n",
      "After gradient projection\n",
      "----------------------------------------\n",
      "W: 0.000000\n",
      "b: 0.000000\n",
      "\n",
      "Cost: 43069.238281\n",
      "****************************************\n",
      "****************************************\n",
      "Iteration Number 1\n",
      "****************************************\n",
      "\n",
      "Before gradient computation\n",
      "----------------------------------------\n",
      "W: 0.000000\n",
      "b: 0.000000\n",
      "\n",
      "After gradient computation\n",
      "----------------------------------------\n",
      "W: 8.520617\n",
      "b: 0.251163\n",
      "\n",
      "After gradient projection\n",
      "----------------------------------------\n",
      "W: 8.520617\n",
      "b: 0.251163\n",
      "\n",
      "Cost: 1623.781128\n",
      "****************************************\n",
      "****************************************\n",
      "Iteration Number 2\n",
      "****************************************\n",
      "\n",
      "Before gradient computation\n",
      "----------------------------------------\n",
      "W: 8.520617\n",
      "b: 0.251163\n",
      "\n",
      "After gradient computation\n",
      "----------------------------------------\n",
      "W: 9.719881\n",
      "b: 0.284800\n",
      "\n",
      "After gradient projection\n",
      "----------------------------------------\n",
      "W: 9.719881\n",
      "b: 0.284800\n",
      "\n",
      "Cost: 802.807739\n",
      "****************************************\n",
      "****************************************\n",
      "Iteration Number 3\n",
      "****************************************\n",
      "\n",
      "Before gradient computation\n",
      "----------------------------------------\n",
      "W: 9.719881\n",
      "b: 0.284800\n",
      "\n",
      "After gradient computation\n",
      "----------------------------------------\n",
      "W: 9.888719\n",
      "b: 0.287822\n",
      "\n",
      "After gradient projection\n",
      "----------------------------------------\n",
      "W: 9.888719\n",
      "b: 0.287822\n",
      "\n",
      "Cost: 786.541626\n",
      "****************************************\n",
      "****************************************\n",
      "Iteration Number 4\n",
      "****************************************\n",
      "\n",
      "Before gradient computation\n",
      "----------------------------------------\n",
      "W: 9.888719\n",
      "b: 0.287822\n",
      "\n",
      "After gradient computation\n",
      "----------------------------------------\n",
      "W: 9.912533\n",
      "b: 0.286535\n",
      "\n",
      "After gradient projection\n",
      "----------------------------------------\n",
      "W: 9.912533\n",
      "b: 0.286535\n",
      "\n",
      "Cost: 786.215454\n",
      "****************************************\n",
      "****************************************\n",
      "Iteration Number 5\n",
      "****************************************\n",
      "\n",
      "Before gradient computation\n",
      "----------------------------------------\n",
      "W: 9.912533\n",
      "b: 0.286535\n",
      "\n",
      "After gradient computation\n",
      "----------------------------------------\n",
      "W: 9.915935\n",
      "b: 0.284642\n",
      "\n",
      "After gradient projection\n",
      "----------------------------------------\n",
      "W: 9.915935\n",
      "b: 0.284642\n",
      "\n",
      "Cost: 786.205078\n",
      "****************************************\n",
      "****************************************\n",
      "Iteration Number 6\n",
      "****************************************\n",
      "\n",
      "Before gradient computation\n",
      "----------------------------------------\n",
      "W: 9.915935\n",
      "b: 0.284642\n",
      "\n",
      "After gradient computation\n",
      "----------------------------------------\n",
      "W: 9.916465\n",
      "b: 0.282664\n",
      "\n",
      "After gradient projection\n",
      "----------------------------------------\n",
      "W: 9.916465\n",
      "b: 0.282664\n",
      "\n",
      "Cost: 786.200989\n",
      "****************************************\n",
      "****************************************\n",
      "Iteration Number 7\n",
      "****************************************\n",
      "\n",
      "Before gradient computation\n",
      "----------------------------------------\n",
      "W: 9.916465\n",
      "b: 0.282664\n",
      "\n",
      "After gradient computation\n",
      "----------------------------------------\n",
      "W: 9.916590\n",
      "b: 0.280675\n",
      "\n",
      "After gradient projection\n",
      "----------------------------------------\n",
      "W: 9.916590\n",
      "b: 0.280675\n",
      "\n",
      "Cost: 786.197021\n",
      "****************************************\n",
      "****************************************\n",
      "Iteration Number 8\n",
      "****************************************\n",
      "\n",
      "Before gradient computation\n",
      "----------------------------------------\n",
      "W: 9.916590\n",
      "b: 0.280675\n",
      "\n",
      "After gradient computation\n",
      "----------------------------------------\n",
      "W: 9.916658\n",
      "b: 0.278685\n",
      "\n",
      "After gradient projection\n",
      "----------------------------------------\n",
      "W: 9.916658\n",
      "b: 0.278685\n",
      "\n",
      "Cost: 786.193115\n",
      "****************************************\n",
      "****************************************\n",
      "Iteration Number 9\n",
      "****************************************\n",
      "\n",
      "Before gradient computation\n",
      "----------------------------------------\n",
      "W: 9.916658\n",
      "b: 0.278685\n",
      "\n",
      "After gradient computation\n",
      "----------------------------------------\n",
      "W: 9.916718\n",
      "b: 0.276695\n",
      "\n",
      "After gradient projection\n",
      "----------------------------------------\n",
      "W: 9.916718\n",
      "b: 0.276695\n",
      "\n",
      "Cost: 786.189087\n",
      "****************************************\n"
     ]
    }
   ],
   "source": [
    "with tf.Session() as sess:\n",
    "    sess.run(init)\n",
    "    for i in range(steps):\n",
    "        print(\"*\"*40)\n",
    "        print(\"Iteration Number %d\" %i)\n",
    "        print(\"*\"*40)\n",
    "        print(\"\\nBefore gradient computation\")\n",
    "        print(\"-\"*40)\n",
    "    \n",
    "        print(\"W: %f\" % sess.run(W))\n",
    "        print(\"b: %f\" % sess.run(b))\n",
    "        feed = { x: train_X, y_: train_Y }\n",
    "        sess.run(train_step, feed_dict=feed)\n",
    "        print(\"\\nAfter gradient computation\")\n",
    "        print(\"-\"*40)\n",
    "        print(\"W: %f\" % sess.run(W))\n",
    "        print(\"b: %f\" % sess.run(b))\n",
    "        print(\"\\nAfter gradient projection\")\n",
    "        print(\"-\"*40)\n",
    "        # THIS line would ensure the projection step happens!\n",
    "        sess.run(clip)\n",
    "        print(\"W: %f\" % sess.run(W))\n",
    "        print(\"b: %f\" % sess.run(b))\n",
    "        print(\"\\nCost: %f\" % sess.run(cost, feed_dict=feed))\n",
    "        print(\"*\"*40)\n",
    "    learnt_W = sess.run(W)\n",
    "    learnt_b = sess.run(b)"
   ]
  },
  {
   "cell_type": "markdown",
   "metadata": {},
   "source": [
    "As we can see from the output, the clipping operation ensures that W and b remain non-negative."
   ]
  },
  {
   "cell_type": "markdown",
   "metadata": {},
   "source": [
    "### Plotting the results"
   ]
  },
  {
   "cell_type": "code",
   "execution_count": 17,
   "metadata": {},
   "outputs": [
    {
     "data": {
      "text/plain": [
       "<matplotlib.text.Text at 0x112d846d0>"
      ]
     },
     "execution_count": 17,
     "metadata": {},
     "output_type": "execute_result"
    },
    {
     "data": {
      "image/png": "[encoded data removed]",
      "text/plain": [
       "<matplotlib.figure.Figure at 0x112c3c250>"
      ]
     },
     "metadata": {},
     "output_type": "display_data"
    }
   ],
   "source": [
    "plt.plot(train_X, train_Y, 'ro')\n",
    "pred_Y = np.multiply(train_X, learnt_W)+learnt_b\n",
    "plt.plot(train_X, pred_Y, 'b')\n",
    "plt.title(\"Y = {:0.2f}X + {:0.2f}\".format(learnt_W[0, 0], learnt_b[0]))"
   ]
  },
  {
   "cell_type": "markdown",
   "metadata": {},
   "source": [
    "### References\n",
    "\n",
    "1. http://stackoverflow.com/questions/43065931/tensorflow-linear-regression-with-non-negative-constraints/43171577?noredirect=1#comment73442194_43171577\n",
    "2. https://github.com/aymericdamien/TensorFlow-Examples\n",
    "3. https://aqibsaeed.github.io/2016-07-07-TensorflowLR/\n",
    "4. https://medium.com/all-of-us-are-belong-to-machines/the-gentlest-introduction-to-tensorflow-248dc871a224"
   ]
  }
 ],
 "metadata": {
  "kernelspec": {
   "display_name": "Python 2",
   "language": "python",
   "name": "python2"
  },
  "language_info": {
   "codemirror_mode": {
    "name": "ipython",
    "version": 2
   },
   "file_extension": ".py",
   "mimetype": "text/x-python",
   "name": "python",
   "nbconvert_exporter": "python",
   "pygments_lexer": "ipython2",
   "version": "2.7.13"
  }
 },
 "nbformat": 4,
 "nbformat_minor": 1
}
