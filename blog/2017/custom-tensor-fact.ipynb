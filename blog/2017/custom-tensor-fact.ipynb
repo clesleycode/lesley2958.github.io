{
 "cells": [
  {
   "cell_type": "markdown",
   "metadata": {},
   "source": [
    "## Custom Tensor Factorisation"
   ]
  },
  {
   "cell_type": "markdown",
   "metadata": {},
   "source": [
    "In previous posts, we have looked at the standard tensor decomposition and also at how to do so using Autograd/Tensorflow. In this post, I'll mention a few custom/non-standard tensor decomposition schemes that may come in handy.\n",
    "\n",
    "Instead of Khatri product of decomposed matrices to produce the original matrix, we will look at a few dot prodct based combinations.\n",
    "\n",
    "We will break a matrix E of shape M, N, O using the following four cases:\n",
    "\n",
    "1. H (M, a), A (N, b), T (O, a, b)\n",
    "2. H (M, a), A (N, a, b), T (O, b)\n",
    "3. H (M, a, b), A (N, a), T (O, b)\n",
    "4. H (M, a), N (N, a), T (O, a)"
   ]
  },
  {
   "cell_type": "code",
   "execution_count": 1,
   "metadata": {
    "collapsed": true
   },
   "outputs": [],
   "source": [
    "import autograd.numpy as np\n",
    "import pandas as pd"
   ]
  },
  {
   "cell_type": "code",
   "execution_count": 2,
   "metadata": {
    "collapsed": true
   },
   "outputs": [],
   "source": [
    "M, N, O = 4, 3, 6\n",
    "E_np = np.random.randn(M, N, O)"
   ]
  },
  {
   "cell_type": "code",
   "execution_count": 3,
   "metadata": {
    "collapsed": true
   },
   "outputs": [],
   "source": [
    "E_np = np.abs(E_np)\n"
   ]
  },
  {
   "cell_type": "code",
   "execution_count": 4,
   "metadata": {
    "collapsed": true
   },
   "outputs": [],
   "source": [
    "E_np = np.divide(E_np, E_np.max())\n"
   ]
  },
  {
   "cell_type": "code",
   "execution_count": 5,
   "metadata": {},
   "outputs": [
    {
     "data": {
      "text/plain": [
       "array([[[ 0.0605506 ,  0.03599664,  0.25087234,  0.33163366,  0.42881236,\n",
       "          0.34442001],\n",
       "        [ 0.14693202,  0.12447638,  0.1725975 ,  0.38583806,  0.62645085,\n",
       "          0.80823158],\n",
       "        [ 1.        ,  0.17360677,  0.06555334,  0.62725427,  0.12069365,\n",
       "          0.1828657 ]],\n",
       "\n",
       "       [[ 0.48998751,  0.38255239,  0.24461023,  0.52672268,  0.37219343,\n",
       "          0.08538137],\n",
       "        [ 0.02704806,  0.72177226,  0.22683561,  0.19101462,  0.1277134 ,\n",
       "          0.60084777],\n",
       "        [ 0.24456668,  0.49043866,  0.19626124,  0.10446358,  0.21828062,\n",
       "          0.14397225]],\n",
       "\n",
       "       [[ 0.24419427,  0.77580798,  0.00324624,  0.28413238,  0.44064043,\n",
       "          0.79667402],\n",
       "        [ 0.77413919,  0.71381069,  0.39812893,  0.52891816,  0.66570485,\n",
       "          0.6308962 ],\n",
       "        [ 0.61504237,  0.11248786,  0.17295706,  0.50186568,  0.18489032,\n",
       "          0.37835997]],\n",
       "\n",
       "       [[ 0.35379831,  0.17485743,  0.23209066,  0.70069727,  0.10180182,\n",
       "          0.1951613 ],\n",
       "        [ 0.09460633,  0.11393878,  0.69526342,  0.62463366,  0.12409625,\n",
       "          0.05300088],\n",
       "        [ 0.42331715,  0.04073832,  0.28221472,  0.77465318,  0.35136768,\n",
       "          0.15016356]]])"
      ]
     },
     "execution_count": 5,
     "metadata": {},
     "output_type": "execute_result"
    }
   ],
   "source": [
    "E_np"
   ]
  },
  {
   "cell_type": "markdown",
   "metadata": {},
   "source": [
    "### Masking 20% of the entries"
   ]
  },
  {
   "cell_type": "code",
   "execution_count": 6,
   "metadata": {
    "collapsed": true
   },
   "outputs": [],
   "source": [
    "E_np_masked = E_np.copy()\n",
    "for i in range(M):\n",
    "    for j in range(N):\n",
    "        for k in range(O):\n",
    "            if np.random.random()>0.8:\n",
    "                E_np_masked[i, j, k] = np.NAN"
   ]
  },
  {
   "cell_type": "code",
   "execution_count": 7,
   "metadata": {},
   "outputs": [
    {
     "data": {
      "text/plain": [
       "array([[[        nan,  0.03599664,  0.25087234,  0.33163366,  0.42881236,\n",
       "          0.34442001],\n",
       "        [ 0.14693202,  0.12447638,         nan,  0.38583806,  0.62645085,\n",
       "                 nan],\n",
       "        [ 1.        ,  0.17360677,  0.06555334,  0.62725427,  0.12069365,\n",
       "          0.1828657 ]],\n",
       "\n",
       "       [[ 0.48998751,  0.38255239,         nan,  0.52672268,  0.37219343,\n",
       "          0.08538137],\n",
       "        [ 0.02704806,  0.72177226,  0.22683561,         nan,  0.1277134 ,\n",
       "          0.60084777],\n",
       "        [ 0.24456668,  0.49043866,  0.19626124,  0.10446358,  0.21828062,\n",
       "          0.14397225]],\n",
       "\n",
       "       [[        nan,  0.77580798,  0.00324624,  0.28413238,  0.44064043,\n",
       "          0.79667402],\n",
       "        [ 0.77413919,  0.71381069,         nan,  0.52891816,  0.66570485,\n",
       "          0.6308962 ],\n",
       "        [ 0.61504237,  0.11248786,  0.17295706,  0.50186568,  0.18489032,\n",
       "                 nan]],\n",
       "\n",
       "       [[ 0.35379831,         nan,  0.23209066,  0.70069727,  0.10180182,\n",
       "                 nan],\n",
       "        [ 0.09460633,         nan,  0.69526342,  0.62463366,  0.12409625,\n",
       "          0.05300088],\n",
       "        [ 0.42331715,  0.04073832,  0.28221472,  0.77465318,  0.35136768,\n",
       "          0.15016356]]])"
      ]
     },
     "execution_count": 7,
     "metadata": {},
     "output_type": "execute_result"
    }
   ],
   "source": [
    "E_np_masked"
   ]
  },
  {
   "cell_type": "code",
   "execution_count": 8,
   "metadata": {
    "collapsed": true
   },
   "outputs": [],
   "source": [
    "a = 2\n",
    "b = 3"
   ]
  },
  {
   "cell_type": "markdown",
   "metadata": {},
   "source": [
    "### Case 1 H (M, a), A (N, b), T (O, a, b)"
   ]
  },
  {
   "cell_type": "code",
   "execution_count": 9,
   "metadata": {
    "collapsed": true
   },
   "outputs": [],
   "source": [
    "H =  np.random.rand(M, a)\n",
    "A = np.random.rand(N, b)\n",
    "T =  np.random.rand(O, a, b)"
   ]
  },
  {
   "cell_type": "code",
   "execution_count": 10,
   "metadata": {},
   "outputs": [],
   "source": [
    "HA = np.einsum('Ma, Nb -> MNab', H, A)\n"
   ]
  },
  {
   "cell_type": "code",
   "execution_count": 11,
   "metadata": {},
   "outputs": [
    {
     "data": {
      "text/plain": [
       "(4, 3, 6)"
      ]
     },
     "execution_count": 11,
     "metadata": {},
     "output_type": "execute_result"
    }
   ],
   "source": [
    "HAT = np.einsum('MNab, Oab -> MNO', HA, T)\n",
    "HAT.shape"
   ]
  },
  {
   "cell_type": "markdown",
   "metadata": {},
   "source": [
    "### Case 2 H (M, a), A (N, a, b), T (O, b)"
   ]
  },
  {
   "cell_type": "code",
   "execution_count": 12,
   "metadata": {
    "collapsed": true
   },
   "outputs": [],
   "source": [
    "H =  np.random.rand(M, a)\n",
    "A = np.random.rand(N, a, b)\n",
    "T =  np.random.rand(O, b)"
   ]
  },
  {
   "cell_type": "code",
   "execution_count": 13,
   "metadata": {},
   "outputs": [],
   "source": [
    "HA = np.einsum('Ma, Nab -> MNb', H, A)\n",
    "HAT = np.einsum('MNb, Ob ->MNO', HA, T)"
   ]
  },
  {
   "cell_type": "markdown",
   "metadata": {},
   "source": [
    "We can see that all we need to do is to create the EINSUM strings for the different cases"
   ]
  },
  {
   "cell_type": "code",
   "execution_count": 14,
   "metadata": {
    "collapsed": true
   },
   "outputs": [],
   "source": [
    "cases = {\n",
    "    1: {'HA': 'Ma, Nb -> MNab', 'HAT': 'MNab, Oab -> MNO'},\n",
    "    2: {'HA': 'Ma, Nab -> MNb', 'HAT': 'MNb, Ob -> MNO'},\n",
    "    3: {'HA': 'Mab, Na -> MNb', 'HAT': 'MNb, Ob -> MNO'},\n",
    "    4: {'HA': 'Ma, Na -> MNa', 'HAT': 'MNa, Oa -> MNO'}\n",
    "}"
   ]
  },
  {
   "cell_type": "code",
   "execution_count": 15,
   "metadata": {
    "collapsed": true
   },
   "outputs": [],
   "source": [
    "def multiply_case(H, A, T, case):\n",
    "    HA = np.einsum(cases[case]['HA'], H, A)\n",
    "    HAT = np.einsum(cases[case]['HAT'], HA, T)\n",
    "    return HAT"
   ]
  },
  {
   "cell_type": "code",
   "execution_count": 16,
   "metadata": {
    "collapsed": true
   },
   "outputs": [],
   "source": [
    "def cost(H, A, T, E_np_masked, case):\n",
    "    HAT = multiply_case(H, A, T, case)\n",
    "    mask = ~np.isnan(E_np_masked)\n",
    "    error = (HAT-E_np_masked)[mask].flatten()\n",
    "    return np.sqrt((error**2).mean())\n"
   ]
  },
  {
   "cell_type": "code",
   "execution_count": 17,
   "metadata": {
    "collapsed": true
   },
   "outputs": [],
   "source": [
    "from autograd import multigrad"
   ]
  },
  {
   "cell_type": "code",
   "execution_count": 18,
   "metadata": {
    "collapsed": true
   },
   "outputs": [],
   "source": [
    "mg = multigrad(cost, argnums=[0, 1, 2])\n"
   ]
  },
  {
   "cell_type": "code",
   "execution_count": 19,
   "metadata": {},
   "outputs": [],
   "source": [
    "lr = 0.1\n",
    "H =  np.random.rand(M, a)\n",
    "A = np.random.rand(N, a, b)\n",
    "T =  np.random.rand(O, b)\n",
    "case=2"
   ]
  },
  {
   "cell_type": "code",
   "execution_count": 20,
   "metadata": {
    "collapsed": true
   },
   "outputs": [],
   "source": [
    "params = {}\n",
    "params['M'], params['N'], params['O'] = E_np_masked.shape\n",
    "params['a'] = 2\n",
    "params['b'] = 3"
   ]
  },
  {
   "cell_type": "code",
   "execution_count": 21,
   "metadata": {},
   "outputs": [],
   "source": [
    "def learn_HAT(case, E_np_masked, num_iter, lr):\n",
    "    H_dim_chars = list(cases[case]['HA'].split(\",\")[0].strip())\n",
    "    H_dim = tuple(params[x] for x in H_dim_chars)\n",
    "    A_dim_chars = list(cases[case]['HA'].split(\",\")[1].split(\"-\")[0].strip())\n",
    "    A_dim = tuple(params[x] for x in A_dim_chars)\n",
    "    T_dim_chars = list(cases[case]['HAT'].split(\",\")[1].split(\"-\")[0].strip())\n",
    "    T_dim = tuple(params[x] for x in T_dim_chars)\n",
    "    H =  np.random.rand(*H_dim)\n",
    "    A = np.random.rand(*A_dim)\n",
    "    T =  np.random.rand(*T_dim)\n",
    "    \n",
    "    # GD procedure\n",
    "    for i in range(num_iter):\n",
    "        del_h, del_a, del_t = mg(H, A, T, E_np_masked, case)\n",
    "        H-=lr*del_h\n",
    "        A-=lr*del_a\n",
    "        T-=lr*del_t\n",
    "        # Projection to non-negative space\n",
    "        H[H<0] = 0\n",
    "        A[A<0] = 0\n",
    "        T[T<0] = 0\n",
    "        if i%500==0:\n",
    "            print(cost(H, A, T, E_np_masked, case))\n",
    "    return H, A, T"
   ]
  },
  {
   "cell_type": "code",
   "execution_count": 22,
   "metadata": {},
   "outputs": [
    {
     "name": "stdout",
     "output_type": "stream",
     "text": [
      "1\n",
      "******************************\n",
      "0.796066769834\n",
      "0.174785029807\n",
      "0.150046840099\n",
      "0.138501472717\n",
      "2\n",
      "******************************\n",
      "0.592664946527\n",
      "0.168544673995\n",
      "0.152961301292\n",
      "0.150055287512\n",
      "3\n",
      "******************************\n",
      "0.491833921984\n",
      "0.166327739064\n",
      "0.142030349507\n",
      "0.135573587985\n",
      "4\n",
      "******************************\n",
      "0.358511728923\n",
      "0.181591797797\n",
      "0.179021490862\n",
      "0.173692323398\n"
     ]
    }
   ],
   "source": [
    "learnt_factors = {}\n",
    "for case_num in range(1, 5):\n",
    "    print case_num\n",
    "    print \"*\"*30\n",
    "    learnt_factors[case_num] = learn_HAT(case_num, E_np_masked, 2000, 0.1)"
   ]
  },
  {
   "cell_type": "code",
   "execution_count": 30,
   "metadata": {},
   "outputs": [
    {
     "data": {
      "text/plain": [
       "array([[[ 0.48882969,  0.18708795,  0.25397125,  0.5347884 ,  0.25369064,\n",
       "          0.19726996],\n",
       "        [ 0.20039975,  0.23810218,  0.68736954,  0.51351976,  0.39110993,\n",
       "          0.23696736],\n",
       "        [ 0.70095996,  0.16928001,  0.20180109,  0.71857591,  0.26201775,\n",
       "          0.19470855]],\n",
       "\n",
       "       [[ 0.47607553,  0.40750625,  0.02628398,  0.23101719,  0.25393685,\n",
       "          0.36988745],\n",
       "        [ 0.35253324,  0.40849102,  0.29493296,  0.29107321,  0.33595789,\n",
       "          0.37285137],\n",
       "        [ 0.31397732,  0.1601071 ,  0.08750033,  0.2674595 ,  0.15029872,\n",
       "          0.15680797]],\n",
       "\n",
       "       [[ 0.88203539,  0.77670193,  0.02739895,  0.40008823,  0.4711357 ,\n",
       "          0.70242502],\n",
       "        [ 0.66830687,  0.77383461,  0.5103475 ,  0.519137  ,  0.61810599,\n",
       "          0.70447707],\n",
       "        [ 0.54619101,  0.29617564,  0.15160879,  0.45387182,  0.26835684,\n",
       "          0.28735945]],\n",
       "\n",
       "       [[ 0.40002148,  0.10185109,  0.25811443,  0.50355387,  0.20603974,\n",
       "          0.12099583],\n",
       "        [ 0.12819782,  0.15467446,  0.64767747,  0.46777698,  0.33027892,\n",
       "          0.16160116],\n",
       "        [ 0.65747762,  0.13960791,  0.18994054,  0.68637679,  0.2382727 ,\n",
       "          0.16680031]]])"
      ]
     },
     "execution_count": 30,
     "metadata": {},
     "output_type": "execute_result"
    }
   ],
   "source": [
    "H, A, T = learnt_factors[case]\n",
    "multiply_case(H, A, T, case)"
   ]
  },
  {
   "cell_type": "code",
   "execution_count": 27,
   "metadata": {},
   "outputs": [
    {
     "ename": "SyntaxError",
     "evalue": "invalid syntax (<ipython-input-27-b29c862b6e6b>, line 1)",
     "output_type": "error",
     "traceback": [
      "\u001b[0;36m  File \u001b[0;32m\"<ipython-input-27-b29c862b6e6b>\"\u001b[0;36m, line \u001b[0;32m1\u001b[0m\n\u001b[0;31m    (*learnt_factors[2])\u001b[0m\n\u001b[0m     ^\u001b[0m\n\u001b[0;31mSyntaxError\u001b[0m\u001b[0;31m:\u001b[0m invalid syntax\n"
     ]
    }
   ],
   "source": []
  },
  {
   "cell_type": "code",
   "execution_count": null,
   "metadata": {
    "collapsed": true
   },
   "outputs": [],
   "source": []
  }
 ],
 "metadata": {
  "kernelspec": {
   "display_name": "Python 2",
   "language": "python",
   "name": "python2"
  },
  "language_info": {
   "codemirror_mode": {
    "name": "ipython",
    "version": 2
   },
   "file_extension": ".py",
   "mimetype": "text/x-python",
   "name": "python",
   "nbconvert_exporter": "python",
   "pygments_lexer": "ipython2",
   "version": "2.7.11"
  }
 },
 "nbformat": 4,
 "nbformat_minor": 1
}
