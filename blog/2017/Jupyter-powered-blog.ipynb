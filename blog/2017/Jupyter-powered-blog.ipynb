{
 "cells": [
  {
   "cell_type": "markdown",
   "metadata": {},
   "source": [
    "# Hacking my way to a Jupyter notebook powered blog"
   ]
  },
  {
   "cell_type": "markdown",
   "metadata": {},
   "source": [
    "### TLDR: A blog post about powering a blog through Jupyter notebook and the associated struggles!"
   ]
  },
  {
   "cell_type": "markdown",
   "metadata": {},
   "source": [
    "### Background"
   ]
  },
  {
   "cell_type": "markdown",
   "metadata": {},
   "source": [
    "I have been blogging for close to ten years now. I started off with Wordpress back in 2009 and continued using it for 5 years. IPython notebook had become very popular by then and I moved towards Pelican and hosted my blog cum website on Github. Jake Vanderplas and others had put a lot of effort in customising Pelican and adding IPython notebook support. While everything worked well, over time, Pelican started appealing less to me. The builds got slower as I added more posts. Git history would grow crazy as the blog would be regenerated. I looked into alternative blogging engines like Jekyll, which would probably have similar issues? While Medium.com allows linking Jupyter notebook gists, they appear IFramed. I thought: what if I could use `nbconvert` utility provided by the awesome folks at Jupyter and create a simplish blog- no hassle, no pagination, plain Python code!"
   ]
  },
  {
   "cell_type": "markdown",
   "metadata": {},
   "source": [
    "### Enter nbconvert"
   ]
  },
  {
   "cell_type": "markdown",
   "metadata": {},
   "source": [
    "My initial experience with `nbconvert` and converting my Jupyter notebooks to HTML was great. Using `nbformat`, I created a script that would programatically create an HTML given a .ipynb.\n",
    "\n",
    "The code looked something like the following:"
   ]
  },
  {
   "cell_type": "markdown",
   "metadata": {},
   "source": [
    "```python\n",
    "import sys\n",
    "from nbconvert import HTMLExporter\n",
    "import nbformat\n",
    "\n",
    "notebook_file = sys.argv[1]\n",
    "html_exporter = HTMLExporter()\n",
    "nb = nbformat.reads(open(notebook_file, 'r').read(), as_version=4)\n",
    "\n",
    "(body, resources) = html_exporter.from_notebook_node(nb)\n",
    "html_file = notebook_file.replace(\".ipynb\", \".html\")\n",
    "html_file_writer = open(html_file, 'w')\n",
    "html_file_writer.write(body)\n",
    "html_file_writer.close()\n",
    "```"
   ]
  },
  {
   "cell_type": "markdown",
   "metadata": {},
   "source": [
    "After this, the generated HTML would look like the following:"
   ]
  },
  {
   "cell_type": "markdown",
   "metadata": {},
   "source": [
    "![](blog-early.png)"
   ]
  },
  {
   "cell_type": "markdown",
   "metadata": {},
   "source": [
    "Looks pretty, right! However, there should a way to navigate to blog home, right? Do we need a navbar? Right on! How about google analytics? How about Disqus for comments? How about using Bootsrap for powering the remaining website/blog?\n"
   ]
  },
  {
   "cell_type": "markdown",
   "metadata": {},
   "source": [
    "### Adding Navbar, Disqus, Google Analytics, Bootstrap"
   ]
  },
  {
   "cell_type": "markdown",
   "metadata": {},
   "source": [
    "Navbar, Disqus comments, Google analytics should be a part of each blog post, right? So, it is best to have their code injected into each blog post. I wrote a simple Python script which would put the JS and CSS code at the right places for these services."
   ]
  },
  {
   "cell_type": "markdown",
   "metadata": {},
   "source": [
    "```python\n",
    "read_navbar = open(\"navbar.txt\", 'r').read()\n",
    "read_disqus = open(\"disqus.txt\", 'r').read()\n",
    "read_css = open(\"main_css.txt\", 'r').read()\n",
    "read_ga = open(\"google_analytics.txt\",\"r\").read()\n",
    "\n",
    "if read_navbar not in body:\n",
    "    body = body.replace(\"<body>\", \"<body>\\n\" + read_navbar)\n",
    "\n",
    "if read_ga not in body:\n",
    "    body = body.replace(\"</body\", read_ga + \"\\n</body>\")\n",
    "\n",
    "if read_disqus not in body:\n",
    "    body = body.replace(\"</body\", read_disqus + \"\\n</body>\")\n",
    "\n",
    "if read_css not in body:\n",
    "    body = body.replace(\"</title>\", \"</title>\\n\" + read_css)\n",
    "```"
   ]
  },
  {
   "cell_type": "markdown",
   "metadata": {},
   "source": [
    "This snippet does what it looks like. Reads in a bunch of CSS and JS code and puts them at the right place in the HTML. Here is how each of these read files looked like, which are provided by the services respectively."
   ]
  },
  {
   "cell_type": "markdown",
   "metadata": {},
   "source": [
    "#### disqus.txt"
   ]
  },
  {
   "cell_type": "markdown",
   "metadata": {},
   "source": [
    "```javascript\n",
    "<div id=\"disqus_thread\"></div>\n",
    "<script>\n",
    "\n",
    "/**\n",
    "*  RECOMMENDED CONFIGURATION VARIABLES: EDIT AND UNCOMMENT THE SECTION BELOW TO INSERT DYNAMIC VALUES FROM YOUR PLATFORM OR CMS.\n",
    "*  LEARN WHY DEFINING THESE VARIABLES IS IMPORTANT: https://disqus.com/admin/universalcode/#configuration-variables*/\n",
    "/*\n",
    "var disqus_config = function () {\n",
    "this.page.url = PAGE_URL;  // Replace PAGE_URL with your page's canonical URL variable\n",
    "this.page.identifier = PAGE_IDENTIFIER; // Replace PAGE_IDENTIFIER with your page's unique identifier variable\n",
    "};\n",
    "*/\n",
    "(function() { // DON'T EDIT BELOW THIS LINE\n",
    "var d = document, s = d.createElement('script');\n",
    "s.src = 'https://ANONYMOUS-FOR_NOW/embed.js';\n",
    "s.setAttribute('data-timestamp', +new Date());\n",
    "(d.head || d.body).appendChild(s);\n",
    "})();\n",
    "</script>\n",
    "<noscript>Please enable JavaScript to view the <a href=\"https://disqus.com/?ref_noscript\">comments powered by Disqus.</a></noscript>\n",
    "```"
   ]
  },
  {
   "cell_type": "markdown",
   "metadata": {},
   "source": [
    "#### google_analytics.txt"
   ]
  },
  {
   "cell_type": "markdown",
   "metadata": {},
   "source": [
    "```javascript\n",
    "<script>\n",
    "  (function(i,s,o,g,r,a,m){i['GoogleAnalyticsObject']=r;i[r]=i[r]||function(){\n",
    "  (i[r].q=i[r].q||[]).push(arguments)},i[r].l=1*new Date();a=s.createElement(o),\n",
    "  m=s.getElementsByTagName(o)[0];a.async=1;a.src=g;m.parentNode.insertBefore(a,m)\n",
    "  })(window,document,'script','https://www.google-analytics.com/analytics.js','ga');\n",
    "\n",
    "  ga('create', 'PUT YOUR CODE HERE', 'auto');\n",
    "  ga('send', 'pageview');\n",
    "\n",
    "</script>\n",
    "```"
   ]
  },
  {
   "cell_type": "markdown",
   "metadata": {},
   "source": [
    "#### main_css.txt"
   ]
  },
  {
   "cell_type": "markdown",
   "metadata": {},
   "source": [
    "```html\n",
    "<link rel=\"stylesheet\" href=\"../../assets/css/main.css\" />\n",
    "```"
   ]
  },
  {
   "cell_type": "markdown",
   "metadata": {},
   "source": [
    "#### navbar.txt"
   ]
  },
  {
   "cell_type": "markdown",
   "metadata": {},
   "source": [
    "```html\n",
    "<nav id=\"nav\">\n",
    "        <ul class=\"container\">\n",
    "            <li><a href=\"../../index.html\">Home</a></li>\n",
    "            <li><a href=\"../../publications.html\">Publications</a></li>\n",
    "            <li><a href=\"../../blog.html\">Blog</a></li>\n",
    "            <li><a href=\"../../files/cv.pdf\">CV</a></li>\n",
    "\n",
    "        </ul>\n",
    "</nav>\n",
    "```"
   ]
  },
  {
   "cell_type": "markdown",
   "metadata": {},
   "source": [
    "### Adding Index page for blog posts"
   ]
  },
  {
   "cell_type": "markdown",
   "metadata": {},
   "source": [
    "I then created a simple index page which would enlist all the blog posts. A sample post linking would be:\n",
    "\n",
    "```html\n",
    "<li><a href =\"blog/2017/nmf-nnls.html\">Non-negative matrix factorisation using non-negative least squares</a> (29 March)</li>\n",
    "```\n",
    "\n",
    "So, everytime, I would add a blog post, all I would need to do is to invoke the Python script (to convert the .ipynb to HTML; and add disqus, google analytics, navbar, CSS) and link the post on the index page. All working well thus far!"
   ]
  },
  {
   "cell_type": "markdown",
   "metadata": {},
   "source": [
    "### Blog not mobile-friendly :("
   ]
  },
  {
   "cell_type": "markdown",
   "metadata": {},
   "source": [
    "I opened my blog on my mobile and it did not look pretty. There was just too much whitespace! It would look something like the following:\n",
    "\n",
    "![](blog-mobile.jpg)\n",
    "\n",
    "Google Chrome suggested me to render a mobile-friendly page, which did not look very good to me! :("
   ]
  },
  {
   "cell_type": "markdown",
   "metadata": {},
   "source": [
    "### Fixing one thing at a time"
   ]
  },
  {
   "cell_type": "markdown",
   "metadata": {},
   "source": [
    "I then started my quest to dive deep into the CSS inserted by nbconvert and figure what causes the page to be not mobile friendly. I made a few hand-wavy attempts. This approach didn't seem right. Twitter bootstrap (which nbconvert uses as base) is responsive and mobile friendly. Then, it surely would be the CSS used by Jupyter's nbconvert? I opened an [issue](https://github.com/jupyter/nbconvert/issues/599) on the nbconvert repo as well.\n",
    "\n",
    "Against this background, this post is my attempts at understanding and building a responsive blog powered by Jupyter notebooks. I also hoped that I could help with the `nbconvert` issue I had created."
   ]
  },
  {
   "cell_type": "markdown",
   "metadata": {},
   "source": [
    "### Enter nbconvert with `basic` template"
   ]
  },
  {
   "attachments": {},
   "cell_type": "markdown",
   "metadata": {},
   "source": [
    "`nbconvert` also allows exporting to an HTML that doesn't have all the fancy CSS provided in the default template. My plan at this point was:\n",
    "\n",
    "1. Export notebook using `basic` template\n",
    "2. Add Bootstrap to provide good defaults\n",
    "3. Add custom CSS to fix places where `basic` template exported HTML and Bootstrap do not comply\n",
    "\n",
    "I thought this would take a couple of hours at max. How wrong could I be!\n",
    "\n",
    "This is how the blog post looked at this point of time.\n",
    "\n",
    "![](blog-default.png)"
   ]
  },
  {
   "cell_type": "markdown",
   "metadata": {},
   "source": [
    "Oh, and if you are wondering if I picked up a Bootstrap customisation, then you are right. I liked the [Journal theme](https://bootswatch.com/journal/) from Bootswatch."
   ]
  },
  {
   "cell_type": "markdown",
   "metadata": {},
   "source": [
    "### Adding viewport code\n",
    "\n",
    "I added the following code to inject the following code. `<meta name=\"viewport\" content=\"width=device-width, initial-scale=1\">` is important for mobile-friendliness!\n",
    "\n",
    "```python\n",
    "body = \"\"\"<html>\n",
    "\t\t\t\t<head>\n",
    "\t\t\t\t<meta charset=\"utf-8\">\n",
    "\t\t\t    <meta http-equiv=\"X-UA-Compatible\" content=\"IE=edge\">\n",
    "\t\t\t    <meta name=\"viewport\" content=\"width=device-width, initial-scale=1\">\n",
    "\t\t\t   \n",
    "\t\t\t    <meta name=\"description\" content=\"\">\n",
    "\t\t\t    <meta name=\"author\" content=\"\">\n",
    "\t\t\t    <title>Nipun Batra</title>\n",
    "\t\t\t    </head>\n",
    "\t\t\t    <body>\n",
    "\t\t\t    <div class=\"container\" margin=\"5%\">\"\"\"+body+\"</div></body></html>\"\n",
    "```\n",
    "\n",
    "Now, adding this the blog post was responsive and Google Chrome didn't complain on the mobile. To be very sure, I checked on the mobile friendly test powered by Google."
   ]
  },
  {
   "cell_type": "markdown",
   "metadata": {},
   "source": [
    "### Adding MathJax JS\n",
    "\n",
    "This was simple. In Python:\n",
    "```python\n",
    "read_mathjax = open(\"mathjax.txt\", 'r').read()\n",
    "body = body.replace(\"</head>\", read_mathjax + \"\\n</head>\")\n",
    "```\n",
    "where mathjax.txt looked like:\n",
    "\n",
    "```html\n",
    "  <script src=\"https://cdn.mathjax.org/mathjax/latest/MathJax.js?config=TeX-AMS_HTML\"></script>\n",
    "    <!-- MathJax configuration -->\n",
    "    <script type=\"text/x-mathjax-config\">\n",
    "    MathJax.Hub.Config({\n",
    "        tex2jax: {\n",
    "            inlineMath: [ [\"$\",\"$\"], [\"\\\\(\",\"\\\\)\"] ],\n",
    "            displayMath: [ [\"$$\",'$$'], [\"\\\\[\",\"\\\\]\"] ],\n",
    "            processEscapes: true,\n",
    "            processEnvironments: true\n",
    "        },\n",
    "        // Center justify equations in code and markdown cells. Elsewhere\n",
    "        // we use CSS to left justify single line equations in code cells.\n",
    "        displayAlign: 'center',\n",
    "        \"HTML-CSS\": {\n",
    "            styles: {'.MathJax_Display': {\"margin\": 0}},\n",
    "            linebreaks: { automatic: true }\n",
    "        }\n",
    "    });\n",
    "    </script>\n",
    "```"
   ]
  },
  {
   "cell_type": "markdown",
   "metadata": {},
   "source": [
    "### Fixing the fonts"
   ]
  },
  {
   "cell_type": "markdown",
   "metadata": {},
   "source": [
    "The fonts simply looked too tiny at this point. I also happened to look at the font used in the navbar. It looked pretty! If only it was lighter. I added the following CSS into my custom css file, which I included using Python (as shown before)\n",
    "\n",
    "```css\n",
    "body {\n",
    "    font-family: \"News Cycle\", \"Arial Narrow Bold\", sans-serif;\n",
    "    font-size: 21px;\n",
    "    line-height: 1.42857143;\n",
    "    color: #777777;\n",
    "    background-color: #ffffff\n",
    "}\n",
    "```\n",
    "\n",
    "The following screenshot shows how the blog post looked at this stage."
   ]
  },
  {
   "cell_type": "markdown",
   "metadata": {},
   "source": [
    "![](blog-font-size.png)"
   ]
  },
  {
   "cell_type": "markdown",
   "metadata": {},
   "source": [
    "Starting to look pretty, no? But, those ugly anchor links in red!"
   ]
  },
  {
   "cell_type": "markdown",
   "metadata": {},
   "source": [
    "### Fixing the anchor links"
   ]
  },
  {
   "cell_type": "markdown",
   "metadata": {},
   "source": [
    "To be very honest, I had little luck trying to remove the anchor links. Yes, I am a novice at CSS. But, I thought I was not at all that bad at googling. Turns out the best way to fix this was to look for the tag on the HTML generated by `nbconvert` (in default mode). Felt so grateful to the Jupyter team at this point! Here is the copied CSS.\n",
    "\n",
    "```css\n",
    "a.anchor-link:link {\n",
    "    text-decoration: none;\n",
    "    padding: 0 20px;\n",
    "    visibility: hidden\n",
    "}\n",
    "\n",
    "h1:hover .anchor-link,\n",
    "h2:hover .anchor-link,\n",
    "h3:hover .anchor-link,\n",
    "h4:hover .anchor-link,\n",
    "h5:hover .anchor-link,\n",
    "h6:hover .anchor-link {\n",
    "    visibility: visible\n",
    "}\n",
    "```\n",
    "\n",
    "The following screenshot shows how things looked after including this bit of CSS."
   ]
  },
  {
   "cell_type": "markdown",
   "metadata": {},
   "source": [
    "![](blog-anchor.png)"
   ]
  },
  {
   "cell_type": "markdown",
   "metadata": {},
   "source": [
    "I next looked at a notebook containing a table (Pandas.dataframe). It looked horrible (shown below)"
   ]
  },
  {
   "cell_type": "markdown",
   "metadata": {},
   "source": [
    "![](blog-table.png)"
   ]
  },
  {
   "cell_type": "markdown",
   "metadata": {},
   "source": [
    "### Fixing the table"
   ]
  },
  {
   "cell_type": "markdown",
   "metadata": {},
   "source": [
    "I added the following CSS to ease out the tables a bit. Also, to add hover on selected row.\n",
    "\n",
    "```css\n",
    "th,\n",
    "td {\n",
    "    padding: 8px;\n",
    "}\n",
    "\n",
    "tr:hover {\n",
    "    background-color: #f5f5f5\n",
    "}\n",
    "```    \n",
    "\n",
    "The tables looked a whole lot prettier after this (as shown below)"
   ]
  },
  {
   "cell_type": "markdown",
   "metadata": {},
   "source": [
    "![](blog-table-after.png)"
   ]
  },
  {
   "cell_type": "markdown",
   "metadata": {},
   "source": [
    "### Other fixes\n",
    "\n",
    "I added a few other fixes. \n",
    "\n",
    "* Increasing the space between Jupyter notebook cells\n",
    "\n",
    "```css\n",
    "div.cell {\n",
    "    padding: 4px\n",
    "}\n",
    "```\n",
    "\n",
    "* Increasing the font size of code cells\n",
    "\n",
    "```css\n",
    "pre {\n",
    "    font-size: 15px;\n",
    "}\n",
    "```\n",
    "\n",
    "* Making the prompts (In [] and Out []) of a different colours\n",
    "\n",
    "```css\n",
    "div.input_prompt {\n",
    "    color: firebrick;\n",
    "}\n",
    "\n",
    "div.output_prompt {\n",
    "    color: firebrick;\n",
    "}\n",
    "```\n",
    "\n",
    "* Making the navbar prettier\n",
    "\n",
    "```css\n",
    ".navbar {\n",
    "    font-size: 27px;\n",
    "    font-family: \"News Cycle\", \"Arial Narrow Bold\", sans-serif;\n",
    "    font-weight: 500;\n",
    "}\n",
    "```\n",
    "\n",
    "* Making the heading 1, 2, 3 and 4 used in the notebook of a lighter weight\n",
    "\n",
    "```css\n",
    ".text_cell.rendered h1,\n",
    "h2,\n",
    "h3,\n",
    "h4 {\n",
    "    font-weight: 100\n",
    "}\n",
    "```\n",
    "\n",
    "* Ensuring that images are `responsive`\n",
    "\n",
    "```css\n",
    "img {\n",
    "    max-width: 100%\n",
    "}\n",
    "```\n",
    "\n",
    "At this stage, the blog started looking like it's current avatar!"
   ]
  },
  {
   "cell_type": "markdown",
   "metadata": {},
   "source": [
    "### Adding social media icons \n",
    "\n",
    "I next wrote some code for social media liking/sharing using [jssocials](http://js-socials.com/). It was again the usual inject the JS and CSS programatically into each web page. Along with that, I had to make another change- I would need to insert a title for each HTML page. Since this title is used by sharing services, it better reflect the content of the page. I chose to pick the blog title, which I always put in `<h1>`. I wrote a simple Python snippet to find this.\n",
    "\n",
    "```python\n",
    "from bs4 import BeautifulSoup\n",
    "\tsoup = BeautifulSoup(body, 'html.parser')\n",
    "\ttry:\n",
    "\t\ttitle = soup.find_all('h1')[0].contents[0]\n",
    "        if title is None: title=\"Nipun Batra\"\n",
    "\texcept:\n",
    "\t\ttitle=\"Nipun Batra\"a\n",
    "\t\n",
    "```    \n",
    "    \n",
    "Now, I programatically passed the title to the HTML. Now, the footer looked like the following."
   ]
  },
  {
   "cell_type": "markdown",
   "metadata": {},
   "source": [
    "![](blog-footer.png)"
   ]
  },
  {
   "cell_type": "markdown",
   "metadata": {},
   "source": [
    "Clicking on any of these would share the link of the current page and the text shared alongside would be the title of the page"
   ]
  },
  {
   "cell_type": "markdown",
   "metadata": {},
   "source": [
    "### Unicode :("
   ]
  },
  {
   "cell_type": "markdown",
   "metadata": {},
   "source": [
    "All seemed going well up to this point, till I encountered the following error while writing the converted HTML for one of my blog posts.\n",
    "\n",
    "```python\n",
    "/Users/nipunbatra/git/nipunbatra.github.io/blog/add_static_content.py in convert(notebook_file)\n",
    "    122         html_file = notebook_file.replace(\".ipynb\", \".html\")\n",
    "    123         html_file_writer = open(html_file, 'w')\n",
    "--> 124         html_file_writer.write(body)\n",
    "    125         html_file_writer.close()\n",
    "\n",
    "UnicodeEncodeError: 'ascii' codec can't encode character u'\\xd7' in position 45194: ordinal not in range(128)\n",
    "```\n",
    "\n",
    "I found that the offending character was a X, used for displaying dataframe- 10 X 5. Googling my way around this issue, I found that the solution lay in using Python 3 open. Maybe, high time I shifted to Python 3.\n",
    "\n",
    "The fix was as simple as:\n",
    "\n",
    "```python\n",
    "from builtins import open\n",
    "```"
   ]
  },
  {
   "cell_type": "markdown",
   "metadata": {},
   "source": [
    "### Building all\n",
    "\n",
    "How about a script to build all the IPython/Jupter notebooks?\n",
    "\n",
    "```python\n",
    "import os\n",
    "import glob\n",
    "from add_static_content import convert\n",
    "\n",
    "base_folder = \".\"\n",
    "\n",
    "def get_immediate_subdirectories(a_dir):\n",
    "    return [name for name in os.listdir(a_dir)\n",
    "            if os.path.isdir(os.path.join(a_dir, name))]\n",
    "\n",
    "to_ignore  = ['.idea','.ipynb_checkpoints']\n",
    "subdirs = get_immediate_subdirectories(base_folder)\n",
    "subdirs = [x for x in subdirs if x not in to_ignore]\n",
    "\n",
    "for s in subdirs[:]:\n",
    "    year_path = os.path.join(base_folder, s)\n",
    "    notebooks  = glob.glob(os.path.join(year_path, \"*.ipynb\"))\n",
    "    for n in notebooks[:]:\n",
    "        try:\n",
    "            out = convert(n)\n",
    "        except:\n",
    "            print n\n",
    "```"
   ]
  },
  {
   "cell_type": "markdown",
   "metadata": {},
   "source": [
    "### To Do\n",
    "\n",
    "Gosh! Everything works now! There's a lot more to be done though!\n",
    "\n",
    "1. Use Jinja templating. Would end up being less hacky!\n",
    "2. Extract out plot images. Currently the images are base64 encoded. How about extract out the png? I didn't have luck with the directory and programatically creating blog posts.\n",
    "3. Way to subscribe to posts? \n",
    "4. Markdown to Blog post. The easiest way is to have a tiny Python snippet to read the .md file and put the markdown into a notebook. Rest already done!\n",
    "5. Spell check!\n",
    "6. Many more!"
   ]
  },
  {
   "cell_type": "markdown",
   "metadata": {},
   "source": [
    "### Phew"
   ]
  },
  {
   "cell_type": "markdown",
   "metadata": {},
   "source": [
    "It was a lot of learning and a lot of agony! I really wish to thank the Jupyter devs who have done such an amazing job. I would also like to thank all the people whose CSS tricks I benefited from. Feel free to let me know via email or comments what you think about this."
   ]
  },
  {
   "cell_type": "markdown",
   "metadata": {},
   "source": [
    "### Repository\n",
    "\n",
    "You can have a look at the repo containing the code up [here](https://github.com/nipunbatra/nipunbatra.github.io)."
   ]
  }
 ],
 "metadata": {
  "kernelspec": {
   "display_name": "Python 2",
   "language": "python",
   "name": "python2"
  },
  "language_info": {
   "codemirror_mode": {
    "name": "ipython",
    "version": 2
   },
   "file_extension": ".py",
   "mimetype": "text/x-python",
   "name": "python",
   "nbconvert_exporter": "python",
   "pygments_lexer": "ipython2",
   "version": "2.7.11"
  }
 },
 "nbformat": 4,
 "nbformat_minor": 2
}
