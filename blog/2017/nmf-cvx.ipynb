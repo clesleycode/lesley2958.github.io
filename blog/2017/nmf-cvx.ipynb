{
 "cells": [
  {
   "cell_type": "markdown",
   "metadata": {},
   "source": [
    "# Non-negative matrix factorization with missing entries using CVXPY"
   ]
  },
  {
   "cell_type": "markdown",
   "metadata": {},
   "source": [
    "Like my [previous](https://nipunbatra.github.io/blog/2017/nmf-nnls.html) [few](https://nipunbatra.github.io/blog/2017/nnmf-tensorflow.html) [posts](https://nipunbatra.github.io/blog/2017/nmf-autograd.html), in this post I'll illustrate solving non-negative matrix factorization. I'll borrow an [example](http://nbviewer.jupyter.org/github/cvxgrp/cvxpy/blob/master/examples/notebooks/WWW/nonneg_matrix_fact.ipynb) provided by [CVXPY](http://www.cvxpy.org/en/latest/) and modify it in three ways:\n",
    "\n",
    "1. allowing missing entries\n",
    "2. modifying the cost function\n",
    "3. add regularisation\n",
    "\n",
    "This CVXPY implementation uses alternating least squares based method to compute the decomposed matrices."
   ]
  },
  {
   "cell_type": "markdown",
   "metadata": {},
   "source": [
    "### Imports"
   ]
  },
  {
   "cell_type": "code",
   "execution_count": 1,
   "metadata": {
    "collapsed": true
   },
   "outputs": [],
   "source": [
    "import cvxpy as cvx\n",
    "import pandas as pd\n",
    "import numpy as np\n",
    "import matplotlib.pyplot as plt"
   ]
  },
  {
   "cell_type": "markdown",
   "metadata": {},
   "source": [
    "### Creating matrix to be decomposed"
   ]
  },
  {
   "cell_type": "code",
   "execution_count": 2,
   "metadata": {},
   "outputs": [],
   "source": [
    "A = np.array([[3, 4, 5, 2],\n",
    "                   [4, 4, 3, 3],\n",
    "                   [5, 5, 4, 3]], dtype=np.float32).T"
   ]
  },
  {
   "cell_type": "markdown",
   "metadata": {},
   "source": [
    "### Masking one entry"
   ]
  },
  {
   "cell_type": "code",
   "execution_count": 3,
   "metadata": {},
   "outputs": [
    {
     "data": {
      "text/plain": [
       "array([[ nan,   4.,   5.],\n",
       "       [  4.,   4.,   5.],\n",
       "       [  5.,   3.,   4.],\n",
       "       [  2.,   3.,   3.]], dtype=float32)"
      ]
     },
     "execution_count": 3,
     "metadata": {},
     "output_type": "execute_result"
    }
   ],
   "source": [
    "A[0, 0] = np.NAN\n",
    "A"
   ]
  },
  {
   "cell_type": "markdown",
   "metadata": {},
   "source": [
    "Unlike previous posts, I'll directly provide the source code in one go and have comments in the code. We will create two cost functions:\n",
    "\n",
    "1. minimise the absolute error between the given matrix and the product of the decomposed matrix\n",
    "2. minimise the relative error between the given matrix and the product of the decomposed matrix"
   ]
  },
  {
   "cell_type": "code",
   "execution_count": 4,
   "metadata": {
    "collapsed": true
   },
   "outputs": [],
   "source": [
    "def nmf_features(A, k, constant=0.01, regularisation=False, MAX_ITERS=30, cost='absolute'):\n",
    "    \"\"\"\n",
    "\n",
    "    Parameters\n",
    "    ----------\n",
    "    A: matrix to be decomposed (m rows and n columns)\n",
    "    k: number of latent factors\n",
    "    constant: coefficient of regularisation\n",
    "    regularisation: whether to use regularisation\n",
    "    MAX_ITERS: maximium number of iterations\n",
    "    cost: 'absolute' or 'relative'\n",
    "\n",
    "    Returns\n",
    "    -------\n",
    "    W:\n",
    "    H:\n",
    "    Residual\n",
    "\n",
    "    \"\"\"\n",
    "\n",
    "    np.random.seed(0)\n",
    "\n",
    "    m, n = A.shape\n",
    "    mask = ~np.isnan(A)\n",
    "    \n",
    "    # Initialize W randomly.\n",
    "    W_init = np.random.rand(m, k)\n",
    "    W = W_init\n",
    "\n",
    "    # Perform alternating minimization.\n",
    "\n",
    "    residual = np.zeros(MAX_ITERS)\n",
    "    for iter_num in xrange(1, 1 + MAX_ITERS):\n",
    "        # For odd iterations, treat W constant, optimize over H.\n",
    "        if iter_num % 2 == 1:\n",
    "            H = cvx.Variable(k, n)\n",
    "            constraint = [H >= 0]\n",
    "            \n",
    "        # For even iterations, treat X constant, optimize over Y.\n",
    "        else:\n",
    "            W = cvx.Variable(m, k)\n",
    "\n",
    "            constraint = [W >= 0]\n",
    "           \n",
    "        Temp = W*H\n",
    "        \n",
    "        one_A = cvx.Constant(1.0 / (A[mask]+1e-3))\n",
    "        abs_error = A[mask] - (W * H)[mask]\n",
    "        rel_error = cvx.mul_elemwise(one_A, abs_error)\n",
    "        if cost=='absolute':\n",
    "            error=abs_error\n",
    "        else:\n",
    "            # If relative cost, \n",
    "            error = rel_error\n",
    "            \n",
    "        # Solve the problem.\n",
    "        if not regularisation:\n",
    "            obj = cvx.Minimize(cvx.norm(error, 'fro'))\n",
    "\n",
    "        else:\n",
    "            if iter_num % 2 == 1:\n",
    "                obj = cvx.Minimize(cvx.norm(error, 'fro') + constant * cvx.norm(H))\n",
    "            else:\n",
    "                obj = cvx.Minimize(cvx.norm(error, 'fro') + constant * cvx.norm(W))\n",
    "\n",
    "        prob = cvx.Problem(obj, constraint)\n",
    "        prob.solve(solver=cvx.SCS)\n",
    "\n",
    "        if prob.status != cvx.OPTIMAL:\n",
    "            pass\n",
    "       \n",
    "        residual[iter_num - 1] = prob.value\n",
    "        # Convert variable to NumPy array constant for next iteration.\n",
    "        if iter_num % 2 == 1:\n",
    "            H = H.value\n",
    "        else:\n",
    "            W = W.value\n",
    "    return W, H, residual"
   ]
  },
  {
   "cell_type": "markdown",
   "metadata": {},
   "source": [
    "### Testing out implementation over different parameters"
   ]
  },
  {
   "cell_type": "code",
   "execution_count": 5,
   "metadata": {},
   "outputs": [],
   "source": [
    "out = {}\n",
    "for cost in ['absolute','relative']:\n",
    "    out[cost]={}\n",
    "    for regularisation in [False, True]:\n",
    "        out[cost][regularisation] = {}\n",
    "        for constant in [0.001, 0.01, 0.1, 1, 10]:\n",
    "            W, H, residual = nmf_features(A, 2, cost=cost, regularisation=regularisation, constant=constant)\n",
    "            out[cost][regularisation][constant] = {'W':W,'H':H, 'residual':residual, 'pred':np.round(np.dot(W, H))}\n",
    "            "
   ]
  },
  {
   "cell_type": "markdown",
   "metadata": {},
   "source": [
    "#### Using relative cost "
   ]
  },
  {
   "cell_type": "code",
   "execution_count": 6,
   "metadata": {},
   "outputs": [
    {
     "data": {
      "text/plain": [
       "matrix([[ 5.,  4.,  5.],\n",
       "        [ 4.,  4.,  5.],\n",
       "        [ 5.,  3.,  4.],\n",
       "        [ 2.,  3.,  3.]])"
      ]
     },
     "execution_count": 6,
     "metadata": {},
     "output_type": "execute_result"
    }
   ],
   "source": [
    "out['relative'][False][0.1]['pred']"
   ]
  },
  {
   "cell_type": "markdown",
   "metadata": {},
   "source": [
    "Great, looks like we recovered the original matrix pretty much as it is!"
   ]
  },
  {
   "cell_type": "markdown",
   "metadata": {},
   "source": [
    "#### Using absolute cost"
   ]
  },
  {
   "cell_type": "code",
   "execution_count": 7,
   "metadata": {},
   "outputs": [
    {
     "data": {
      "text/plain": [
       "matrix([[ 5.,  4.,  5.],\n",
       "        [ 4.,  4.,  5.],\n",
       "        [ 5.,  3.,  4.],\n",
       "        [ 2.,  3.,  3.]])"
      ]
     },
     "execution_count": 7,
     "metadata": {},
     "output_type": "execute_result"
    }
   ],
   "source": [
    "out['absolute'][False][0.1]['pred']"
   ]
  },
  {
   "cell_type": "markdown",
   "metadata": {},
   "source": [
    "Again, looks like we recovered the original matrix pretty much as it is!"
   ]
  },
  {
   "cell_type": "markdown",
   "metadata": {},
   "source": [
    "#### Using regularisation"
   ]
  },
  {
   "cell_type": "code",
   "execution_count": 8,
   "metadata": {},
   "outputs": [
    {
     "data": {
      "text/plain": [
       "matrix([[ 0.,  0.,  0.],\n",
       "        [ 0.,  0.,  0.],\n",
       "        [ 0.,  0.,  0.],\n",
       "        [ 0.,  0.,  0.]])"
      ]
     },
     "execution_count": 8,
     "metadata": {},
     "output_type": "execute_result"
    }
   ],
   "source": [
    "out['absolute'][True][10]['pred']"
   ]
  },
  {
   "cell_type": "markdown",
   "metadata": {},
   "source": [
    "Woah. All 0s. Maybe this is due to the high coefficient of regularisation!"
   ]
  },
  {
   "cell_type": "code",
   "execution_count": 9,
   "metadata": {},
   "outputs": [
    {
     "data": {
      "text/plain": [
       "matrix([[ 0.,  0.,  0.],\n",
       "        [ 0.,  0.,  0.]])"
      ]
     },
     "execution_count": 9,
     "metadata": {},
     "output_type": "execute_result"
    }
   ],
   "source": [
    "out['absolute'][True][10]['H']"
   ]
  },
  {
   "cell_type": "markdown",
   "metadata": {},
   "source": [
    "Yes, this is indeed the case!"
   ]
  }
 ],
 "metadata": {
  "kernelspec": {
   "display_name": "Python 2",
   "language": "python",
   "name": "python2"
  },
  "language_info": {
   "codemirror_mode": {
    "name": "ipython",
    "version": 2
   },
   "file_extension": ".py",
   "mimetype": "text/x-python",
   "name": "python",
   "nbconvert_exporter": "python",
   "pygments_lexer": "ipython2",
   "version": "2.7.11"
  }
 },
 "nbformat": 4,
 "nbformat_minor": 1
}
