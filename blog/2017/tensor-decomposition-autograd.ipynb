{
 "cells": [
  {
   "cell_type": "markdown",
   "metadata": {},
   "source": [
    "# Tensor decomposition using Autograd"
   ]
  },
  {
   "cell_type": "markdown",
   "metadata": {},
   "source": [
    "In this post, I will compare an Autograd based implementation with a standard Tensorly based PARAFAC implementation."
   ]
  },
  {
   "cell_type": "markdown",
   "metadata": {},
   "source": [
    "### Imports"
   ]
  },
  {
   "cell_type": "code",
   "execution_count": 1,
   "metadata": {
    "collapsed": true
   },
   "outputs": [],
   "source": [
    "import autograd.numpy as np\n",
    "import tensorly\n",
    "from tensorly.decomposition import parafac\n",
    "from autograd import multigrad"
   ]
  },
  {
   "cell_type": "markdown",
   "metadata": {},
   "source": [
    "### Creating a tensor of size 2, 3, 4"
   ]
  },
  {
   "cell_type": "code",
   "execution_count": 2,
   "metadata": {
    "collapsed": false
   },
   "outputs": [],
   "source": [
    "t = np.arange(24).reshape(2, 3, 4).astype('float32')"
   ]
  },
  {
   "cell_type": "code",
   "execution_count": 3,
   "metadata": {
    "collapsed": false
   },
   "outputs": [
    {
     "data": {
      "text/plain": [
       "array([[[  0.,   1.,   2.,   3.],\n",
       "        [  4.,   5.,   6.,   7.],\n",
       "        [  8.,   9.,  10.,  11.]],\n",
       "\n",
       "       [[ 12.,  13.,  14.,  15.],\n",
       "        [ 16.,  17.,  18.,  19.],\n",
       "        [ 20.,  21.,  22.,  23.]]], dtype=float32)"
      ]
     },
     "execution_count": 3,
     "metadata": {},
     "output_type": "execute_result"
    }
   ],
   "source": [
    "t"
   ]
  },
  {
   "cell_type": "markdown",
   "metadata": {},
   "source": [
    "### Using Tensorly to break it into rank 2 matrices"
   ]
  },
  {
   "cell_type": "code",
   "execution_count": 4,
   "metadata": {
    "collapsed": false
   },
   "outputs": [],
   "source": [
    "A, B, C = parafac(t, rank=2)"
   ]
  },
  {
   "cell_type": "code",
   "execution_count": 5,
   "metadata": {
    "collapsed": false
   },
   "outputs": [
    {
     "data": {
      "text/plain": [
       "array([[ 35.86886727,   4.33025058],\n",
       "       [ 61.91392143,   1.1737134 ]])"
      ]
     },
     "execution_count": 5,
     "metadata": {},
     "output_type": "execute_result"
    }
   ],
   "source": [
    "A"
   ]
  },
  {
   "cell_type": "code",
   "execution_count": 6,
   "metadata": {
    "collapsed": false
   },
   "outputs": [
    {
     "data": {
      "text/plain": [
       "array([[ 0.48010198, -1.33704111],\n",
       "       [ 0.58706644, -0.98212501],\n",
       "       [ 0.6940309 , -0.62720892]])"
      ]
     },
     "execution_count": 6,
     "metadata": {},
     "output_type": "execute_result"
    }
   ],
   "source": [
    "B"
   ]
  },
  {
   "cell_type": "code",
   "execution_count": 7,
   "metadata": {
    "collapsed": false
   },
   "outputs": [
    {
     "data": {
      "text/plain": [
       "array([[ 0.48671098,  1.46524661],\n",
       "       [ 0.51060759,  1.35143039],\n",
       "       [ 0.53450419,  1.23761417],\n",
       "       [ 0.5584008 ,  1.12379794]])"
      ]
     },
     "execution_count": 7,
     "metadata": {},
     "output_type": "execute_result"
    }
   ],
   "source": [
    "C"
   ]
  },
  {
   "cell_type": "markdown",
   "metadata": {},
   "source": [
    "### Defining Khatri product to get a tensor from the matrices"
   ]
  },
  {
   "cell_type": "code",
   "execution_count": 8,
   "metadata": {
    "collapsed": true
   },
   "outputs": [],
   "source": [
    "def khatri(A, B, C):\n",
    "    return np.einsum('il,jl,kl->ijk',A,B,C)"
   ]
  },
  {
   "cell_type": "code",
   "execution_count": 9,
   "metadata": {
    "collapsed": false
   },
   "outputs": [
    {
     "data": {
      "text/plain": [
       "array([[[ -0.10186127,   0.96861972,   2.03910072,   3.10958171],\n",
       "        [  4.01740161,   5.00464518,   5.99188875,   6.97913232],\n",
       "        [  8.13666448,   9.04067063,   9.94467678,  10.84868293]],\n",
       "\n",
       "       [[ 12.16806623,  13.05700484,  13.94594346,  14.83488207],\n",
       "        [ 16.00173049,  17.0015141 ,  18.0012977 ,  19.0010813 ],\n",
       "        [ 19.83539476,  20.94602335,  22.05665194,  23.16728053]]])"
      ]
     },
     "execution_count": 9,
     "metadata": {},
     "output_type": "execute_result"
    }
   ],
   "source": [
    "khatri(A, B, C)"
   ]
  },
  {
   "cell_type": "markdown",
   "metadata": {},
   "source": [
    "### Rounding off"
   ]
  },
  {
   "cell_type": "code",
   "execution_count": 10,
   "metadata": {
    "collapsed": false
   },
   "outputs": [
    {
     "data": {
      "text/plain": [
       "array([[[ -0.,   1.,   2.,   3.],\n",
       "        [  4.,   5.,   6.,   7.],\n",
       "        [  8.,   9.,  10.,  11.]],\n",
       "\n",
       "       [[ 12.,  13.,  14.,  15.],\n",
       "        [ 16.,  17.,  18.,  19.],\n",
       "        [ 20.,  21.,  22.,  23.]]])"
      ]
     },
     "execution_count": 10,
     "metadata": {},
     "output_type": "execute_result"
    }
   ],
   "source": [
    "np.round(khatri(A, B, C))"
   ]
  },
  {
   "cell_type": "markdown",
   "metadata": {},
   "source": [
    "Not bad! We get back the original tensor with ~100% accuracy"
   ]
  },
  {
   "cell_type": "markdown",
   "metadata": {},
   "source": [
    "### Cost function for GD based optimisation"
   ]
  },
  {
   "cell_type": "code",
   "execution_count": 11,
   "metadata": {
    "collapsed": false
   },
   "outputs": [],
   "source": [
    "def cost(A, B, C):\n",
    "    pred = khatri(A, B, C)\n",
    "    gt = t\n",
    "    mask = ~np.isnan(t)\n",
    "    error = (pred-gt)[mask].flatten()\n",
    "    return np.sqrt((error**2).mean())"
   ]
  },
  {
   "cell_type": "markdown",
   "metadata": {},
   "source": [
    "### Main autograd routine"
   ]
  },
  {
   "cell_type": "code",
   "execution_count": 12,
   "metadata": {
    "collapsed": false
   },
   "outputs": [],
   "source": [
    "mg = multigrad(cost, argnums=[0, 1, 2])\n",
    "rank = 2\n",
    "lr = 0.01"
   ]
  },
  {
   "cell_type": "code",
   "execution_count": 13,
   "metadata": {
    "collapsed": false
   },
   "outputs": [
    {
     "name": "stdout",
     "output_type": "stream",
     "text": [
      "13.0867070223\n",
      "1.54275312814\n",
      "0.71339135722\n",
      "0.529013021262\n",
      "0.504080757325\n",
      "0.469797308066\n",
      "0.413525451111\n",
      "0.301622273908\n",
      "0.209627382602\n",
      "0.213141337327\n",
      "0.214516963017\n",
      "0.215441239064\n"
     ]
    }
   ],
   "source": [
    "np.random.seed(0)\n",
    "m, n, o = t.shape\n",
    "a = np.random.randn(m, rank)\n",
    "b = np.random.randn(n, rank)\n",
    "c = np.random.randn(o, rank)\n",
    "\n",
    "for i in range(6000):\n",
    "    del_a, del_b, del_c = mg(a, b, c)\n",
    "    a-=lr*del_a\n",
    "    b-=lr*del_b\n",
    "    c-=lr*del_c\n",
    "    if i%500==0:\n",
    "        print(cost(a, b, c))\n",
    "    "
   ]
  },
  {
   "cell_type": "code",
   "execution_count": 14,
   "metadata": {
    "collapsed": false
   },
   "outputs": [
    {
     "data": {
      "text/plain": [
       "array([[[ -0.,   1.,   2.,   3.],\n",
       "        [  4.,   5.,   6.,   7.],\n",
       "        [  8.,   9.,  10.,  11.]],\n",
       "\n",
       "       [[ 12.,  13.,  14.,  15.],\n",
       "        [ 16.,  17.,  18.,  19.],\n",
       "        [ 20.,  21.,  22.,  23.]]])"
      ]
     },
     "execution_count": 14,
     "metadata": {},
     "output_type": "execute_result"
    }
   ],
   "source": [
    "np.round(khatri(a, b, c))"
   ]
  },
  {
   "cell_type": "markdown",
   "metadata": {},
   "source": [
    "### Decomposing with missing entries"
   ]
  },
  {
   "cell_type": "code",
   "execution_count": 15,
   "metadata": {
    "collapsed": false
   },
   "outputs": [
    {
     "data": {
      "text/plain": [
       "array([[[ nan,   1.,   2.,   3.],\n",
       "        [  4.,   5.,   6.,   7.],\n",
       "        [  8.,   9.,  10.,  11.]],\n",
       "\n",
       "       [[ 12.,  13.,  14.,  15.],\n",
       "        [ 16.,  17.,  nan,  19.],\n",
       "        [ 20.,  21.,  22.,  23.]]], dtype=float32)"
      ]
     },
     "execution_count": 15,
     "metadata": {},
     "output_type": "execute_result"
    }
   ],
   "source": [
    "t[0, 0, 0] = np.NAN\n",
    "t[1, 1, 2] = np.NAN\n",
    "t"
   ]
  },
  {
   "cell_type": "code",
   "execution_count": 16,
   "metadata": {
    "collapsed": false
   },
   "outputs": [
    {
     "name": "stdout",
     "output_type": "stream",
     "text": [
      "14.3657653138\n",
      "11.2554542723\n",
      "0.391440064205\n",
      "0.320089741632\n",
      "0.279150824088\n",
      "0.254263517167\n",
      "0.235274595444\n",
      "0.217495424995\n",
      "0.197602923558\n",
      "0.218594628293\n",
      "0.223672460718\n",
      "0.225830360065\n"
     ]
    }
   ],
   "source": [
    "rank = 2\n",
    "lr = 0.01\n",
    "\n",
    "np.random.seed(1)\n",
    "m, n, o = t.shape\n",
    "a = np.random.randn(m, rank)\n",
    "b = np.random.randn(n, rank)\n",
    "c = np.random.randn(o, rank)\n",
    "\n",
    "for i in range(6000):\n",
    "    del_a, del_b, del_c = mg(a, b, c)\n",
    "    a-=lr*del_a\n",
    "    b-=lr*del_b\n",
    "    c-=lr*del_c\n",
    "    if i%500==0:\n",
    "        print(cost(a, b, c))"
   ]
  },
  {
   "cell_type": "code",
   "execution_count": 17,
   "metadata": {
    "collapsed": false
   },
   "outputs": [
    {
     "data": {
      "text/plain": [
       "array([[[ -0.,   1.,   2.,   3.],\n",
       "        [  4.,   5.,   6.,   7.],\n",
       "        [  8.,   9.,  10.,  11.]],\n",
       "\n",
       "       [[ 12.,  13.,  14.,  15.],\n",
       "        [ 16.,  17.,  18.,  19.],\n",
       "        [ 20.,  21.,  22.,  23.]]])"
      ]
     },
     "execution_count": 17,
     "metadata": {},
     "output_type": "execute_result"
    }
   ],
   "source": [
    "np.round(khatri(a, b, c))"
   ]
  },
  {
   "cell_type": "markdown",
   "metadata": {
    "collapsed": false
   },
   "source": [
    "### What if we used a different seed?"
   ]
  },
  {
   "cell_type": "code",
   "execution_count": 18,
   "metadata": {
    "collapsed": false
   },
   "outputs": [
    {
     "name": "stdout",
     "output_type": "stream",
     "text": [
      "13.1375238648\n",
      "1.42377956103\n",
      "1.26196020429\n",
      "0.47681451677\n",
      "0.476038335842\n",
      "0.475054930056\n",
      "0.47360718886\n",
      "0.471433455007\n",
      "0.468181835873\n",
      "0.463411604108\n",
      "0.456562523642\n",
      "0.446768595735\n"
     ]
    }
   ],
   "source": [
    "\n",
    "np.random.seed(0)\n",
    "m, n, o = t.shape\n",
    "a = np.random.randn(m, rank)\n",
    "b = np.random.randn(n, rank)\n",
    "c = np.random.randn(o, rank)\n",
    "\n",
    "for i in range(6000):\n",
    "    del_a, del_b, del_c = mg(a, b, c)\n",
    "    a-=lr*del_a\n",
    "    b-=lr*del_b\n",
    "    c-=lr*del_c\n",
    "    if i%500==0:\n",
    "        print(cost(a, b, c))"
   ]
  },
  {
   "cell_type": "code",
   "execution_count": 19,
   "metadata": {
    "collapsed": false
   },
   "outputs": [
    {
     "data": {
      "text/plain": [
       "array([[[  2.,   1.,   2.,   3.],\n",
       "        [  5.,   5.,   6.,   6.],\n",
       "        [  9.,   9.,  10.,  10.]],\n",
       "\n",
       "       [[ 12.,  13.,  14.,  15.],\n",
       "        [ 16.,  17.,  18.,  19.],\n",
       "        [ 20.,  21.,  22.,  23.]]])"
      ]
     },
     "execution_count": 19,
     "metadata": {},
     "output_type": "execute_result"
    }
   ],
   "source": [
    "np.round(khatri(a, b, c))"
   ]
  },
  {
   "cell_type": "markdown",
   "metadata": {
    "collapsed": true
   },
   "source": [
    "Okay. Not so good result this time!"
   ]
  }
 ],
 "metadata": {
  "kernelspec": {
   "display_name": "Python 2",
   "language": "python",
   "name": "python2"
  },
  "language_info": {
   "codemirror_mode": {
    "name": "ipython",
    "version": 2
   },
   "file_extension": ".py",
   "mimetype": "text/x-python",
   "name": "python",
   "nbconvert_exporter": "python",
   "pygments_lexer": "ipython2",
   "version": "2.7.11"
  }
 },
 "nbformat": 4,
 "nbformat_minor": 0
}
