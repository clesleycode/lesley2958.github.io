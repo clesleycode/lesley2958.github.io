{
 "cells": [
  {
   "cell_type": "markdown",
   "metadata": {},
   "source": [
    "# Pythor- Python meets R"
   ]
  },
  {
   "cell_type": "markdown",
   "metadata": {},
   "source": [
    "I typically use Python for my data analysis. However, there are many packages which exist only in R. RPy2 allows interaction between R and Python. The following post is an attempt to show how we can leverage the awesomeness of R's packages in Python. Python meets R-Pythor. The following is the Github link to the project: https://github.com/nipunbatra/pythor"
   ]
  },
  {
   "cell_type": "markdown",
   "metadata": {},
   "source": [
    "The installation on OSX wasn't straighforward. The first part of this post explains how I was able to install RPy2 on OSX. In the next part, I give some sample usage."
   ]
  },
  {
   "cell_type": "markdown",
   "metadata": {},
   "source": [
    "### Installing RPY2"
   ]
  },
  {
   "cell_type": "markdown",
   "metadata": {},
   "source": [
    "I assume that R was installed to the default location. First, we need to edit \n",
    "```\n",
    "/opt/local/Library/Frameworks/R.framework/Resources/etc/Makeconf\n",
    "```\n",
    "\n",
    "and change the following line \n",
    "\n",
    "```\n",
    "LIBS =  -lpcre -lbz2 -lz -lm -liconv -licuuc -licui18n\n",
    "``` \n",
    "\n",
    "TO\n",
    "\n",
    "```\n",
    "LIBS = -lpcre -lbz2 -lz -lm -liconv\n",
    "```\n",
    "\n",
    "Next, I used Conda to install rpy2 following instructions on [this Stack Overflow question](http://stackoverflow.com/questions/24987932/installing-rpy2-on-mac-osx-with-anaconda-python-3-4-and-r-3-1-installed-via-macp).\n",
    "\n",
    "```bash\n",
    "conda skeleton pypi rpy2\n",
    "conda build rpy2\n",
    "conda install rpy2 --use-local\n",
    "```"
   ]
  },
  {
   "cell_type": "markdown",
   "metadata": {},
   "source": [
    "### Sample usage"
   ]
  },
  {
   "cell_type": "code",
   "execution_count": 1,
   "metadata": {
    "collapsed": false
   },
   "outputs": [
    {
     "name": "stderr",
     "output_type": "stream",
     "text": [
      "Vendor:  Continuum Analytics, Inc.\n",
      "Package: mkl\n",
      "Message: trial mode expires today\n",
      "\n",
      "    After the trial mode has expired, if you want to use mkl thereafter,\n",
      "    please purchase a license at http://continuum.io\n",
      "    \n"
     ]
    }
   ],
   "source": [
    "import pandas as pd\n",
    "import numpy as np\n",
    "import matplotlib.pyplot as plt\n",
    "df = pd.DataFrame(np.random.randn(10,5))"
   ]
  },
  {
   "cell_type": "code",
   "execution_count": 2,
   "metadata": {
    "collapsed": false
   },
   "outputs": [
    {
     "data": {
      "text/html": [
       "<div>\n",
       "<table border=\"1\" class=\"dataframe\">\n",
       "  <thead>\n",
       "    <tr style=\"text-align: right;\">\n",
       "      <th></th>\n",
       "      <th>0</th>\n",
       "      <th>1</th>\n",
       "      <th>2</th>\n",
       "      <th>3</th>\n",
       "      <th>4</th>\n",
       "    </tr>\n",
       "  </thead>\n",
       "  <tbody>\n",
       "    <tr>\n",
       "      <th>0</th>\n",
       "      <td>0.676890</td>\n",
       "      <td>-1.482087</td>\n",
       "      <td>2.043067</td>\n",
       "      <td>-1.010374</td>\n",
       "      <td>0.065335</td>\n",
       "    </tr>\n",
       "    <tr>\n",
       "      <th>1</th>\n",
       "      <td>-0.844250</td>\n",
       "      <td>-0.589331</td>\n",
       "      <td>0.120395</td>\n",
       "      <td>1.735386</td>\n",
       "      <td>-3.189763</td>\n",
       "    </tr>\n",
       "    <tr>\n",
       "      <th>2</th>\n",
       "      <td>0.234617</td>\n",
       "      <td>0.167176</td>\n",
       "      <td>0.480042</td>\n",
       "      <td>-0.640150</td>\n",
       "      <td>1.277100</td>\n",
       "    </tr>\n",
       "    <tr>\n",
       "      <th>3</th>\n",
       "      <td>-1.074616</td>\n",
       "      <td>1.556356</td>\n",
       "      <td>-0.915282</td>\n",
       "      <td>-0.093384</td>\n",
       "      <td>0.150305</td>\n",
       "    </tr>\n",
       "    <tr>\n",
       "      <th>4</th>\n",
       "      <td>0.241990</td>\n",
       "      <td>1.570237</td>\n",
       "      <td>-0.641925</td>\n",
       "      <td>-1.392641</td>\n",
       "      <td>-1.890460</td>\n",
       "    </tr>\n",
       "  </tbody>\n",
       "</table>\n",
       "</div>"
      ],
      "text/plain": [
       "          0         1         2         3         4\n",
       "0  0.676890 -1.482087  2.043067 -1.010374  0.065335\n",
       "1 -0.844250 -0.589331  0.120395  1.735386 -3.189763\n",
       "2  0.234617  0.167176  0.480042 -0.640150  1.277100\n",
       "3 -1.074616  1.556356 -0.915282 -0.093384  0.150305\n",
       "4  0.241990  1.570237 -0.641925 -1.392641 -1.890460"
      ]
     },
     "execution_count": 2,
     "metadata": {},
     "output_type": "execute_result"
    }
   ],
   "source": [
    "df.head()"
   ]
  },
  {
   "cell_type": "code",
   "execution_count": 3,
   "metadata": {
    "collapsed": false
   },
   "outputs": [
    {
     "data": {
      "text/html": [
       "<div>\n",
       "<table border=\"1\" class=\"dataframe\">\n",
       "  <thead>\n",
       "    <tr style=\"text-align: right;\">\n",
       "      <th></th>\n",
       "      <th>0</th>\n",
       "      <th>1</th>\n",
       "      <th>2</th>\n",
       "      <th>3</th>\n",
       "      <th>4</th>\n",
       "    </tr>\n",
       "  </thead>\n",
       "  <tbody>\n",
       "    <tr>\n",
       "      <th>count</th>\n",
       "      <td>10.000000</td>\n",
       "      <td>10.000000</td>\n",
       "      <td>10.000000</td>\n",
       "      <td>10.000000</td>\n",
       "      <td>10.000000</td>\n",
       "    </tr>\n",
       "    <tr>\n",
       "      <th>mean</th>\n",
       "      <td>-0.378667</td>\n",
       "      <td>0.017372</td>\n",
       "      <td>0.158079</td>\n",
       "      <td>-0.135559</td>\n",
       "      <td>-0.361603</td>\n",
       "    </tr>\n",
       "    <tr>\n",
       "      <th>std</th>\n",
       "      <td>0.704457</td>\n",
       "      <td>0.934311</td>\n",
       "      <td>1.206692</td>\n",
       "      <td>1.379264</td>\n",
       "      <td>1.433190</td>\n",
       "    </tr>\n",
       "    <tr>\n",
       "      <th>min</th>\n",
       "      <td>-1.144479</td>\n",
       "      <td>-1.482087</td>\n",
       "      <td>-1.400252</td>\n",
       "      <td>-2.258022</td>\n",
       "      <td>-3.189763</td>\n",
       "    </tr>\n",
       "    <tr>\n",
       "      <th>25%</th>\n",
       "      <td>-0.978215</td>\n",
       "      <td>-0.472518</td>\n",
       "      <td>-0.846942</td>\n",
       "      <td>-1.024438</td>\n",
       "      <td>-1.181485</td>\n",
       "    </tr>\n",
       "    <tr>\n",
       "      <th>50%</th>\n",
       "      <td>-0.657061</td>\n",
       "      <td>-0.069491</td>\n",
       "      <td>0.300219</td>\n",
       "      <td>-0.366767</td>\n",
       "      <td>0.107820</td>\n",
       "    </tr>\n",
       "    <tr>\n",
       "      <th>75%</th>\n",
       "      <td>0.240147</td>\n",
       "      <td>0.114515</td>\n",
       "      <td>0.863655</td>\n",
       "      <td>0.753765</td>\n",
       "      <td>0.598519</td>\n",
       "    </tr>\n",
       "    <tr>\n",
       "      <th>max</th>\n",
       "      <td>0.676890</td>\n",
       "      <td>1.570237</td>\n",
       "      <td>2.043067</td>\n",
       "      <td>1.939031</td>\n",
       "      <td>1.277100</td>\n",
       "    </tr>\n",
       "  </tbody>\n",
       "</table>\n",
       "</div>"
      ],
      "text/plain": [
       "               0          1          2          3          4\n",
       "count  10.000000  10.000000  10.000000  10.000000  10.000000\n",
       "mean   -0.378667   0.017372   0.158079  -0.135559  -0.361603\n",
       "std     0.704457   0.934311   1.206692   1.379264   1.433190\n",
       "min    -1.144479  -1.482087  -1.400252  -2.258022  -3.189763\n",
       "25%    -0.978215  -0.472518  -0.846942  -1.024438  -1.181485\n",
       "50%    -0.657061  -0.069491   0.300219  -0.366767   0.107820\n",
       "75%     0.240147   0.114515   0.863655   0.753765   0.598519\n",
       "max     0.676890   1.570237   2.043067   1.939031   1.277100"
      ]
     },
     "execution_count": 3,
     "metadata": {},
     "output_type": "execute_result"
    }
   ],
   "source": [
    "df.describe()"
   ]
  },
  {
   "cell_type": "code",
   "execution_count": 4,
   "metadata": {
    "collapsed": false
   },
   "outputs": [],
   "source": [
    "from rpy2.robjects import pandas2ri\n",
    "pandas2ri.activate()"
   ]
  },
  {
   "cell_type": "markdown",
   "metadata": {},
   "source": [
    "Creating an R data drame corresponding to `df`"
   ]
  },
  {
   "cell_type": "code",
   "execution_count": 5,
   "metadata": {
    "collapsed": true
   },
   "outputs": [],
   "source": [
    "rdf = pandas2ri.py2ri(df)"
   ]
  },
  {
   "cell_type": "code",
   "execution_count": 6,
   "metadata": {
    "collapsed": false
   },
   "outputs": [
    {
     "data": {
      "text/plain": [
       "<DataFrame - Python:0x11394ed40 / R:0x101e9ace0>\n",
       "[Array, Array, Array, Array, Array]\n",
       "  X0: <class 'rpy2.robjects.vectors.Array'>\n",
       "  <Array - Python:0x11395d7a0 / R:0x1016170a0>\n",
       "[0.676890, -0.844250, 0.234617, ..., -1.022870, 0.460171, -0.778643]\n",
       "  X1: <class 'rpy2.robjects.vectors.Array'>\n",
       "  <Array - Python:0x11395d7e8 / R:0x101618e00>\n",
       "[-1.482087, -0.589331, 0.167176, ..., -0.354238, -0.052170, -0.086813]\n",
       "  X2: <class 'rpy2.robjects.vectors.Array'>\n",
       "  <Array - Python:0x11395da28 / R:0x10162a600>\n",
       "[2.043067, 0.120395, 0.480042, ..., -1.400252, -1.310542, 0.595479]\n",
       "  X3: <class 'rpy2.robjects.vectors.Array'>\n",
       "  <Array - Python:0x11395db00 / R:0x10162f6a8>\n",
       "[-1.010374, 1.735386, -0.640150, ..., 0.583008, -2.258022, 1.939031]\n",
       "  X4: <class 'rpy2.robjects.vectors.Array'>\n",
       "  <Array - Python:0x11395dc20 / R:0x10166d8a8>\n",
       "[0.065335, -3.189763, 1.277100, ..., -1.235120, 1.072535, 0.534892]"
      ]
     },
     "execution_count": 6,
     "metadata": {},
     "output_type": "execute_result"
    }
   ],
   "source": [
    "rdf"
   ]
  },
  {
   "cell_type": "code",
   "execution_count": 7,
   "metadata": {
    "collapsed": false
   },
   "outputs": [
    {
     "name": "stdout",
     "output_type": "stream",
     "text": [
      "          X0          X1         X2          X3         X4\n",
      "0  0.6768904 -1.48208689  2.0430667 -1.01037417  0.0653346\n",
      "1 -0.8442496 -0.58933120  0.1203951  1.73538579 -3.1897627\n",
      "2  0.2346173  0.16717606  0.4800420 -0.64015011  1.2770997\n",
      "3 -1.0746162  1.55635580 -0.9152816 -0.09338397  0.1503054\n",
      "4  0.2419899  1.57023703 -0.6419249 -1.39264055 -1.8904596\n",
      "5 -1.1444795 -0.51194484  0.9530474 -1.02912541 -1.0205774\n",
      "6 -0.5354787 -0.04346992  1.6567618  0.81068402  0.6197279\n",
      "7 -1.0228700 -0.35423837 -1.4002520  0.58300793 -1.2351203\n",
      "8  0.4601706 -0.05216999 -1.3105421 -2.25802150  1.0725355\n",
      "9 -0.7786435 -0.08681266  0.5954790  1.93903122  0.5348916\n",
      "\n"
     ]
    }
   ],
   "source": [
    "print(rdf)"
   ]
  },
  {
   "cell_type": "markdown",
   "metadata": {},
   "source": [
    "Now, let us perform some `R` operations on the dataframe"
   ]
  },
  {
   "cell_type": "code",
   "execution_count": 8,
   "metadata": {
    "collapsed": true
   },
   "outputs": [],
   "source": [
    "import rpy2.robjects as robjects"
   ]
  },
  {
   "cell_type": "markdown",
   "metadata": {},
   "source": [
    "From the `rpy2` documentation, \n",
    "\n",
    ">The object r in rpy2.robjects represents the running embedded R process.\n",
    "If familiar with R and the R console, r is a little like a communication channel from Python to R.\n",
    "\n"
   ]
  },
  {
   "cell_type": "markdown",
   "metadata": {},
   "source": [
    "### Calling basic `R` functions"
   ]
  },
  {
   "cell_type": "markdown",
   "metadata": {},
   "source": [
    "* Let us now compute the `head` of our R `dataframe` rdf"
   ]
  },
  {
   "cell_type": "code",
   "execution_count": 9,
   "metadata": {
    "collapsed": false
   },
   "outputs": [],
   "source": [
    "head_df = robjects.r['head']"
   ]
  },
  {
   "cell_type": "code",
   "execution_count": 10,
   "metadata": {
    "collapsed": false
   },
   "outputs": [
    {
     "name": "stdout",
     "output_type": "stream",
     "text": [
      "          X0         X1        X2        X3         X4\n",
      "0  0.6768904 -1.4820869 2.0430667 -1.010374  0.0653346\n",
      "1 -0.8442496 -0.5893312 0.1203951  1.735386 -3.1897627\n",
      "\n"
     ]
    }
   ],
   "source": [
    "print(head_df(rdf, 2))"
   ]
  },
  {
   "cell_type": "markdown",
   "metadata": {},
   "source": [
    "* Now, let us find the description of the dataframe"
   ]
  },
  {
   "cell_type": "code",
   "execution_count": 11,
   "metadata": {
    "collapsed": false
   },
   "outputs": [
    {
     "name": "stdout",
     "output_type": "stream",
     "text": [
      "       X0                X1                 X2                X3         \n",
      " Min.   :-1.1445   Min.   :-1.48209   Min.   :-1.4003   Min.   :-2.2580  \n",
      " 1st Qu.:-0.9782   1st Qu.:-0.47252   1st Qu.:-0.8469   1st Qu.:-1.0244  \n",
      " Median :-0.6571   Median :-0.06949   Median : 0.3002   Median :-0.3668  \n",
      " Mean   :-0.3787   Mean   : 0.01737   Mean   : 0.1581   Mean   :-0.1356  \n",
      " 3rd Qu.: 0.2401   3rd Qu.: 0.11451   3rd Qu.: 0.8637   3rd Qu.: 0.7538  \n",
      " Max.   : 0.6769   Max.   : 1.57024   Max.   : 2.0431   Max.   : 1.9390  \n",
      "       X4         \n",
      " Min.   :-3.1898  \n",
      " 1st Qu.:-1.1815  \n",
      " Median : 0.1078  \n",
      " Mean   :-0.3616  \n",
      " 3rd Qu.: 0.5985  \n",
      " Max.   : 1.2771  \n",
      "\n"
     ]
    }
   ],
   "source": [
    "r_summary =  robjects.r['summary'](rdf)\n",
    "print(r_summary)"
   ]
  },
  {
   "cell_type": "markdown",
   "metadata": {},
   "source": [
    "### Using R's lm package for fitting linear models\n"
   ]
  },
  {
   "cell_type": "markdown",
   "metadata": {},
   "source": [
    "Let us take the example of linear regression on faithful geyser data set. First, let us load the `R dataset` into Pandas."
   ]
  },
  {
   "cell_type": "code",
   "execution_count": 12,
   "metadata": {
    "collapsed": false
   },
   "outputs": [],
   "source": [
    "faithful_pandas_df = robjects.r('faithful')"
   ]
  },
  {
   "cell_type": "code",
   "execution_count": 13,
   "metadata": {
    "collapsed": false
   },
   "outputs": [
    {
     "data": {
      "text/plain": [
       "pandas.core.frame.DataFrame"
      ]
     },
     "execution_count": 13,
     "metadata": {},
     "output_type": "execute_result"
    }
   ],
   "source": [
    "type(faithful_pandas_df)"
   ]
  },
  {
   "cell_type": "code",
   "execution_count": 14,
   "metadata": {
    "collapsed": false
   },
   "outputs": [
    {
     "data": {
      "text/html": [
       "<div>\n",
       "<table border=\"1\" class=\"dataframe\">\n",
       "  <thead>\n",
       "    <tr style=\"text-align: right;\">\n",
       "      <th></th>\n",
       "      <th>eruptions</th>\n",
       "      <th>waiting</th>\n",
       "    </tr>\n",
       "  </thead>\n",
       "  <tbody>\n",
       "    <tr>\n",
       "      <th>1</th>\n",
       "      <td>3.600</td>\n",
       "      <td>79</td>\n",
       "    </tr>\n",
       "    <tr>\n",
       "      <th>2</th>\n",
       "      <td>1.800</td>\n",
       "      <td>54</td>\n",
       "    </tr>\n",
       "    <tr>\n",
       "      <th>3</th>\n",
       "      <td>3.333</td>\n",
       "      <td>74</td>\n",
       "    </tr>\n",
       "    <tr>\n",
       "      <th>4</th>\n",
       "      <td>2.283</td>\n",
       "      <td>62</td>\n",
       "    </tr>\n",
       "    <tr>\n",
       "      <th>5</th>\n",
       "      <td>4.533</td>\n",
       "      <td>85</td>\n",
       "    </tr>\n",
       "  </tbody>\n",
       "</table>\n",
       "</div>"
      ],
      "text/plain": [
       "   eruptions  waiting\n",
       "1      3.600       79\n",
       "2      1.800       54\n",
       "3      3.333       74\n",
       "4      2.283       62\n",
       "5      4.533       85"
      ]
     },
     "execution_count": 14,
     "metadata": {},
     "output_type": "execute_result"
    }
   ],
   "source": [
    "faithful_pandas_df.head()"
   ]
  },
  {
   "cell_type": "markdown",
   "metadata": {},
   "source": [
    "Now, let us create an R dataframe from this Python dataframe. It should be noted that we could have directly used the faithful geyser dataset in R. But, I chose to do this extra conversion for purpose of illustration."
   ]
  },
  {
   "cell_type": "code",
   "execution_count": 15,
   "metadata": {
    "collapsed": false
   },
   "outputs": [],
   "source": [
    "faithful_r_df = pandas2ri.py2ri(faithful_pandas_df)"
   ]
  },
  {
   "cell_type": "markdown",
   "metadata": {},
   "source": [
    "Let us take the `head` of the R dataframe and confirm that it is the same as the pandas dataframe."
   ]
  },
  {
   "cell_type": "code",
   "execution_count": 16,
   "metadata": {
    "collapsed": false
   },
   "outputs": [
    {
     "name": "stdout",
     "output_type": "stream",
     "text": [
      "  eruptions waiting\n",
      "1     3.600      79\n",
      "2     1.800      54\n",
      "3     3.333      74\n",
      "4     2.283      62\n",
      "5     4.533      85\n",
      "\n"
     ]
    }
   ],
   "source": [
    "print(robjects.r['head'](faithful_r_df, 5))"
   ]
  },
  {
   "cell_type": "markdown",
   "metadata": {},
   "source": [
    "Great, now let us fit a linear relationship bewteen `#eruptions` and `waiting` as follows:\n",
    "> $$\\mathrm{eruptions} = \\alpha + \\beta\\times\\mathrm{waiting} + \\epsilon$$"
   ]
  },
  {
   "cell_type": "markdown",
   "metadata": {},
   "source": [
    "For the purpose of this illustration, we will assume that there exists no package for linear regression in Python. So, we will be using the `lm` R `stats` package. Our aim would be to create a function in Python that does the following:\n",
    "\n",
    "1. Take as inputs a Pandas dataframe and the relationship string (eg. a ~b+c meeans that a is linear on b and c)\n",
    "2. Use rpy2 interface to convert the Pandas dataframe to R dataframe\n",
    "3. Use `lm` package from R to fit the linear relationship\n",
    "4. Find the coefficients of the fit\n",
    "5. Be able to predict for new data"
   ]
  },
  {
   "cell_type": "markdown",
   "metadata": {},
   "source": [
    "Since we have already done step 2, we'll jump to step 3"
   ]
  },
  {
   "cell_type": "code",
   "execution_count": 17,
   "metadata": {
    "collapsed": false
   },
   "outputs": [],
   "source": [
    "from rpy2.robjects.packages import importr\n",
    "stats = importr('stats')"
   ]
  },
  {
   "cell_type": "code",
   "execution_count": 18,
   "metadata": {
    "collapsed": false
   },
   "outputs": [],
   "source": [
    "fit = stats.lm('eruptions ~ waiting', data=faithful_r_df)"
   ]
  },
  {
   "cell_type": "code",
   "execution_count": 19,
   "metadata": {
    "collapsed": false
   },
   "outputs": [
    {
     "name": "stdout",
     "output_type": "stream",
     "text": [
      " [1] \"coefficients\"  \"residuals\"     \"effects\"       \"rank\"         \n",
      " [5] \"fitted.values\" \"assign\"        \"qr\"            \"df.residual\"  \n",
      " [9] \"xlevels\"       \"call\"          \"terms\"         \"model\"        \n",
      "\n"
     ]
    }
   ],
   "source": [
    "print(fit.names)"
   ]
  },
  {
   "cell_type": "markdown",
   "metadata": {},
   "source": [
    "Let us extract the residuals from the fit R object now."
   ]
  },
  {
   "cell_type": "code",
   "execution_count": 20,
   "metadata": {
    "collapsed": false
   },
   "outputs": [],
   "source": [
    "residuals = fit.rx2('residuals')"
   ]
  },
  {
   "cell_type": "markdown",
   "metadata": {},
   "source": [
    "Viewing the first five residuals"
   ]
  },
  {
   "cell_type": "code",
   "execution_count": 21,
   "metadata": {
    "collapsed": false
   },
   "outputs": [
    {
     "name": "stdout",
     "output_type": "stream",
     "text": [
      "[1] -0.50059190 -0.40989320 -0.38945216 -0.53191679 -0.02135959\n",
      "\n"
     ]
    }
   ],
   "source": [
    "print(residuals[:5])"
   ]
  },
  {
   "cell_type": "markdown",
   "metadata": {},
   "source": [
    "Getting a NumPy array from the residuals"
   ]
  },
  {
   "cell_type": "code",
   "execution_count": 22,
   "metadata": {
    "collapsed": false
   },
   "outputs": [],
   "source": [
    "residuals_numpy = pandas2ri.ri2py(residuals)"
   ]
  },
  {
   "cell_type": "code",
   "execution_count": 23,
   "metadata": {
    "collapsed": false
   },
   "outputs": [
    {
     "data": {
      "text/plain": [
       "array([-0.5005919 , -0.4098932 , -0.38945216, -0.53191679, -0.02135959])"
      ]
     },
     "execution_count": 23,
     "metadata": {},
     "output_type": "execute_result"
    }
   ],
   "source": [
    "residuals_numpy[:5]"
   ]
  },
  {
   "cell_type": "markdown",
   "metadata": {},
   "source": [
    "Let us plot a histogram of these residuals using matplotlib now. For a `good` fit, we would expect a normal distributed residual set."
   ]
  },
  {
   "cell_type": "code",
   "execution_count": 24,
   "metadata": {
    "collapsed": true
   },
   "outputs": [],
   "source": [
    "import matplotlib.pyplot as plt\n",
    "plt.style.use('fivethirtyeight')\n",
    "%matplotlib inline"
   ]
  },
  {
   "cell_type": "code",
   "execution_count": 25,
   "metadata": {
    "collapsed": false
   },
   "outputs": [
    {
     "data": {
      "text/plain": [
       "(array([  8.,   9.,  22.,  42.,  32.,  60.,  46.,  34.,  14.,   5.]),\n",
       " array([-1.29917268, -1.04992622, -0.80067976, -0.5514333 , -0.30218683,\n",
       "        -0.05294037,  0.19630609,  0.44555255,  0.69479902,  0.94404548,\n",
       "         1.19329194]),\n",
       " <a list of 10 Patch objects>)"
      ]
     },
     "execution_count": 25,
     "metadata": {},
     "output_type": "execute_result"
    },
    {
     "data": {
      "image/png": "[encoded data removed]",
      "text/plain": [
       "<matplotlib.figure.Figure at 0x1142a04d0>"
      ]
     },
     "metadata": {},
     "output_type": "display_data"
    }
   ],
   "source": [
    "plt.hist(residuals_numpy)"
   ]
  },
  {
   "cell_type": "markdown",
   "metadata": {},
   "source": [
    "The histogram looks reasonably good."
   ]
  },
  {
   "cell_type": "markdown",
   "metadata": {},
   "source": [
    "Now, let us extract the coeffiencts from the linear fit"
   ]
  },
  {
   "cell_type": "code",
   "execution_count": 26,
   "metadata": {
    "collapsed": true
   },
   "outputs": [],
   "source": [
    "coeffs = fit.rx2('coefficients')"
   ]
  },
  {
   "cell_type": "code",
   "execution_count": 27,
   "metadata": {
    "collapsed": false
   },
   "outputs": [
    {
     "name": "stdout",
     "output_type": "stream",
     "text": [
      "(Intercept)     waiting \n",
      "-1.87401599  0.07562795 \n",
      "\n"
     ]
    }
   ],
   "source": [
    "print(coeffs)"
   ]
  },
  {
   "cell_type": "code",
   "execution_count": 28,
   "metadata": {
    "collapsed": false
   },
   "outputs": [
    {
     "data": {
      "text/plain": [
       "rpy2.robjects.vectors.FloatVector"
      ]
     },
     "execution_count": 28,
     "metadata": {},
     "output_type": "execute_result"
    }
   ],
   "source": [
    "type(coeffs)"
   ]
  },
  {
   "cell_type": "code",
   "execution_count": 29,
   "metadata": {
    "collapsed": false
   },
   "outputs": [],
   "source": [
    "coeffs_python = pandas2ri.ri2py(coeffs)"
   ]
  },
  {
   "cell_type": "code",
   "execution_count": 30,
   "metadata": {
    "collapsed": false
   },
   "outputs": [
    {
     "data": {
      "text/plain": [
       "array([-1.87401599,  0.07562795])"
      ]
     },
     "execution_count": 30,
     "metadata": {},
     "output_type": "execute_result"
    }
   ],
   "source": [
    "coeffs_python"
   ]
  },
  {
   "cell_type": "markdown",
   "metadata": {},
   "source": [
    "Looks like we lost the names of columns (waiting, etc.) "
   ]
  },
  {
   "cell_type": "code",
   "execution_count": 31,
   "metadata": {
    "collapsed": false
   },
   "outputs": [
    {
     "data": {
      "text/plain": [
       "['(Intercept)', 'waiting']"
      ]
     },
     "execution_count": 31,
     "metadata": {},
     "output_type": "execute_result"
    }
   ],
   "source": [
    "coeffs_python_names = pandas2ri.ri2py(coeffs.names).tolist()\n",
    "coeffs_python_names"
   ]
  },
  {
   "cell_type": "markdown",
   "metadata": {},
   "source": [
    "Let us now extract the fitted value of `eruptions`"
   ]
  },
  {
   "cell_type": "code",
   "execution_count": 32,
   "metadata": {
    "collapsed": true
   },
   "outputs": [],
   "source": [
    "fit_eruptions = pandas2ri.ri2py(fit.rx2('fitted.values'))"
   ]
  },
  {
   "cell_type": "markdown",
   "metadata": {},
   "source": [
    "Now, let us plot the true and the fitted eruptions in matplotlib."
   ]
  },
  {
   "cell_type": "code",
   "execution_count": 33,
   "metadata": {
    "collapsed": false
   },
   "outputs": [
    {
     "data": {
      "text/plain": [
       "<matplotlib.text.Text at 0x117737d90>"
      ]
     },
     "execution_count": 33,
     "metadata": {},
     "output_type": "execute_result"
    },
    {
     "name": "stderr",
     "output_type": "stream",
     "text": [
      "/Users/nipunbatra/anaconda/lib/python2.7/site-packages/matplotlib/collections.py:590: FutureWarning: elementwise comparison failed; returning scalar instead, but in the future will perform elementwise comparison\n",
      "  if self._edgecolors == str('face'):\n"
     ]
    },
    {
     "data": {
      "image/png": "[encoded data removed]",
      "text/plain": [
       "<matplotlib.figure.Figure at 0x114324b10>"
      ]
     },
     "metadata": {},
     "output_type": "display_data"
    }
   ],
   "source": [
    "plt.scatter(faithful_pandas_df['waiting'], fit_eruptions, label='Fitted')\n",
    "plt.scatter(faithful_pandas_df['waiting'], faithful_pandas_df['eruptions'], label='True eruptions', color='r')\n",
    "plt.legend(loc='upper left')\n",
    "plt.xlabel(\"Waiting\")\n",
    "plt.ylabel(\"Eruptions\")"
   ]
  },
  {
   "cell_type": "markdown",
   "metadata": {},
   "source": [
    "Now, let us predict using the learnt linear model on last five entries in the dataset."
   ]
  },
  {
   "cell_type": "code",
   "execution_count": 34,
   "metadata": {
    "collapsed": true
   },
   "outputs": [],
   "source": [
    "last_5 = robjects.r['tail'](faithful_r_df, 5)"
   ]
  },
  {
   "cell_type": "code",
   "execution_count": 35,
   "metadata": {
    "collapsed": false
   },
   "outputs": [
    {
     "name": "stdout",
     "output_type": "stream",
     "text": [
      "    eruptions waiting\n",
      "268     4.117      81\n",
      "269     2.150      46\n",
      "270     4.417      90\n",
      "271     1.817      46\n",
      "272     4.467      74\n",
      "\n"
     ]
    }
   ],
   "source": [
    "print(last_5)"
   ]
  },
  {
   "cell_type": "code",
   "execution_count": 36,
   "metadata": {
    "collapsed": true
   },
   "outputs": [],
   "source": [
    "pred_r = stats.predict(fit, newdata=last_5)"
   ]
  },
  {
   "cell_type": "code",
   "execution_count": 37,
   "metadata": {
    "collapsed": false
   },
   "outputs": [
    {
     "name": "stdout",
     "output_type": "stream",
     "text": [
      "     268      269      270      271      272 \n",
      "4.251848 1.604870 4.932499 1.604870 3.722452 \n",
      "\n"
     ]
    }
   ],
   "source": [
    "print(pred_r)"
   ]
  },
  {
   "cell_type": "code",
   "execution_count": 38,
   "metadata": {
    "collapsed": false
   },
   "outputs": [
    {
     "data": {
      "text/plain": [
       "array([ 4.2518478 ,  1.60486962,  4.93249933,  1.60486962,  3.72245216])"
      ]
     },
     "execution_count": 38,
     "metadata": {},
     "output_type": "execute_result"
    }
   ],
   "source": [
    "pred_python = pandas2ri.ri2py(pred_r)\n",
    "pred_python"
   ]
  },
  {
   "cell_type": "markdown",
   "metadata": {},
   "source": [
    "Great! Now that we are able to fit a model and also predict on it, let us now package this function similar to the scikit-learn API"
   ]
  },
  {
   "cell_type": "code",
   "execution_count": 39,
   "metadata": {
    "collapsed": false
   },
   "outputs": [],
   "source": [
    "class PYLM(object):\n",
    "    from rpy2.robjects import pandas2ri\n",
    "    pandas2ri.activate()\n",
    "    from rpy2.robjects.packages import importr\n",
    "    stats = importr('stats')\n",
    "    def convert_fit_to_python(self, fit):\n",
    "        coeffs_r = fit.rx2('coefficients')\n",
    "        coeffs= pandas2ri.ri2py(coeffs_r)\n",
    "        coeff_names =  pandas2ri.ri2py(coeffs_r.names).tolist()\n",
    "        coeff_series = pd.Series({k:v for k,v in zip(coeff_names, coeffs)})\n",
    "        fitted_values = pandas2ri.ri2py(fit.rx2('fitted.values'))\n",
    "        return coeff_series\n",
    "        \n",
    "    def fit(self, relationship, df):\n",
    "        \"\"\"\n",
    "        relationship: string of the form: a~b+c\n",
    "        df: Pandas Dataframe\n",
    "        \"\"\"\n",
    "        # Get R dataframe\n",
    "        r_df = pandas2ri.py2ri(df)\n",
    "        # Create linear fit\n",
    "        fit = stats.lm(relationship, data=df)\n",
    "        self.fit = fit\n",
    "        python_fit = self.convert_fit_to_python(fit)\n",
    "        return python_fit\n",
    "    \n",
    "    def predict(self, df):\n",
    "        pred_r = stats.predict(self.fit, newdata=df)\n",
    "        pred_python = pandas2ri.ri2py(pred_r)\n",
    "        return pred_python\n",
    "        \n",
    "        "
   ]
  },
  {
   "cell_type": "code",
   "execution_count": 40,
   "metadata": {
    "collapsed": false
   },
   "outputs": [
    {
     "data": {
      "text/plain": [
       "(Intercept)   -1.874016\n",
       "waiting        0.075628\n",
       "dtype: float64"
      ]
     },
     "execution_count": 40,
     "metadata": {},
     "output_type": "execute_result"
    }
   ],
   "source": [
    "pylm = PYLM()\n",
    "relationship='eruptions~waiting'\n",
    "pylm.fit(relationship, faithful_pandas_df)"
   ]
  },
  {
   "cell_type": "code",
   "execution_count": 41,
   "metadata": {
    "collapsed": false
   },
   "outputs": [
    {
     "data": {
      "text/plain": [
       "array([ 4.2518478 ,  1.60486962,  4.93249933,  1.60486962,  3.72245216])"
      ]
     },
     "execution_count": 41,
     "metadata": {},
     "output_type": "execute_result"
    }
   ],
   "source": [
    "pylm.predict(faithful_pandas_df.tail(5))"
   ]
  },
  {
   "cell_type": "markdown",
   "metadata": {},
   "source": [
    "Great, this means that we've now been able get the functionality of R's `lm` package! Now, let us take a more complex example"
   ]
  },
  {
   "cell_type": "markdown",
   "metadata": {},
   "source": [
    "### Using R's STL package for timeseries decomposition"
   ]
  },
  {
   "cell_type": "markdown",
   "metadata": {},
   "source": [
    "I'll be following [this simple to follow tutorial](http://www.r-bloggers.com/seasonal-trend-decomposition-in-r/) for the R code."
   ]
  },
  {
   "cell_type": "code",
   "execution_count": 42,
   "metadata": {
    "collapsed": false
   },
   "outputs": [],
   "source": [
    "r_stl = robjects.r['stl']\n",
    "r_ts = robjects.r['ts']"
   ]
  },
  {
   "cell_type": "code",
   "execution_count": 43,
   "metadata": {
    "collapsed": false
   },
   "outputs": [],
   "source": [
    "import datetime\n",
    "data = np.arange(85.) / 12.\n",
    "data = np.sin(data * (2*np.pi))\n",
    "data += np.arange(85.) / 12. * .5\n",
    "data += .1 * np.random.randn(85)\n",
    "idx = pd.DatetimeIndex(start=datetime.datetime(1999,1,1), freq='1M', periods=len(data))\n",
    "data = pd.Series(data, index=idx)"
   ]
  },
  {
   "cell_type": "code",
   "execution_count": 44,
   "metadata": {
    "collapsed": false
   },
   "outputs": [
    {
     "data": {
      "text/plain": [
       "<matplotlib.axes._subplots.AxesSubplot at 0x117737650>"
      ]
     },
     "execution_count": 44,
     "metadata": {},
     "output_type": "execute_result"
    },
    {
     "data": {
      "image/png": "[encoded data removed]",
      "text/plain": [
       "<matplotlib.figure.Figure at 0x114333d10>"
      ]
     },
     "metadata": {},
     "output_type": "display_data"
    }
   ],
   "source": [
    "data.plot()"
   ]
  },
  {
   "cell_type": "markdown",
   "metadata": {},
   "source": [
    "Pandas uses human understandable frequency formatting. We'll need to convert that to a suitable `periodicty` for `stl`.\n",
    "\n",
    "* 1 year maps to 1\n",
    "* Monthly frequency maps to 12\n",
    "* Daily frequency maps to 365"
   ]
  },
  {
   "cell_type": "code",
   "execution_count": 45,
   "metadata": {
    "collapsed": true
   },
   "outputs": [],
   "source": [
    "def convert_pd_freqstr(df):\n",
    "    \"\"\"\n",
    "    df: pd.DataFrame with pd.DatetimeIndex type index\n",
    "    \"\"\"\n",
    "    freqstr = df.index.freq.freqstr\n",
    "    freq_interval = freqstr[-1]\n",
    "    if len(freqstr)>1:\n",
    "        freq_number = int(freqstr[:-1])\n",
    "    else:\n",
    "        freq_number=1\n",
    "    if freq_interval is 'Y':\n",
    "        return 1.0/freq_number\n",
    "    elif freq_interval is 'M':\n",
    "        return 12.0/freq_number\n",
    "    elif freq_interval is 'D':\n",
    "        return 365.0/freq_number\n"
   ]
  },
  {
   "cell_type": "code",
   "execution_count": 46,
   "metadata": {
    "collapsed": false
   },
   "outputs": [
    {
     "data": {
      "text/plain": [
       "12.0"
      ]
     },
     "execution_count": 46,
     "metadata": {},
     "output_type": "execute_result"
    }
   ],
   "source": [
    "convert_pd_freqstr(data)"
   ]
  },
  {
   "cell_type": "code",
   "execution_count": 47,
   "metadata": {
    "collapsed": false
   },
   "outputs": [],
   "source": [
    "r_ts_data = r_ts(robjects.FloatVector(np.asarray(data)), start= robjects.IntVector([data.index[0].year, data.index[0].month, data.index[0].day]), frequency=convert_pd_freqstr(data))"
   ]
  },
  {
   "cell_type": "code",
   "execution_count": 48,
   "metadata": {
    "collapsed": false
   },
   "outputs": [
    {
     "name": "stdout",
     "output_type": "stream",
     "text": [
      "             Jan         Feb         Mar         Apr         May         Jun\n",
      "1999  0.12909142  0.51848228  0.97211078  1.06376749  1.17150724  0.73897260\n",
      "2000  0.59446086  1.14319319  1.42675509  1.69585238  1.40549266  1.14174772\n",
      "2001  0.99531735  1.49977021  1.95919863  2.15909202  2.10897590  1.81053338\n",
      "2002  1.47007530  2.15759010  2.43598630  2.61036383  2.50776448  2.23963969\n",
      "2003  1.96374882  2.51207522  3.06016268  3.05908444  3.20664786  2.61001641\n",
      "2004  2.44266764  2.95894701  3.38868770  3.62232061  3.66180771  3.07670257\n",
      "2005  2.76154046  3.62487828  3.81759470  3.96338482  3.93131485  3.51987588\n",
      "2006  3.55238729                                                            \n",
      "             Jul         Aug         Sep         Oct         Nov         Dec\n",
      "1999  0.33128235 -0.33428586 -0.53591547 -0.63368171 -0.30466836  0.13631479\n",
      "2000  0.71217063  0.26206193 -0.07184773 -0.19979329 -0.01773309  0.43850144\n",
      "2001  1.29347682  0.76104149  0.32876942  0.31547894  0.50534478  0.97991196\n",
      "2002  1.70183662  1.12721918  0.99898663  0.98196028  1.00204000  1.45372424\n",
      "2003  2.34383127  1.83126511  1.68908918  1.43716426  1.75000264  1.81700059\n",
      "2004  2.71790927  2.14909350  1.79273402  1.89969247  2.18227852  2.48543431\n",
      "2005  3.01640148  2.63222820  2.58233497  2.67548174  2.49674392  2.88674668\n",
      "2006                                                                        \n",
      "\n"
     ]
    }
   ],
   "source": [
    "print(r_ts_data)"
   ]
  },
  {
   "cell_type": "markdown",
   "metadata": {},
   "source": [
    "Let us plot this time series. The next code snippet is also a good example of how to invoke custom R code in Python."
   ]
  },
  {
   "cell_type": "code",
   "execution_count": 50,
   "metadata": {
    "collapsed": false
   },
   "outputs": [],
   "source": [
    "r_plot = robjects.r(\"\"\"\n",
    " function(data, filename){\n",
    " png(filename=filename)\n",
    " plot(data)\n",
    " dev.off()}\n",
    "\"\"\")"
   ]
  },
  {
   "cell_type": "code",
   "execution_count": 51,
   "metadata": {
    "collapsed": false
   },
   "outputs": [
    {
     "data": {
      "text/plain": [
       "<IntVector - Python:0x117b45f80 / R:0x11990d7f8>\n",
       "[       1]"
      ]
     },
     "execution_count": 51,
     "metadata": {},
     "output_type": "execute_result"
    }
   ],
   "source": [
    "r_plot(r_ts_data, \"/Users/nipunbatra/Desktop/ts_1.png\")"
   ]
  },
  {
   "cell_type": "code",
   "execution_count": 52,
   "metadata": {
    "collapsed": true
   },
   "outputs": [],
   "source": [
    "from IPython.display import Image"
   ]
  },
  {
   "cell_type": "code",
   "execution_count": 53,
   "metadata": {
    "collapsed": false
   },
   "outputs": [
    {
     "data": {
      "image/png": "[encoded data removed]",
      "text/plain": [
       "<IPython.core.display.Image object>"
      ]
     },
     "execution_count": 53,
     "metadata": {},
     "output_type": "execute_result"
    }
   ],
   "source": [
    "Image(\"/Users/nipunbatra/Desktop/ts_1.png\")"
   ]
  },
  {
   "cell_type": "code",
   "execution_count": 54,
   "metadata": {
    "collapsed": false
   },
   "outputs": [],
   "source": [
    "r_ts_decomposed = r_stl(r_ts_data, 12)"
   ]
  },
  {
   "cell_type": "code",
   "execution_count": 55,
   "metadata": {
    "collapsed": false
   },
   "outputs": [
    {
     "data": {
      "text/plain": [
       "<IntVector - Python:0x114371fc8 / R:0x119cce298>\n",
       "[       1]"
      ]
     },
     "execution_count": 55,
     "metadata": {},
     "output_type": "execute_result"
    }
   ],
   "source": [
    "r_plot(r_ts_decomposed, \"/Users/nipunbatra/Desktop/decomposed.png\")"
   ]
  },
  {
   "cell_type": "code",
   "execution_count": 56,
   "metadata": {
    "collapsed": false
   },
   "outputs": [
    {
     "data": {
      "image/png": "[encoded data removed]",
      "text/plain": [
       "<IPython.core.display.Image object>"
      ]
     },
     "execution_count": 56,
     "metadata": {},
     "output_type": "execute_result"
    }
   ],
   "source": [
    "Image(\"/Users/nipunbatra/Desktop/decomposed.png\")"
   ]
  },
  {
   "cell_type": "markdown",
   "metadata": {},
   "source": [
    "This looks great. Let us now write a small Python class which takes in a Pandas timeseries and uses R's stl for decomposition and returns a dataframe consisting of data and three other timeseries."
   ]
  },
  {
   "cell_type": "code",
   "execution_count": 57,
   "metadata": {
    "collapsed": false
   },
   "outputs": [],
   "source": [
    "class PYSTL(object):\n",
    "    \n",
    "    def convert_pd_freqstr(df):\n",
    "    \n",
    "        freqstr = df.index.freq.freqstr\n",
    "        freq_interval = freqstr[-1]\n",
    "        if len(freqstr)>1:\n",
    "            freq_number = int(freqstr[:-1])\n",
    "        else:\n",
    "            freq_number=1\n",
    "        if freq_interval is 'Y':\n",
    "            return 1.0/freq_number\n",
    "        elif freq_interval is 'M':\n",
    "            return 12.0/freq_number\n",
    "        elif freq_interval is 'D':\n",
    "            return 365.0/freq_number\n",
    "\n",
    "\n",
    "    def decompose(self, ser, np=12):\n",
    "        from rpy2 import robjects\n",
    "        from numpy import asarray\n",
    "        \n",
    "        r_stl = robjects.r['stl']\n",
    "        r_ts = robjects.r['ts']\n",
    "        start = robjects.IntVector([ser.index[0].year, ser.index[0].month, ser.index[0].day])\n",
    "        freq = convert_pd_freqstr(ser)\n",
    "        r_ts_data = r_ts(robjects.FloatVector(asarray(ser)), start=start, frequency=freq)\n",
    "        r_decomposed = r_stl(r_ts_data, freq)\n",
    "        res_ts = asarray(r_decomposed[0])\n",
    "        res_ts = pd.DataFrame({\"data\":data,\n",
    "                                    \"seasonal\" : pd.Series(res_ts[:,0],\n",
    "                                                           index=data.index),\n",
    "                                   \"trend\" : pd.Series(res_ts[:,1],\n",
    "                                                           index=data.index),\n",
    "                                   \"remainder\" : pd.Series(res_ts[:,2],\n",
    "                                                           index=data.index)})\n",
    "        \n",
    "        res_ts = res_ts[['data','seasonal','trend','remainder']]\n",
    "        self.decomposed = res_ts\n",
    "        return res_ts\n",
    "    \n",
    "    def plot(self, **kwargs):\n",
    "        ax = self.decomposed.plot(subplots=True, legend=False, **kwargs)\n",
    "        plt.tight_layout()\n",
    "        ax[0].set_ylabel(\"data\")\n",
    "        ax[1].set_ylabel(\"seasonal\")\n",
    "        ax[2].set_ylabel(\"trend\")\n",
    "        ax[3].set_ylabel(\"remainder\")\n",
    "        ax[3].set_xlabel(\"Time\")\n",
    "        \n",
    "\n",
    "        "
   ]
  },
  {
   "cell_type": "code",
   "execution_count": 58,
   "metadata": {
    "collapsed": false
   },
   "outputs": [],
   "source": [
    "pystl = PYSTL()"
   ]
  },
  {
   "cell_type": "code",
   "execution_count": 59,
   "metadata": {
    "collapsed": false
   },
   "outputs": [
    {
     "data": {
      "text/html": [
       "<div>\n",
       "<table border=\"1\" class=\"dataframe\">\n",
       "  <thead>\n",
       "    <tr style=\"text-align: right;\">\n",
       "      <th></th>\n",
       "      <th>data</th>\n",
       "      <th>seasonal</th>\n",
       "      <th>trend</th>\n",
       "      <th>remainder</th>\n",
       "    </tr>\n",
       "  </thead>\n",
       "  <tbody>\n",
       "    <tr>\n",
       "      <th>1999-01-31</th>\n",
       "      <td>0.129091</td>\n",
       "      <td>-0.005376</td>\n",
       "      <td>0.040424</td>\n",
       "      <td>0.094043</td>\n",
       "    </tr>\n",
       "    <tr>\n",
       "      <th>1999-02-28</th>\n",
       "      <td>0.518482</td>\n",
       "      <td>0.501866</td>\n",
       "      <td>0.082159</td>\n",
       "      <td>-0.065544</td>\n",
       "    </tr>\n",
       "    <tr>\n",
       "      <th>1999-03-31</th>\n",
       "      <td>0.972111</td>\n",
       "      <td>0.852298</td>\n",
       "      <td>0.123895</td>\n",
       "      <td>-0.004083</td>\n",
       "    </tr>\n",
       "    <tr>\n",
       "      <th>1999-04-30</th>\n",
       "      <td>1.063767</td>\n",
       "      <td>0.974069</td>\n",
       "      <td>0.165630</td>\n",
       "      <td>-0.075932</td>\n",
       "    </tr>\n",
       "    <tr>\n",
       "      <th>1999-05-31</th>\n",
       "      <td>1.171507</td>\n",
       "      <td>0.900570</td>\n",
       "      <td>0.207297</td>\n",
       "      <td>0.063640</td>\n",
       "    </tr>\n",
       "  </tbody>\n",
       "</table>\n",
       "</div>"
      ],
      "text/plain": [
       "                data  seasonal     trend  remainder\n",
       "1999-01-31  0.129091 -0.005376  0.040424   0.094043\n",
       "1999-02-28  0.518482  0.501866  0.082159  -0.065544\n",
       "1999-03-31  0.972111  0.852298  0.123895  -0.004083\n",
       "1999-04-30  1.063767  0.974069  0.165630  -0.075932\n",
       "1999-05-31  1.171507  0.900570  0.207297   0.063640"
      ]
     },
     "execution_count": 59,
     "metadata": {},
     "output_type": "execute_result"
    }
   ],
   "source": [
    "pystl.decompose(data).head()"
   ]
  },
  {
   "cell_type": "code",
   "execution_count": 60,
   "metadata": {
    "collapsed": false
   },
   "outputs": [
    {
     "data": {
      "image/png": "[encoded data removed]",
      "text/plain": [
       "<matplotlib.figure.Figure at 0x117b4d550>"
      ]
     },
     "metadata": {},
     "output_type": "display_data"
    }
   ],
   "source": [
    "pystl.plot(figsize=(12,6))"
   ]
  },
  {
   "cell_type": "markdown",
   "metadata": {
    "collapsed": true
   },
   "source": [
    "So, there you go. RPY2 makes our life easy! With a minimal amount of effort, one can effectively open up the entire set of R libraries to be used in Python.\n",
    "Please feel free to contribute to the project and provide your feedback."
   ]
  }
 ],
 "metadata": {
  "kernelspec": {
   "display_name": "Python 2",
   "language": "python",
   "name": "python2"
  },
  "language_info": {
   "codemirror_mode": {
    "name": "ipython",
    "version": 2
   },
   "file_extension": ".py",
   "mimetype": "text/x-python",
   "name": "python",
   "nbconvert_exporter": "python",
   "pygments_lexer": "ipython2",
   "version": "2.7.11"
  }
 },
 "nbformat": 4,
 "nbformat_minor": 0
}
